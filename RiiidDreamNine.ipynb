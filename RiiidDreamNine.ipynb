{
 "metadata": {
  "language_info": {
   "codemirror_mode": {
    "name": "ipython",
    "version": 3
   },
   "file_extension": ".py",
   "mimetype": "text/x-python",
   "name": "python",
   "nbconvert_exporter": "python",
   "pygments_lexer": "ipython3",
   "version": "3.8.5-final"
  },
  "orig_nbformat": 2,
  "kernelspec": {
   "name": "python3",
   "display_name": "Python 3",
   "language": "python"
  }
 },
 "nbformat": 4,
 "nbformat_minor": 2,
 "cells": [
  {
   "cell_type": "code",
   "execution_count": null,
   "metadata": {},
   "outputs": [],
   "source": [
    "import plotly as py"
   ]
  },
  {
   "cell_type": "code",
   "execution_count": 1,
   "metadata": {},
   "outputs": [],
   "source": [
    "import numpy as np\n",
    "import pandas as pd"
   ]
  },
  {
   "cell_type": "code",
   "execution_count": 2,
   "metadata": {},
   "outputs": [],
   "source": [
    "train = pd.read_csv(\"../Dataset/riiid-test-answer-prediction/sample_train.csv\")"
   ]
  },
  {
   "cell_type": "code",
   "execution_count": 3,
   "metadata": {},
   "outputs": [
    {
     "output_type": "execute_result",
     "data": {
      "text/plain": [
       "(2542251, 11)"
      ]
     },
     "metadata": {},
     "execution_count": 3
    }
   ],
   "source": [
    "train.shape"
   ]
  },
  {
   "cell_type": "code",
   "execution_count": 4,
   "metadata": {},
   "outputs": [
    {
     "output_type": "execute_result",
     "data": {
      "text/plain": [
       "   Unnamed: 0  row_id  timestamp  user_id  content_id  content_type_id  \\\n",
       "0       14162   14162          0   140969        7900            False   \n",
       "1       14163   14163      23205   140969        7876            False   \n",
       "2       14164   14164      48652   140969         175            False   \n",
       "3       14165   14165      67886   140969        1278            False   \n",
       "4       14166   14166     121153   140969        2065            False   \n",
       "\n",
       "   task_container_id  user_answer  answered_correctly  \\\n",
       "0                  0            0                   1   \n",
       "1                  1            2                   0   \n",
       "2                  2            3                   0   \n",
       "3                  3            3                   1   \n",
       "4                  4            2                   1   \n",
       "\n",
       "   prior_question_elapsed_time prior_question_had_explanation  \n",
       "0                          NaN                            NaN  \n",
       "1                      23000.0                          False  \n",
       "2                      21000.0                          False  \n",
       "3                      23000.0                          False  \n",
       "4                      17000.0                          False  "
      ],
      "text/html": "<div>\n<style scoped>\n    .dataframe tbody tr th:only-of-type {\n        vertical-align: middle;\n    }\n\n    .dataframe tbody tr th {\n        vertical-align: top;\n    }\n\n    .dataframe thead th {\n        text-align: right;\n    }\n</style>\n<table border=\"1\" class=\"dataframe\">\n  <thead>\n    <tr style=\"text-align: right;\">\n      <th></th>\n      <th>Unnamed: 0</th>\n      <th>row_id</th>\n      <th>timestamp</th>\n      <th>user_id</th>\n      <th>content_id</th>\n      <th>content_type_id</th>\n      <th>task_container_id</th>\n      <th>user_answer</th>\n      <th>answered_correctly</th>\n      <th>prior_question_elapsed_time</th>\n      <th>prior_question_had_explanation</th>\n    </tr>\n  </thead>\n  <tbody>\n    <tr>\n      <th>0</th>\n      <td>14162</td>\n      <td>14162</td>\n      <td>0</td>\n      <td>140969</td>\n      <td>7900</td>\n      <td>False</td>\n      <td>0</td>\n      <td>0</td>\n      <td>1</td>\n      <td>NaN</td>\n      <td>NaN</td>\n    </tr>\n    <tr>\n      <th>1</th>\n      <td>14163</td>\n      <td>14163</td>\n      <td>23205</td>\n      <td>140969</td>\n      <td>7876</td>\n      <td>False</td>\n      <td>1</td>\n      <td>2</td>\n      <td>0</td>\n      <td>23000.0</td>\n      <td>False</td>\n    </tr>\n    <tr>\n      <th>2</th>\n      <td>14164</td>\n      <td>14164</td>\n      <td>48652</td>\n      <td>140969</td>\n      <td>175</td>\n      <td>False</td>\n      <td>2</td>\n      <td>3</td>\n      <td>0</td>\n      <td>21000.0</td>\n      <td>False</td>\n    </tr>\n    <tr>\n      <th>3</th>\n      <td>14165</td>\n      <td>14165</td>\n      <td>67886</td>\n      <td>140969</td>\n      <td>1278</td>\n      <td>False</td>\n      <td>3</td>\n      <td>3</td>\n      <td>1</td>\n      <td>23000.0</td>\n      <td>False</td>\n    </tr>\n    <tr>\n      <th>4</th>\n      <td>14166</td>\n      <td>14166</td>\n      <td>121153</td>\n      <td>140969</td>\n      <td>2065</td>\n      <td>False</td>\n      <td>4</td>\n      <td>2</td>\n      <td>1</td>\n      <td>17000.0</td>\n      <td>False</td>\n    </tr>\n  </tbody>\n</table>\n</div>"
     },
     "metadata": {},
     "execution_count": 4
    }
   ],
   "source": [
    "train.head()"
   ]
  },
  {
   "cell_type": "code",
   "execution_count": 5,
   "metadata": {},
   "outputs": [],
   "source": [
    "lectures = pd.read_csv(\"../Dataset/riiid-test-answer-prediction/lectures.csv\")"
   ]
  },
  {
   "cell_type": "code",
   "execution_count": 6,
   "metadata": {},
   "outputs": [],
   "source": [
    "questions = pd.read_csv(\"../Dataset/riiid-test-answer-prediction/questions.csv\")"
   ]
  },
  {
   "cell_type": "code",
   "execution_count": 7,
   "metadata": {},
   "outputs": [
    {
     "output_type": "execute_result",
     "data": {
      "text/plain": [
       "(418, 4)"
      ]
     },
     "metadata": {},
     "execution_count": 7
    }
   ],
   "source": [
    "lectures.shape"
   ]
  },
  {
   "cell_type": "code",
   "execution_count": 8,
   "metadata": {},
   "outputs": [
    {
     "output_type": "execute_result",
     "data": {
      "text/plain": [
       "   lecture_id  tag  part           type_of\n",
       "0          89  159     5           concept\n",
       "1         100   70     1           concept\n",
       "2         185   45     6           concept\n",
       "3         192   79     5  solving question\n",
       "4         317  156     5  solving question\n",
       "5         335  114     2           concept\n",
       "6         484  179     5           concept\n",
       "7         641  134     6  solving question\n",
       "8         761   93     1           concept\n",
       "9         814   80     5  solving question"
      ],
      "text/html": "<div>\n<style scoped>\n    .dataframe tbody tr th:only-of-type {\n        vertical-align: middle;\n    }\n\n    .dataframe tbody tr th {\n        vertical-align: top;\n    }\n\n    .dataframe thead th {\n        text-align: right;\n    }\n</style>\n<table border=\"1\" class=\"dataframe\">\n  <thead>\n    <tr style=\"text-align: right;\">\n      <th></th>\n      <th>lecture_id</th>\n      <th>tag</th>\n      <th>part</th>\n      <th>type_of</th>\n    </tr>\n  </thead>\n  <tbody>\n    <tr>\n      <th>0</th>\n      <td>89</td>\n      <td>159</td>\n      <td>5</td>\n      <td>concept</td>\n    </tr>\n    <tr>\n      <th>1</th>\n      <td>100</td>\n      <td>70</td>\n      <td>1</td>\n      <td>concept</td>\n    </tr>\n    <tr>\n      <th>2</th>\n      <td>185</td>\n      <td>45</td>\n      <td>6</td>\n      <td>concept</td>\n    </tr>\n    <tr>\n      <th>3</th>\n      <td>192</td>\n      <td>79</td>\n      <td>5</td>\n      <td>solving question</td>\n    </tr>\n    <tr>\n      <th>4</th>\n      <td>317</td>\n      <td>156</td>\n      <td>5</td>\n      <td>solving question</td>\n    </tr>\n    <tr>\n      <th>5</th>\n      <td>335</td>\n      <td>114</td>\n      <td>2</td>\n      <td>concept</td>\n    </tr>\n    <tr>\n      <th>6</th>\n      <td>484</td>\n      <td>179</td>\n      <td>5</td>\n      <td>concept</td>\n    </tr>\n    <tr>\n      <th>7</th>\n      <td>641</td>\n      <td>134</td>\n      <td>6</td>\n      <td>solving question</td>\n    </tr>\n    <tr>\n      <th>8</th>\n      <td>761</td>\n      <td>93</td>\n      <td>1</td>\n      <td>concept</td>\n    </tr>\n    <tr>\n      <th>9</th>\n      <td>814</td>\n      <td>80</td>\n      <td>5</td>\n      <td>solving question</td>\n    </tr>\n  </tbody>\n</table>\n</div>"
     },
     "metadata": {},
     "execution_count": 8
    }
   ],
   "source": [
    "lectures.head(10)"
   ]
  },
  {
   "cell_type": "code",
   "execution_count": 9,
   "metadata": {},
   "outputs": [
    {
     "output_type": "execute_result",
     "data": {
      "text/plain": [
       "concept             222\n",
       "solving question    186\n",
       "intention             7\n",
       "starter               3\n",
       "Name: type_of, dtype: int64"
      ]
     },
     "metadata": {},
     "execution_count": 9
    }
   ],
   "source": [
    "lectures[\"type_of\"].value_counts()"
   ]
  },
  {
   "cell_type": "code",
   "execution_count": 10,
   "metadata": {},
   "outputs": [
    {
     "output_type": "execute_result",
     "data": {
      "text/plain": [
       "136    7\n",
       "161    6\n",
       "74     6\n",
       "134    6\n",
       "27     6\n",
       "      ..\n",
       "148    1\n",
       "150    1\n",
       "67     1\n",
       "158    1\n",
       "187    1\n",
       "Name: tag, Length: 151, dtype: int64"
      ]
     },
     "metadata": {},
     "execution_count": 10
    }
   ],
   "source": [
    "lectures[\"tag\"].value_counts()"
   ]
  },
  {
   "cell_type": "code",
   "execution_count": 11,
   "metadata": {},
   "outputs": [
    {
     "output_type": "execute_result",
     "data": {
      "text/plain": [
       "   question_id  bundle_id  correct_answer  part            tags\n",
       "0            0          0               0     1   51 131 162 38\n",
       "1            1          1               1     1       131 36 81\n",
       "2            2          2               0     1  131 101 162 92\n",
       "3            3          3               0     1  131 149 162 29\n",
       "4            4          4               3     1    131 5 162 38\n",
       "5            5          5               2     1  131 149 162 81\n",
       "6            6          6               2     1    10 94 162 92\n",
       "7            7          7               0     1   61 110 162 29\n",
       "8            8          8               3     1   131 13 162 92\n",
       "9            9          9               3     1       10 164 81"
      ],
      "text/html": "<div>\n<style scoped>\n    .dataframe tbody tr th:only-of-type {\n        vertical-align: middle;\n    }\n\n    .dataframe tbody tr th {\n        vertical-align: top;\n    }\n\n    .dataframe thead th {\n        text-align: right;\n    }\n</style>\n<table border=\"1\" class=\"dataframe\">\n  <thead>\n    <tr style=\"text-align: right;\">\n      <th></th>\n      <th>question_id</th>\n      <th>bundle_id</th>\n      <th>correct_answer</th>\n      <th>part</th>\n      <th>tags</th>\n    </tr>\n  </thead>\n  <tbody>\n    <tr>\n      <th>0</th>\n      <td>0</td>\n      <td>0</td>\n      <td>0</td>\n      <td>1</td>\n      <td>51 131 162 38</td>\n    </tr>\n    <tr>\n      <th>1</th>\n      <td>1</td>\n      <td>1</td>\n      <td>1</td>\n      <td>1</td>\n      <td>131 36 81</td>\n    </tr>\n    <tr>\n      <th>2</th>\n      <td>2</td>\n      <td>2</td>\n      <td>0</td>\n      <td>1</td>\n      <td>131 101 162 92</td>\n    </tr>\n    <tr>\n      <th>3</th>\n      <td>3</td>\n      <td>3</td>\n      <td>0</td>\n      <td>1</td>\n      <td>131 149 162 29</td>\n    </tr>\n    <tr>\n      <th>4</th>\n      <td>4</td>\n      <td>4</td>\n      <td>3</td>\n      <td>1</td>\n      <td>131 5 162 38</td>\n    </tr>\n    <tr>\n      <th>5</th>\n      <td>5</td>\n      <td>5</td>\n      <td>2</td>\n      <td>1</td>\n      <td>131 149 162 81</td>\n    </tr>\n    <tr>\n      <th>6</th>\n      <td>6</td>\n      <td>6</td>\n      <td>2</td>\n      <td>1</td>\n      <td>10 94 162 92</td>\n    </tr>\n    <tr>\n      <th>7</th>\n      <td>7</td>\n      <td>7</td>\n      <td>0</td>\n      <td>1</td>\n      <td>61 110 162 29</td>\n    </tr>\n    <tr>\n      <th>8</th>\n      <td>8</td>\n      <td>8</td>\n      <td>3</td>\n      <td>1</td>\n      <td>131 13 162 92</td>\n    </tr>\n    <tr>\n      <th>9</th>\n      <td>9</td>\n      <td>9</td>\n      <td>3</td>\n      <td>1</td>\n      <td>10 164 81</td>\n    </tr>\n  </tbody>\n</table>\n</div>"
     },
     "metadata": {},
     "execution_count": 11
    }
   ],
   "source": [
    "questions.head(10)"
   ]
  },
  {
   "cell_type": "code",
   "execution_count": 12,
   "metadata": {},
   "outputs": [
    {
     "output_type": "execute_result",
     "data": {
      "text/plain": [
       "89"
      ]
     },
     "metadata": {},
     "execution_count": 12
    }
   ],
   "source": [
    "lectures[\"lecture_id\"].min()"
   ]
  },
  {
   "cell_type": "code",
   "execution_count": 13,
   "metadata": {},
   "outputs": [
    {
     "output_type": "execute_result",
     "data": {
      "text/plain": [
       "0         51 131 162 38\n",
       "1             131 36 81\n",
       "2        131 101 162 92\n",
       "3        131 149 162 29\n",
       "4          131 5 162 38\n",
       "              ...      \n",
       "13518                14\n",
       "13519                 8\n",
       "13520                73\n",
       "13521               125\n",
       "13522                55\n",
       "Name: tags, Length: 13523, dtype: object"
      ]
     },
     "metadata": {},
     "execution_count": 13
    }
   ],
   "source": [
    "questions[\"tags\"]"
   ]
  },
  {
   "cell_type": "code",
   "execution_count": 14,
   "metadata": {},
   "outputs": [],
   "source": [
    "questions_tags = questions[\"tags\"]"
   ]
  },
  {
   "cell_type": "code",
   "execution_count": 15,
   "metadata": {},
   "outputs": [
    {
     "output_type": "execute_result",
     "data": {
      "text/plain": [
       "'\\nquestions의 tag는 lectures와 달리 string이며 tag number가 여러 개 존재한다.\\n'"
      ]
     },
     "metadata": {},
     "execution_count": 15
    }
   ],
   "source": [
    "type(questions_tags[0])\n",
    "'''\n",
    "questions의 tag는 lectures와 달리 string이며 tag number가 여러 개 존재한다.\n",
    "'''"
   ]
  },
  {
   "cell_type": "code",
   "execution_count": 16,
   "metadata": {},
   "outputs": [
    {
     "output_type": "execute_result",
     "data": {
      "text/plain": [
       "       question_id  bundle_id  correct_answer  part tags\n",
       "10033        10033      10033               2     6  NaN"
      ],
      "text/html": "<div>\n<style scoped>\n    .dataframe tbody tr th:only-of-type {\n        vertical-align: middle;\n    }\n\n    .dataframe tbody tr th {\n        vertical-align: top;\n    }\n\n    .dataframe thead th {\n        text-align: right;\n    }\n</style>\n<table border=\"1\" class=\"dataframe\">\n  <thead>\n    <tr style=\"text-align: right;\">\n      <th></th>\n      <th>question_id</th>\n      <th>bundle_id</th>\n      <th>correct_answer</th>\n      <th>part</th>\n      <th>tags</th>\n    </tr>\n  </thead>\n  <tbody>\n    <tr>\n      <th>10033</th>\n      <td>10033</td>\n      <td>10033</td>\n      <td>2</td>\n      <td>6</td>\n      <td>NaN</td>\n    </tr>\n  </tbody>\n</table>\n</div>"
     },
     "metadata": {},
     "execution_count": 16
    }
   ],
   "source": [
    "questions[questions_tags.str.contains(\" 136 \").astype(\"bool\")]"
   ]
  },
  {
   "cell_type": "code",
   "execution_count": 17,
   "metadata": {},
   "outputs": [
    {
     "output_type": "execute_result",
     "data": {
      "text/plain": [
       "(13523, 5)"
      ]
     },
     "metadata": {},
     "execution_count": 17
    }
   ],
   "source": [
    "questions.shape"
   ]
  },
  {
   "cell_type": "code",
   "execution_count": 18,
   "metadata": {},
   "outputs": [
    {
     "output_type": "execute_result",
     "data": {
      "text/plain": [
       "Empty DataFrame\n",
       "Columns: [lecture_id, tag, part, type_of]\n",
       "Index: []"
      ],
      "text/html": "<div>\n<style scoped>\n    .dataframe tbody tr th:only-of-type {\n        vertical-align: middle;\n    }\n\n    .dataframe tbody tr th {\n        vertical-align: top;\n    }\n\n    .dataframe thead th {\n        text-align: right;\n    }\n</style>\n<table border=\"1\" class=\"dataframe\">\n  <thead>\n    <tr style=\"text-align: right;\">\n      <th></th>\n      <th>lecture_id</th>\n      <th>tag</th>\n      <th>part</th>\n      <th>type_of</th>\n    </tr>\n  </thead>\n  <tbody>\n  </tbody>\n</table>\n</div>"
     },
     "metadata": {},
     "execution_count": 18
    }
   ],
   "source": [
    "lectures[lectures[\"tag\"] == 131]"
   ]
  },
  {
   "cell_type": "code",
   "execution_count": 19,
   "metadata": {},
   "outputs": [
    {
     "output_type": "execute_result",
     "data": {
      "text/plain": [
       "'\\nquestions의 tags에서 결측치 하나 존재. 아마 아직 tag를 부여받지 못한 듯 하다.\\n'"
      ]
     },
     "metadata": {},
     "execution_count": 19
    }
   ],
   "source": [
    "questions[questions[\"tags\"].isnull() == True] \n",
    "'''\n",
    "questions의 tags에서 결측치 하나 존재. 아마 아직 tag를 부여받지 못한 듯 하다.\n",
    "'''"
   ]
  },
  {
   "cell_type": "code",
   "execution_count": 20,
   "metadata": {},
   "outputs": [
    {
     "output_type": "execute_result",
     "data": {
      "text/plain": [
       "'\\nquestions에서 결측치는 위의 하나가 전부이다.\\n'"
      ]
     },
     "metadata": {},
     "execution_count": 20
    }
   ],
   "source": [
    "questions.isnull().sum()\n",
    "'''\n",
    "questions에서 결측치는 위의 하나가 전부이다.\n",
    "'''"
   ]
  },
  {
   "cell_type": "code",
   "execution_count": 21,
   "metadata": {},
   "outputs": [
    {
     "output_type": "execute_result",
     "data": {
      "text/plain": [
       "lecture_id    0\n",
       "tag           0\n",
       "part          0\n",
       "type_of       0\n",
       "dtype: int64"
      ]
     },
     "metadata": {},
     "execution_count": 21
    }
   ],
   "source": [
    "lectures.isnull().sum()"
   ]
  },
  {
   "cell_type": "code",
   "execution_count": 22,
   "metadata": {},
   "outputs": [
    {
     "output_type": "execute_result",
     "data": {
      "text/plain": [
       "Unnamed: 0                            0\n",
       "row_id                                0\n",
       "timestamp                             0\n",
       "user_id                               0\n",
       "content_id                            0\n",
       "content_type_id                       0\n",
       "task_container_id                     0\n",
       "user_answer                           0\n",
       "answered_correctly                    0\n",
       "prior_question_elapsed_time       58276\n",
       "prior_question_had_explanation    10013\n",
       "dtype: int64"
      ]
     },
     "metadata": {},
     "execution_count": 22
    }
   ],
   "source": [
    "train.isnull().sum()"
   ]
  },
  {
   "cell_type": "code",
   "execution_count": 23,
   "metadata": {},
   "outputs": [
    {
     "output_type": "execute_result",
     "data": {
      "text/plain": [
       "     lecture_id  tag  part           type_of\n",
       "74         6761  136     4  solving question\n",
       "110        9758  136     3           concept\n",
       "129       10928  136     3  solving question\n",
       "152       13256  136     4  solving question\n",
       "350       27728  136     3  solving question\n",
       "354       28034  136     4  solving question\n",
       "408       32168  136     4           concept"
      ],
      "text/html": "<div>\n<style scoped>\n    .dataframe tbody tr th:only-of-type {\n        vertical-align: middle;\n    }\n\n    .dataframe tbody tr th {\n        vertical-align: top;\n    }\n\n    .dataframe thead th {\n        text-align: right;\n    }\n</style>\n<table border=\"1\" class=\"dataframe\">\n  <thead>\n    <tr style=\"text-align: right;\">\n      <th></th>\n      <th>lecture_id</th>\n      <th>tag</th>\n      <th>part</th>\n      <th>type_of</th>\n    </tr>\n  </thead>\n  <tbody>\n    <tr>\n      <th>74</th>\n      <td>6761</td>\n      <td>136</td>\n      <td>4</td>\n      <td>solving question</td>\n    </tr>\n    <tr>\n      <th>110</th>\n      <td>9758</td>\n      <td>136</td>\n      <td>3</td>\n      <td>concept</td>\n    </tr>\n    <tr>\n      <th>129</th>\n      <td>10928</td>\n      <td>136</td>\n      <td>3</td>\n      <td>solving question</td>\n    </tr>\n    <tr>\n      <th>152</th>\n      <td>13256</td>\n      <td>136</td>\n      <td>4</td>\n      <td>solving question</td>\n    </tr>\n    <tr>\n      <th>350</th>\n      <td>27728</td>\n      <td>136</td>\n      <td>3</td>\n      <td>solving question</td>\n    </tr>\n    <tr>\n      <th>354</th>\n      <td>28034</td>\n      <td>136</td>\n      <td>4</td>\n      <td>solving question</td>\n    </tr>\n    <tr>\n      <th>408</th>\n      <td>32168</td>\n      <td>136</td>\n      <td>4</td>\n      <td>concept</td>\n    </tr>\n  </tbody>\n</table>\n</div>"
     },
     "metadata": {},
     "execution_count": 23
    }
   ],
   "source": [
    "lectures[lectures[\"tag\"]==136]"
   ]
  },
  {
   "cell_type": "code",
   "execution_count": 24,
   "metadata": {},
   "outputs": [
    {
     "output_type": "execute_result",
     "data": {
      "text/plain": [
       "         Unnamed: 0    row_id    timestamp     user_id  content_id  \\\n",
       "22588       1023335   1023335    129477390    21372331          74   \n",
       "62091       2481111   2481111   1399629987    53440229          74   \n",
       "115526      6002899   6002899  15247405159   129336563          74   \n",
       "133513      6616858   6616858      1673244   144472034          74   \n",
       "142047      7339972   7339972    399273853   159161265          74   \n",
       "...             ...       ...          ...         ...         ...   \n",
       "2265818    90611075  90611075    909606733  1923656851          74   \n",
       "2309206    92706479  92706479   1396848998  1967155807          74   \n",
       "2309376    92706649  92706649   1559726295  1967155807          74   \n",
       "2368246    94267739  94267739   2273531758  2001049979          74   \n",
       "2431857    96924724  96924724   5188719114  2056679971          74   \n",
       "\n",
       "         content_type_id  task_container_id  user_answer  answered_correctly  \\\n",
       "22588              False                 61            1                   0   \n",
       "62091              False                339            3                   0   \n",
       "115526             False                556            2                   0   \n",
       "133513             False                 32            2                   0   \n",
       "142047             False                125            3                   0   \n",
       "...                  ...                ...          ...                 ...   \n",
       "2265818            False                100            3                   0   \n",
       "2309206            False                515            3                   0   \n",
       "2309376            False                599            0                   1   \n",
       "2368246            False                 48            0                   1   \n",
       "2431857            False               1056            3                   0   \n",
       "\n",
       "         prior_question_elapsed_time prior_question_had_explanation  \n",
       "22588                        15000.0                           True  \n",
       "62091                        20000.0                           True  \n",
       "115526                       20000.0                           True  \n",
       "133513                       23000.0                           True  \n",
       "142047                       18000.0                           True  \n",
       "...                              ...                            ...  \n",
       "2265818                      23000.0                           True  \n",
       "2309206                      21000.0                           True  \n",
       "2309376                      19000.0                           True  \n",
       "2368246                      23000.0                           True  \n",
       "2431857                      15000.0                           True  \n",
       "\n",
       "[95 rows x 11 columns]"
      ],
      "text/html": "<div>\n<style scoped>\n    .dataframe tbody tr th:only-of-type {\n        vertical-align: middle;\n    }\n\n    .dataframe tbody tr th {\n        vertical-align: top;\n    }\n\n    .dataframe thead th {\n        text-align: right;\n    }\n</style>\n<table border=\"1\" class=\"dataframe\">\n  <thead>\n    <tr style=\"text-align: right;\">\n      <th></th>\n      <th>Unnamed: 0</th>\n      <th>row_id</th>\n      <th>timestamp</th>\n      <th>user_id</th>\n      <th>content_id</th>\n      <th>content_type_id</th>\n      <th>task_container_id</th>\n      <th>user_answer</th>\n      <th>answered_correctly</th>\n      <th>prior_question_elapsed_time</th>\n      <th>prior_question_had_explanation</th>\n    </tr>\n  </thead>\n  <tbody>\n    <tr>\n      <th>22588</th>\n      <td>1023335</td>\n      <td>1023335</td>\n      <td>129477390</td>\n      <td>21372331</td>\n      <td>74</td>\n      <td>False</td>\n      <td>61</td>\n      <td>1</td>\n      <td>0</td>\n      <td>15000.0</td>\n      <td>True</td>\n    </tr>\n    <tr>\n      <th>62091</th>\n      <td>2481111</td>\n      <td>2481111</td>\n      <td>1399629987</td>\n      <td>53440229</td>\n      <td>74</td>\n      <td>False</td>\n      <td>339</td>\n      <td>3</td>\n      <td>0</td>\n      <td>20000.0</td>\n      <td>True</td>\n    </tr>\n    <tr>\n      <th>115526</th>\n      <td>6002899</td>\n      <td>6002899</td>\n      <td>15247405159</td>\n      <td>129336563</td>\n      <td>74</td>\n      <td>False</td>\n      <td>556</td>\n      <td>2</td>\n      <td>0</td>\n      <td>20000.0</td>\n      <td>True</td>\n    </tr>\n    <tr>\n      <th>133513</th>\n      <td>6616858</td>\n      <td>6616858</td>\n      <td>1673244</td>\n      <td>144472034</td>\n      <td>74</td>\n      <td>False</td>\n      <td>32</td>\n      <td>2</td>\n      <td>0</td>\n      <td>23000.0</td>\n      <td>True</td>\n    </tr>\n    <tr>\n      <th>142047</th>\n      <td>7339972</td>\n      <td>7339972</td>\n      <td>399273853</td>\n      <td>159161265</td>\n      <td>74</td>\n      <td>False</td>\n      <td>125</td>\n      <td>3</td>\n      <td>0</td>\n      <td>18000.0</td>\n      <td>True</td>\n    </tr>\n    <tr>\n      <th>...</th>\n      <td>...</td>\n      <td>...</td>\n      <td>...</td>\n      <td>...</td>\n      <td>...</td>\n      <td>...</td>\n      <td>...</td>\n      <td>...</td>\n      <td>...</td>\n      <td>...</td>\n      <td>...</td>\n    </tr>\n    <tr>\n      <th>2265818</th>\n      <td>90611075</td>\n      <td>90611075</td>\n      <td>909606733</td>\n      <td>1923656851</td>\n      <td>74</td>\n      <td>False</td>\n      <td>100</td>\n      <td>3</td>\n      <td>0</td>\n      <td>23000.0</td>\n      <td>True</td>\n    </tr>\n    <tr>\n      <th>2309206</th>\n      <td>92706479</td>\n      <td>92706479</td>\n      <td>1396848998</td>\n      <td>1967155807</td>\n      <td>74</td>\n      <td>False</td>\n      <td>515</td>\n      <td>3</td>\n      <td>0</td>\n      <td>21000.0</td>\n      <td>True</td>\n    </tr>\n    <tr>\n      <th>2309376</th>\n      <td>92706649</td>\n      <td>92706649</td>\n      <td>1559726295</td>\n      <td>1967155807</td>\n      <td>74</td>\n      <td>False</td>\n      <td>599</td>\n      <td>0</td>\n      <td>1</td>\n      <td>19000.0</td>\n      <td>True</td>\n    </tr>\n    <tr>\n      <th>2368246</th>\n      <td>94267739</td>\n      <td>94267739</td>\n      <td>2273531758</td>\n      <td>2001049979</td>\n      <td>74</td>\n      <td>False</td>\n      <td>48</td>\n      <td>0</td>\n      <td>1</td>\n      <td>23000.0</td>\n      <td>True</td>\n    </tr>\n    <tr>\n      <th>2431857</th>\n      <td>96924724</td>\n      <td>96924724</td>\n      <td>5188719114</td>\n      <td>2056679971</td>\n      <td>74</td>\n      <td>False</td>\n      <td>1056</td>\n      <td>3</td>\n      <td>0</td>\n      <td>15000.0</td>\n      <td>True</td>\n    </tr>\n  </tbody>\n</table>\n<p>95 rows × 11 columns</p>\n</div>"
     },
     "metadata": {},
     "execution_count": 24
    }
   ],
   "source": [
    "train[train[\"content_id\"]==74]"
   ]
  },
  {
   "cell_type": "code",
   "execution_count": 25,
   "metadata": {},
   "outputs": [
    {
     "output_type": "execute_result",
     "data": {
      "text/plain": [
       "'\\n9번째 row의 content_id가 152인데 이는 74와 함께 tag 136인 lectures이다. \\n이것만 보고는 tag가 무엇을 의미하는지 파악하기 어려워 보인다.\\n'"
      ]
     },
     "metadata": {},
     "execution_count": 25
    }
   ],
   "source": [
    "train[train[\"user_id\"]==21372331].head(50)\n",
    "\n",
    "'''\n",
    "9번째 row의 content_id가 152인데 이는 74와 함께 tag 136인 lectures이다. \n",
    "이것만 보고는 tag가 무엇을 의미하는지 파악하기 어려워 보인다.\n",
    "'''"
   ]
  },
  {
   "cell_type": "code",
   "execution_count": 26,
   "metadata": {},
   "outputs": [
    {
     "output_type": "execute_result",
     "data": {
      "text/plain": [
       "(388, 11)"
      ]
     },
     "metadata": {},
     "execution_count": 26
    }
   ],
   "source": [
    "train[train[\"user_id\"]==53440229].shape"
   ]
  },
  {
   "cell_type": "code",
   "execution_count": 27,
   "metadata": {},
   "outputs": [],
   "source": [
    "train_53440229 = train[train[\"user_id\"]==53440229]"
   ]
  },
  {
   "cell_type": "code",
   "execution_count": 28,
   "metadata": {},
   "outputs": [],
   "source": [
    "train_53440229_answerCorrect_cumsum = train_53440229[\"answered_correctly\"].cumsum()"
   ]
  },
  {
   "cell_type": "code",
   "execution_count": 29,
   "metadata": {},
   "outputs": [],
   "source": [
    "import chart_studio.plotly as py\n",
    "from plotly.offline import iplot\n",
    "import plotly.graph_objects as go"
   ]
  },
  {
   "cell_type": "code",
   "execution_count": 30,
   "metadata": {},
   "outputs": [
    {
     "output_type": "display_data",
     "data": {
      "text/html": "        <script type=\"text/javascript\">\n        window.PlotlyConfig = {MathJaxConfig: 'local'};\n        if (window.MathJax) {MathJax.Hub.Config({SVG: {font: \"STIX-Web\"}});}\n        if (typeof require !== 'undefined') {\n        require.undef(\"plotly\");\n        requirejs.config({\n            paths: {\n                'plotly': ['https://cdn.plot.ly/plotly-latest.min']\n            }\n        });\n        require(['plotly'], function(Plotly) {\n            window._Plotly = Plotly;\n        });\n        }\n        </script>\n        "
     },
     "metadata": {}
    }
   ],
   "source": [
    "'''\n",
    "cufflinks가 있으면 pandas datatype에서 plotly 함수를 바로 호출할 수 있다.\n",
    "'''\n",
    "import cufflinks as cf\n",
    "cf.go_offline()\n",
    "cf.set_config_file(offline=False, world_readable=True)"
   ]
  },
  {
   "cell_type": "code",
   "execution_count": 37,
   "metadata": {},
   "outputs": [
    {
     "output_type": "display_data",
     "data": {
      "application/vnd.plotly.v1+json": {
       "config": {
        "linkText": "Export to plot.ly",
        "plotlyServerURL": "https://plot.ly",
        "showLink": true
       },
       "data": [
        {
         "line": {
          "color": "rgba(255, 153, 51, 1.0)",
          "dash": "solid",
          "shape": "linear",
          "width": 1.3
         },
         "mode": "lines",
         "name": "answered_correctly",
         "text": "",
         "type": "scatter",
         "x": [
          61744,
          61745,
          61746,
          61747,
          61748,
          61749,
          61750,
          61751,
          61752,
          61753,
          61754,
          61755,
          61756,
          61757,
          61758,
          61759,
          61760,
          61761,
          61762,
          61763,
          61764,
          61765,
          61766,
          61767,
          61768,
          61769,
          61770,
          61771,
          61772,
          61773,
          61774,
          61775,
          61776,
          61777,
          61778,
          61779,
          61780,
          61781,
          61782,
          61783,
          61784,
          61785,
          61786,
          61787,
          61788,
          61789,
          61790,
          61791,
          61792,
          61793,
          61794,
          61795,
          61796,
          61797,
          61798,
          61799,
          61800,
          61801,
          61802,
          61803,
          61804,
          61805,
          61806,
          61807,
          61808,
          61809,
          61810,
          61811,
          61812,
          61813,
          61814,
          61815,
          61816,
          61817,
          61818,
          61819,
          61820,
          61821,
          61822,
          61823,
          61824,
          61825,
          61826,
          61827,
          61828,
          61829,
          61830,
          61831,
          61832,
          61833,
          61834,
          61835,
          61836,
          61837,
          61838,
          61839,
          61840,
          61841,
          61842,
          61843,
          61844,
          61845,
          61846,
          61847,
          61848,
          61849,
          61850,
          61851,
          61852,
          61853,
          61854,
          61855,
          61856,
          61857,
          61858,
          61859,
          61860,
          61861,
          61862,
          61863,
          61864,
          61865,
          61866,
          61867,
          61868,
          61869,
          61870,
          61871,
          61872,
          61873,
          61874,
          61875,
          61876,
          61877,
          61878,
          61879,
          61880,
          61881,
          61882,
          61883,
          61884,
          61885,
          61886,
          61887,
          61888,
          61889,
          61890,
          61891,
          61892,
          61893,
          61894,
          61895,
          61896,
          61897,
          61898,
          61899,
          61900,
          61901,
          61902,
          61903,
          61904,
          61905,
          61906,
          61907,
          61908,
          61909,
          61910,
          61911,
          61912,
          61913,
          61914,
          61915,
          61916,
          61917,
          61918,
          61919,
          61920,
          61921,
          61922,
          61923,
          61924,
          61925,
          61926,
          61927,
          61928,
          61929,
          61930,
          61931,
          61932,
          61933,
          61934,
          61935,
          61936,
          61937,
          61938,
          61939,
          61940,
          61941,
          61942,
          61943,
          61944,
          61945,
          61946,
          61947,
          61948,
          61949,
          61950,
          61951,
          61952,
          61953,
          61954,
          61955,
          61956,
          61957,
          61958,
          61959,
          61960,
          61961,
          61962,
          61963,
          61964,
          61965,
          61966,
          61967,
          61968,
          61969,
          61970,
          61971,
          61972,
          61973,
          61974,
          61975,
          61976,
          61977,
          61978,
          61979,
          61980,
          61981,
          61982,
          61983,
          61984,
          61985,
          61986,
          61987,
          61988,
          61989,
          61990,
          61991,
          61992,
          61993,
          61994,
          61995,
          61996,
          61997,
          61998,
          61999,
          62000,
          62001,
          62002,
          62003,
          62004,
          62005,
          62006,
          62007,
          62008,
          62009,
          62010,
          62011,
          62012,
          62013,
          62014,
          62015,
          62016,
          62017,
          62018,
          62019,
          62020,
          62021,
          62022,
          62023,
          62024,
          62025,
          62026,
          62027,
          62028,
          62029,
          62030,
          62031,
          62032,
          62033,
          62034,
          62035,
          62036,
          62037,
          62038,
          62039,
          62040,
          62041,
          62042,
          62043,
          62044,
          62045,
          62046,
          62047,
          62048,
          62049,
          62050,
          62051,
          62052,
          62053,
          62054,
          62055,
          62056,
          62057,
          62058,
          62059,
          62060,
          62061,
          62062,
          62063,
          62064,
          62065,
          62066,
          62067,
          62068,
          62069,
          62070,
          62071,
          62072,
          62073,
          62074,
          62075,
          62076,
          62077,
          62078,
          62079,
          62080,
          62081,
          62082,
          62083,
          62084,
          62085,
          62086,
          62087,
          62088,
          62089,
          62090,
          62091,
          62092,
          62093,
          62094,
          62095,
          62096,
          62097,
          62098,
          62099,
          62100,
          62101,
          62102,
          62103,
          62104,
          62105,
          62106,
          62107,
          62108,
          62109,
          62110,
          62111,
          62112,
          62113,
          62114,
          62115,
          62116,
          62117,
          62118,
          62119,
          62120,
          62121,
          62122,
          62123,
          62124,
          62125,
          62126,
          62127,
          62128,
          62129,
          62130,
          62131
         ],
         "y": [
          1,
          2,
          3,
          4,
          5,
          6,
          7,
          8,
          9,
          10,
          11,
          12,
          13,
          14,
          15,
          15,
          16,
          16,
          17,
          18,
          19,
          19,
          20,
          20,
          20,
          20,
          21,
          22,
          22,
          22,
          22,
          23,
          24,
          25,
          26,
          27,
          27,
          27,
          28,
          29,
          30,
          31,
          32,
          32,
          33,
          33,
          34,
          35,
          36,
          37,
          37,
          37,
          37,
          38,
          38,
          39,
          39,
          39,
          39,
          39,
          39,
          40,
          40,
          41,
          41,
          41,
          41,
          41,
          41,
          42,
          42,
          42,
          43,
          43,
          44,
          44,
          44,
          44,
          44,
          44,
          44,
          45,
          46,
          47,
          47,
          47,
          47,
          47,
          47,
          48,
          49,
          50,
          51,
          51,
          52,
          53,
          53,
          54,
          55,
          56,
          57,
          57,
          58,
          59,
          59,
          59,
          59,
          59,
          60,
          60,
          60,
          61,
          62,
          63,
          63,
          63,
          64,
          65,
          65,
          66,
          67,
          67,
          67,
          67,
          67,
          67,
          68,
          69,
          69,
          70,
          70,
          70,
          71,
          72,
          72,
          72,
          72,
          73,
          73,
          73,
          73,
          74,
          75,
          76,
          77,
          78,
          78,
          78,
          78,
          78,
          78,
          79,
          80,
          80,
          81,
          82,
          83,
          83,
          83,
          83,
          83,
          83,
          84,
          85,
          85,
          86,
          87,
          87,
          88,
          89,
          90,
          91,
          92,
          92,
          92,
          93,
          93,
          94,
          94,
          95,
          95,
          96,
          97,
          97,
          98,
          98,
          98,
          99,
          100,
          101,
          101,
          101,
          102,
          102,
          102,
          102,
          102,
          102,
          103,
          104,
          105,
          106,
          106,
          106,
          107,
          108,
          109,
          110,
          111,
          112,
          113,
          113,
          114,
          115,
          115,
          116,
          117,
          117,
          118,
          119,
          119,
          120,
          121,
          122,
          122,
          122,
          122,
          123,
          123,
          123,
          123,
          124,
          125,
          126,
          126,
          126,
          127,
          127,
          127,
          127,
          127,
          128,
          128,
          129,
          129,
          130,
          131,
          131,
          132,
          133,
          134,
          135,
          136,
          137,
          137,
          137,
          137,
          137,
          138,
          139,
          139,
          140,
          140,
          141,
          142,
          142,
          143,
          144,
          145,
          145,
          146,
          146,
          146,
          147,
          148,
          149,
          149,
          150,
          150,
          151,
          152,
          153,
          153,
          154,
          155,
          155,
          155,
          155,
          156,
          157,
          158,
          158,
          159,
          160,
          160,
          160,
          161,
          162,
          163,
          164,
          164,
          164,
          165,
          166,
          167,
          168,
          168,
          169,
          170,
          171,
          172,
          173,
          173,
          174,
          175,
          176,
          177,
          178,
          179,
          180,
          181,
          182,
          183,
          183,
          184,
          184,
          185,
          186,
          187,
          188,
          189,
          190,
          190,
          190,
          191,
          191,
          191,
          191,
          192,
          192,
          193,
          193,
          194,
          194,
          194,
          194,
          194,
          194,
          194,
          194,
          194,
          194,
          195,
          195,
          196,
          196,
          197,
          197,
          197,
          198,
          199,
          200,
          201,
          201,
          201,
          201,
          202,
          203,
          204,
          205,
          206,
          207,
          207,
          208,
          209,
          209,
          209,
          209,
          210,
          211,
          212,
          213,
          214,
          215,
          216,
          216,
          216,
          216
         ]
        }
       ],
       "layout": {
        "legend": {
         "bgcolor": "#F5F6F9",
         "font": {
          "color": "#4D5663"
         }
        },
        "paper_bgcolor": "#F5F6F9",
        "plot_bgcolor": "#F5F6F9",
        "template": {
         "data": {
          "bar": [
           {
            "error_x": {
             "color": "#2a3f5f"
            },
            "error_y": {
             "color": "#2a3f5f"
            },
            "marker": {
             "line": {
              "color": "#E5ECF6",
              "width": 0.5
             }
            },
            "type": "bar"
           }
          ],
          "barpolar": [
           {
            "marker": {
             "line": {
              "color": "#E5ECF6",
              "width": 0.5
             }
            },
            "type": "barpolar"
           }
          ],
          "carpet": [
           {
            "aaxis": {
             "endlinecolor": "#2a3f5f",
             "gridcolor": "white",
             "linecolor": "white",
             "minorgridcolor": "white",
             "startlinecolor": "#2a3f5f"
            },
            "baxis": {
             "endlinecolor": "#2a3f5f",
             "gridcolor": "white",
             "linecolor": "white",
             "minorgridcolor": "white",
             "startlinecolor": "#2a3f5f"
            },
            "type": "carpet"
           }
          ],
          "choropleth": [
           {
            "colorbar": {
             "outlinewidth": 0,
             "ticks": ""
            },
            "type": "choropleth"
           }
          ],
          "contour": [
           {
            "colorbar": {
             "outlinewidth": 0,
             "ticks": ""
            },
            "colorscale": [
             [
              0,
              "#0d0887"
             ],
             [
              0.1111111111111111,
              "#46039f"
             ],
             [
              0.2222222222222222,
              "#7201a8"
             ],
             [
              0.3333333333333333,
              "#9c179e"
             ],
             [
              0.4444444444444444,
              "#bd3786"
             ],
             [
              0.5555555555555556,
              "#d8576b"
             ],
             [
              0.6666666666666666,
              "#ed7953"
             ],
             [
              0.7777777777777778,
              "#fb9f3a"
             ],
             [
              0.8888888888888888,
              "#fdca26"
             ],
             [
              1,
              "#f0f921"
             ]
            ],
            "type": "contour"
           }
          ],
          "contourcarpet": [
           {
            "colorbar": {
             "outlinewidth": 0,
             "ticks": ""
            },
            "type": "contourcarpet"
           }
          ],
          "heatmap": [
           {
            "colorbar": {
             "outlinewidth": 0,
             "ticks": ""
            },
            "colorscale": [
             [
              0,
              "#0d0887"
             ],
             [
              0.1111111111111111,
              "#46039f"
             ],
             [
              0.2222222222222222,
              "#7201a8"
             ],
             [
              0.3333333333333333,
              "#9c179e"
             ],
             [
              0.4444444444444444,
              "#bd3786"
             ],
             [
              0.5555555555555556,
              "#d8576b"
             ],
             [
              0.6666666666666666,
              "#ed7953"
             ],
             [
              0.7777777777777778,
              "#fb9f3a"
             ],
             [
              0.8888888888888888,
              "#fdca26"
             ],
             [
              1,
              "#f0f921"
             ]
            ],
            "type": "heatmap"
           }
          ],
          "heatmapgl": [
           {
            "colorbar": {
             "outlinewidth": 0,
             "ticks": ""
            },
            "colorscale": [
             [
              0,
              "#0d0887"
             ],
             [
              0.1111111111111111,
              "#46039f"
             ],
             [
              0.2222222222222222,
              "#7201a8"
             ],
             [
              0.3333333333333333,
              "#9c179e"
             ],
             [
              0.4444444444444444,
              "#bd3786"
             ],
             [
              0.5555555555555556,
              "#d8576b"
             ],
             [
              0.6666666666666666,
              "#ed7953"
             ],
             [
              0.7777777777777778,
              "#fb9f3a"
             ],
             [
              0.8888888888888888,
              "#fdca26"
             ],
             [
              1,
              "#f0f921"
             ]
            ],
            "type": "heatmapgl"
           }
          ],
          "histogram": [
           {
            "marker": {
             "colorbar": {
              "outlinewidth": 0,
              "ticks": ""
             }
            },
            "type": "histogram"
           }
          ],
          "histogram2d": [
           {
            "colorbar": {
             "outlinewidth": 0,
             "ticks": ""
            },
            "colorscale": [
             [
              0,
              "#0d0887"
             ],
             [
              0.1111111111111111,
              "#46039f"
             ],
             [
              0.2222222222222222,
              "#7201a8"
             ],
             [
              0.3333333333333333,
              "#9c179e"
             ],
             [
              0.4444444444444444,
              "#bd3786"
             ],
             [
              0.5555555555555556,
              "#d8576b"
             ],
             [
              0.6666666666666666,
              "#ed7953"
             ],
             [
              0.7777777777777778,
              "#fb9f3a"
             ],
             [
              0.8888888888888888,
              "#fdca26"
             ],
             [
              1,
              "#f0f921"
             ]
            ],
            "type": "histogram2d"
           }
          ],
          "histogram2dcontour": [
           {
            "colorbar": {
             "outlinewidth": 0,
             "ticks": ""
            },
            "colorscale": [
             [
              0,
              "#0d0887"
             ],
             [
              0.1111111111111111,
              "#46039f"
             ],
             [
              0.2222222222222222,
              "#7201a8"
             ],
             [
              0.3333333333333333,
              "#9c179e"
             ],
             [
              0.4444444444444444,
              "#bd3786"
             ],
             [
              0.5555555555555556,
              "#d8576b"
             ],
             [
              0.6666666666666666,
              "#ed7953"
             ],
             [
              0.7777777777777778,
              "#fb9f3a"
             ],
             [
              0.8888888888888888,
              "#fdca26"
             ],
             [
              1,
              "#f0f921"
             ]
            ],
            "type": "histogram2dcontour"
           }
          ],
          "mesh3d": [
           {
            "colorbar": {
             "outlinewidth": 0,
             "ticks": ""
            },
            "type": "mesh3d"
           }
          ],
          "parcoords": [
           {
            "line": {
             "colorbar": {
              "outlinewidth": 0,
              "ticks": ""
             }
            },
            "type": "parcoords"
           }
          ],
          "pie": [
           {
            "automargin": true,
            "type": "pie"
           }
          ],
          "scatter": [
           {
            "marker": {
             "colorbar": {
              "outlinewidth": 0,
              "ticks": ""
             }
            },
            "type": "scatter"
           }
          ],
          "scatter3d": [
           {
            "line": {
             "colorbar": {
              "outlinewidth": 0,
              "ticks": ""
             }
            },
            "marker": {
             "colorbar": {
              "outlinewidth": 0,
              "ticks": ""
             }
            },
            "type": "scatter3d"
           }
          ],
          "scattercarpet": [
           {
            "marker": {
             "colorbar": {
              "outlinewidth": 0,
              "ticks": ""
             }
            },
            "type": "scattercarpet"
           }
          ],
          "scattergeo": [
           {
            "marker": {
             "colorbar": {
              "outlinewidth": 0,
              "ticks": ""
             }
            },
            "type": "scattergeo"
           }
          ],
          "scattergl": [
           {
            "marker": {
             "colorbar": {
              "outlinewidth": 0,
              "ticks": ""
             }
            },
            "type": "scattergl"
           }
          ],
          "scattermapbox": [
           {
            "marker": {
             "colorbar": {
              "outlinewidth": 0,
              "ticks": ""
             }
            },
            "type": "scattermapbox"
           }
          ],
          "scatterpolar": [
           {
            "marker": {
             "colorbar": {
              "outlinewidth": 0,
              "ticks": ""
             }
            },
            "type": "scatterpolar"
           }
          ],
          "scatterpolargl": [
           {
            "marker": {
             "colorbar": {
              "outlinewidth": 0,
              "ticks": ""
             }
            },
            "type": "scatterpolargl"
           }
          ],
          "scatterternary": [
           {
            "marker": {
             "colorbar": {
              "outlinewidth": 0,
              "ticks": ""
             }
            },
            "type": "scatterternary"
           }
          ],
          "surface": [
           {
            "colorbar": {
             "outlinewidth": 0,
             "ticks": ""
            },
            "colorscale": [
             [
              0,
              "#0d0887"
             ],
             [
              0.1111111111111111,
              "#46039f"
             ],
             [
              0.2222222222222222,
              "#7201a8"
             ],
             [
              0.3333333333333333,
              "#9c179e"
             ],
             [
              0.4444444444444444,
              "#bd3786"
             ],
             [
              0.5555555555555556,
              "#d8576b"
             ],
             [
              0.6666666666666666,
              "#ed7953"
             ],
             [
              0.7777777777777778,
              "#fb9f3a"
             ],
             [
              0.8888888888888888,
              "#fdca26"
             ],
             [
              1,
              "#f0f921"
             ]
            ],
            "type": "surface"
           }
          ],
          "table": [
           {
            "cells": {
             "fill": {
              "color": "#EBF0F8"
             },
             "line": {
              "color": "white"
             }
            },
            "header": {
             "fill": {
              "color": "#C8D4E3"
             },
             "line": {
              "color": "white"
             }
            },
            "type": "table"
           }
          ]
         },
         "layout": {
          "annotationdefaults": {
           "arrowcolor": "#2a3f5f",
           "arrowhead": 0,
           "arrowwidth": 1
          },
          "autotypenumbers": "strict",
          "coloraxis": {
           "colorbar": {
            "outlinewidth": 0,
            "ticks": ""
           }
          },
          "colorscale": {
           "diverging": [
            [
             0,
             "#8e0152"
            ],
            [
             0.1,
             "#c51b7d"
            ],
            [
             0.2,
             "#de77ae"
            ],
            [
             0.3,
             "#f1b6da"
            ],
            [
             0.4,
             "#fde0ef"
            ],
            [
             0.5,
             "#f7f7f7"
            ],
            [
             0.6,
             "#e6f5d0"
            ],
            [
             0.7,
             "#b8e186"
            ],
            [
             0.8,
             "#7fbc41"
            ],
            [
             0.9,
             "#4d9221"
            ],
            [
             1,
             "#276419"
            ]
           ],
           "sequential": [
            [
             0,
             "#0d0887"
            ],
            [
             0.1111111111111111,
             "#46039f"
            ],
            [
             0.2222222222222222,
             "#7201a8"
            ],
            [
             0.3333333333333333,
             "#9c179e"
            ],
            [
             0.4444444444444444,
             "#bd3786"
            ],
            [
             0.5555555555555556,
             "#d8576b"
            ],
            [
             0.6666666666666666,
             "#ed7953"
            ],
            [
             0.7777777777777778,
             "#fb9f3a"
            ],
            [
             0.8888888888888888,
             "#fdca26"
            ],
            [
             1,
             "#f0f921"
            ]
           ],
           "sequentialminus": [
            [
             0,
             "#0d0887"
            ],
            [
             0.1111111111111111,
             "#46039f"
            ],
            [
             0.2222222222222222,
             "#7201a8"
            ],
            [
             0.3333333333333333,
             "#9c179e"
            ],
            [
             0.4444444444444444,
             "#bd3786"
            ],
            [
             0.5555555555555556,
             "#d8576b"
            ],
            [
             0.6666666666666666,
             "#ed7953"
            ],
            [
             0.7777777777777778,
             "#fb9f3a"
            ],
            [
             0.8888888888888888,
             "#fdca26"
            ],
            [
             1,
             "#f0f921"
            ]
           ]
          },
          "colorway": [
           "#636efa",
           "#EF553B",
           "#00cc96",
           "#ab63fa",
           "#FFA15A",
           "#19d3f3",
           "#FF6692",
           "#B6E880",
           "#FF97FF",
           "#FECB52"
          ],
          "font": {
           "color": "#2a3f5f"
          },
          "geo": {
           "bgcolor": "white",
           "lakecolor": "white",
           "landcolor": "#E5ECF6",
           "showlakes": true,
           "showland": true,
           "subunitcolor": "white"
          },
          "hoverlabel": {
           "align": "left"
          },
          "hovermode": "closest",
          "mapbox": {
           "style": "light"
          },
          "paper_bgcolor": "white",
          "plot_bgcolor": "#E5ECF6",
          "polar": {
           "angularaxis": {
            "gridcolor": "white",
            "linecolor": "white",
            "ticks": ""
           },
           "bgcolor": "#E5ECF6",
           "radialaxis": {
            "gridcolor": "white",
            "linecolor": "white",
            "ticks": ""
           }
          },
          "scene": {
           "xaxis": {
            "backgroundcolor": "#E5ECF6",
            "gridcolor": "white",
            "gridwidth": 2,
            "linecolor": "white",
            "showbackground": true,
            "ticks": "",
            "zerolinecolor": "white"
           },
           "yaxis": {
            "backgroundcolor": "#E5ECF6",
            "gridcolor": "white",
            "gridwidth": 2,
            "linecolor": "white",
            "showbackground": true,
            "ticks": "",
            "zerolinecolor": "white"
           },
           "zaxis": {
            "backgroundcolor": "#E5ECF6",
            "gridcolor": "white",
            "gridwidth": 2,
            "linecolor": "white",
            "showbackground": true,
            "ticks": "",
            "zerolinecolor": "white"
           }
          },
          "shapedefaults": {
           "line": {
            "color": "#2a3f5f"
           }
          },
          "ternary": {
           "aaxis": {
            "gridcolor": "white",
            "linecolor": "white",
            "ticks": ""
           },
           "baxis": {
            "gridcolor": "white",
            "linecolor": "white",
            "ticks": ""
           },
           "bgcolor": "#E5ECF6",
           "caxis": {
            "gridcolor": "white",
            "linecolor": "white",
            "ticks": ""
           }
          },
          "title": {
           "x": 0.05
          },
          "xaxis": {
           "automargin": true,
           "gridcolor": "white",
           "linecolor": "white",
           "ticks": "",
           "title": {
            "standoff": 15
           },
           "zerolinecolor": "white",
           "zerolinewidth": 2
          },
          "yaxis": {
           "automargin": true,
           "gridcolor": "white",
           "linecolor": "white",
           "ticks": "",
           "title": {
            "standoff": 15
           },
           "zerolinecolor": "white",
           "zerolinewidth": 2
          }
         }
        },
        "title": {
         "font": {
          "color": "#4D5663"
         }
        },
        "xaxis": {
         "gridcolor": "#E1E5ED",
         "showgrid": true,
         "tickfont": {
          "color": "#4D5663"
         },
         "title": {
          "font": {
           "color": "#4D5663"
          },
          "text": ""
         },
         "zerolinecolor": "#E1E5ED"
        },
        "yaxis": {
         "gridcolor": "#E1E5ED",
         "showgrid": true,
         "tickfont": {
          "color": "#4D5663"
         },
         "title": {
          "font": {
           "color": "#4D5663"
          },
          "text": ""
         },
         "zerolinecolor": "#E1E5ED"
        }
       }
      },
      "text/html": "<div>                            <div id=\"5ac1bf50-d5cb-4d87-a88e-4923ec2282f3\" class=\"plotly-graph-div\" style=\"height:525px; width:100%;\"></div>            <script type=\"text/javascript\">                require([\"plotly\"], function(Plotly) {                    window.PLOTLYENV=window.PLOTLYENV || {};\n                    window.PLOTLYENV.BASE_URL='https://plot.ly';                                    if (document.getElementById(\"5ac1bf50-d5cb-4d87-a88e-4923ec2282f3\")) {                    Plotly.newPlot(                        \"5ac1bf50-d5cb-4d87-a88e-4923ec2282f3\",                        [{\"line\": {\"color\": \"rgba(255, 153, 51, 1.0)\", \"dash\": \"solid\", \"shape\": \"linear\", \"width\": 1.3}, \"mode\": \"lines\", \"name\": \"answered_correctly\", \"text\": \"\", \"type\": \"scatter\", \"x\": [61744, 61745, 61746, 61747, 61748, 61749, 61750, 61751, 61752, 61753, 61754, 61755, 61756, 61757, 61758, 61759, 61760, 61761, 61762, 61763, 61764, 61765, 61766, 61767, 61768, 61769, 61770, 61771, 61772, 61773, 61774, 61775, 61776, 61777, 61778, 61779, 61780, 61781, 61782, 61783, 61784, 61785, 61786, 61787, 61788, 61789, 61790, 61791, 61792, 61793, 61794, 61795, 61796, 61797, 61798, 61799, 61800, 61801, 61802, 61803, 61804, 61805, 61806, 61807, 61808, 61809, 61810, 61811, 61812, 61813, 61814, 61815, 61816, 61817, 61818, 61819, 61820, 61821, 61822, 61823, 61824, 61825, 61826, 61827, 61828, 61829, 61830, 61831, 61832, 61833, 61834, 61835, 61836, 61837, 61838, 61839, 61840, 61841, 61842, 61843, 61844, 61845, 61846, 61847, 61848, 61849, 61850, 61851, 61852, 61853, 61854, 61855, 61856, 61857, 61858, 61859, 61860, 61861, 61862, 61863, 61864, 61865, 61866, 61867, 61868, 61869, 61870, 61871, 61872, 61873, 61874, 61875, 61876, 61877, 61878, 61879, 61880, 61881, 61882, 61883, 61884, 61885, 61886, 61887, 61888, 61889, 61890, 61891, 61892, 61893, 61894, 61895, 61896, 61897, 61898, 61899, 61900, 61901, 61902, 61903, 61904, 61905, 61906, 61907, 61908, 61909, 61910, 61911, 61912, 61913, 61914, 61915, 61916, 61917, 61918, 61919, 61920, 61921, 61922, 61923, 61924, 61925, 61926, 61927, 61928, 61929, 61930, 61931, 61932, 61933, 61934, 61935, 61936, 61937, 61938, 61939, 61940, 61941, 61942, 61943, 61944, 61945, 61946, 61947, 61948, 61949, 61950, 61951, 61952, 61953, 61954, 61955, 61956, 61957, 61958, 61959, 61960, 61961, 61962, 61963, 61964, 61965, 61966, 61967, 61968, 61969, 61970, 61971, 61972, 61973, 61974, 61975, 61976, 61977, 61978, 61979, 61980, 61981, 61982, 61983, 61984, 61985, 61986, 61987, 61988, 61989, 61990, 61991, 61992, 61993, 61994, 61995, 61996, 61997, 61998, 61999, 62000, 62001, 62002, 62003, 62004, 62005, 62006, 62007, 62008, 62009, 62010, 62011, 62012, 62013, 62014, 62015, 62016, 62017, 62018, 62019, 62020, 62021, 62022, 62023, 62024, 62025, 62026, 62027, 62028, 62029, 62030, 62031, 62032, 62033, 62034, 62035, 62036, 62037, 62038, 62039, 62040, 62041, 62042, 62043, 62044, 62045, 62046, 62047, 62048, 62049, 62050, 62051, 62052, 62053, 62054, 62055, 62056, 62057, 62058, 62059, 62060, 62061, 62062, 62063, 62064, 62065, 62066, 62067, 62068, 62069, 62070, 62071, 62072, 62073, 62074, 62075, 62076, 62077, 62078, 62079, 62080, 62081, 62082, 62083, 62084, 62085, 62086, 62087, 62088, 62089, 62090, 62091, 62092, 62093, 62094, 62095, 62096, 62097, 62098, 62099, 62100, 62101, 62102, 62103, 62104, 62105, 62106, 62107, 62108, 62109, 62110, 62111, 62112, 62113, 62114, 62115, 62116, 62117, 62118, 62119, 62120, 62121, 62122, 62123, 62124, 62125, 62126, 62127, 62128, 62129, 62130, 62131], \"y\": [1, 2, 3, 4, 5, 6, 7, 8, 9, 10, 11, 12, 13, 14, 15, 15, 16, 16, 17, 18, 19, 19, 20, 20, 20, 20, 21, 22, 22, 22, 22, 23, 24, 25, 26, 27, 27, 27, 28, 29, 30, 31, 32, 32, 33, 33, 34, 35, 36, 37, 37, 37, 37, 38, 38, 39, 39, 39, 39, 39, 39, 40, 40, 41, 41, 41, 41, 41, 41, 42, 42, 42, 43, 43, 44, 44, 44, 44, 44, 44, 44, 45, 46, 47, 47, 47, 47, 47, 47, 48, 49, 50, 51, 51, 52, 53, 53, 54, 55, 56, 57, 57, 58, 59, 59, 59, 59, 59, 60, 60, 60, 61, 62, 63, 63, 63, 64, 65, 65, 66, 67, 67, 67, 67, 67, 67, 68, 69, 69, 70, 70, 70, 71, 72, 72, 72, 72, 73, 73, 73, 73, 74, 75, 76, 77, 78, 78, 78, 78, 78, 78, 79, 80, 80, 81, 82, 83, 83, 83, 83, 83, 83, 84, 85, 85, 86, 87, 87, 88, 89, 90, 91, 92, 92, 92, 93, 93, 94, 94, 95, 95, 96, 97, 97, 98, 98, 98, 99, 100, 101, 101, 101, 102, 102, 102, 102, 102, 102, 103, 104, 105, 106, 106, 106, 107, 108, 109, 110, 111, 112, 113, 113, 114, 115, 115, 116, 117, 117, 118, 119, 119, 120, 121, 122, 122, 122, 122, 123, 123, 123, 123, 124, 125, 126, 126, 126, 127, 127, 127, 127, 127, 128, 128, 129, 129, 130, 131, 131, 132, 133, 134, 135, 136, 137, 137, 137, 137, 137, 138, 139, 139, 140, 140, 141, 142, 142, 143, 144, 145, 145, 146, 146, 146, 147, 148, 149, 149, 150, 150, 151, 152, 153, 153, 154, 155, 155, 155, 155, 156, 157, 158, 158, 159, 160, 160, 160, 161, 162, 163, 164, 164, 164, 165, 166, 167, 168, 168, 169, 170, 171, 172, 173, 173, 174, 175, 176, 177, 178, 179, 180, 181, 182, 183, 183, 184, 184, 185, 186, 187, 188, 189, 190, 190, 190, 191, 191, 191, 191, 192, 192, 193, 193, 194, 194, 194, 194, 194, 194, 194, 194, 194, 194, 195, 195, 196, 196, 197, 197, 197, 198, 199, 200, 201, 201, 201, 201, 202, 203, 204, 205, 206, 207, 207, 208, 209, 209, 209, 209, 210, 211, 212, 213, 214, 215, 216, 216, 216, 216]}],                        {\"legend\": {\"bgcolor\": \"#F5F6F9\", \"font\": {\"color\": \"#4D5663\"}}, \"paper_bgcolor\": \"#F5F6F9\", \"plot_bgcolor\": \"#F5F6F9\", \"template\": {\"data\": {\"bar\": [{\"error_x\": {\"color\": \"#2a3f5f\"}, \"error_y\": {\"color\": \"#2a3f5f\"}, \"marker\": {\"line\": {\"color\": \"#E5ECF6\", \"width\": 0.5}}, \"type\": \"bar\"}], \"barpolar\": [{\"marker\": {\"line\": {\"color\": \"#E5ECF6\", \"width\": 0.5}}, \"type\": \"barpolar\"}], \"carpet\": [{\"aaxis\": {\"endlinecolor\": \"#2a3f5f\", \"gridcolor\": \"white\", \"linecolor\": \"white\", \"minorgridcolor\": \"white\", \"startlinecolor\": \"#2a3f5f\"}, \"baxis\": {\"endlinecolor\": \"#2a3f5f\", \"gridcolor\": \"white\", \"linecolor\": \"white\", \"minorgridcolor\": \"white\", \"startlinecolor\": \"#2a3f5f\"}, \"type\": \"carpet\"}], \"choropleth\": [{\"colorbar\": {\"outlinewidth\": 0, \"ticks\": \"\"}, \"type\": \"choropleth\"}], \"contour\": [{\"colorbar\": {\"outlinewidth\": 0, \"ticks\": \"\"}, \"colorscale\": [[0.0, \"#0d0887\"], [0.1111111111111111, \"#46039f\"], [0.2222222222222222, \"#7201a8\"], [0.3333333333333333, \"#9c179e\"], [0.4444444444444444, \"#bd3786\"], [0.5555555555555556, \"#d8576b\"], [0.6666666666666666, \"#ed7953\"], [0.7777777777777778, \"#fb9f3a\"], [0.8888888888888888, \"#fdca26\"], [1.0, \"#f0f921\"]], \"type\": \"contour\"}], \"contourcarpet\": [{\"colorbar\": {\"outlinewidth\": 0, \"ticks\": \"\"}, \"type\": \"contourcarpet\"}], \"heatmap\": [{\"colorbar\": {\"outlinewidth\": 0, \"ticks\": \"\"}, \"colorscale\": [[0.0, \"#0d0887\"], [0.1111111111111111, \"#46039f\"], [0.2222222222222222, \"#7201a8\"], [0.3333333333333333, \"#9c179e\"], [0.4444444444444444, \"#bd3786\"], [0.5555555555555556, \"#d8576b\"], [0.6666666666666666, \"#ed7953\"], [0.7777777777777778, \"#fb9f3a\"], [0.8888888888888888, \"#fdca26\"], [1.0, \"#f0f921\"]], \"type\": \"heatmap\"}], \"heatmapgl\": [{\"colorbar\": {\"outlinewidth\": 0, \"ticks\": \"\"}, \"colorscale\": [[0.0, \"#0d0887\"], [0.1111111111111111, \"#46039f\"], [0.2222222222222222, \"#7201a8\"], [0.3333333333333333, \"#9c179e\"], [0.4444444444444444, \"#bd3786\"], [0.5555555555555556, \"#d8576b\"], [0.6666666666666666, \"#ed7953\"], [0.7777777777777778, \"#fb9f3a\"], [0.8888888888888888, \"#fdca26\"], [1.0, \"#f0f921\"]], \"type\": \"heatmapgl\"}], \"histogram\": [{\"marker\": {\"colorbar\": {\"outlinewidth\": 0, \"ticks\": \"\"}}, \"type\": \"histogram\"}], \"histogram2d\": [{\"colorbar\": {\"outlinewidth\": 0, \"ticks\": \"\"}, \"colorscale\": [[0.0, \"#0d0887\"], [0.1111111111111111, \"#46039f\"], [0.2222222222222222, \"#7201a8\"], [0.3333333333333333, \"#9c179e\"], [0.4444444444444444, \"#bd3786\"], [0.5555555555555556, \"#d8576b\"], [0.6666666666666666, \"#ed7953\"], [0.7777777777777778, \"#fb9f3a\"], [0.8888888888888888, \"#fdca26\"], [1.0, \"#f0f921\"]], \"type\": \"histogram2d\"}], \"histogram2dcontour\": [{\"colorbar\": {\"outlinewidth\": 0, \"ticks\": \"\"}, \"colorscale\": [[0.0, \"#0d0887\"], [0.1111111111111111, \"#46039f\"], [0.2222222222222222, \"#7201a8\"], [0.3333333333333333, \"#9c179e\"], [0.4444444444444444, \"#bd3786\"], [0.5555555555555556, \"#d8576b\"], [0.6666666666666666, \"#ed7953\"], [0.7777777777777778, \"#fb9f3a\"], [0.8888888888888888, \"#fdca26\"], [1.0, \"#f0f921\"]], \"type\": \"histogram2dcontour\"}], \"mesh3d\": [{\"colorbar\": {\"outlinewidth\": 0, \"ticks\": \"\"}, \"type\": \"mesh3d\"}], \"parcoords\": [{\"line\": {\"colorbar\": {\"outlinewidth\": 0, \"ticks\": \"\"}}, \"type\": \"parcoords\"}], \"pie\": [{\"automargin\": true, \"type\": \"pie\"}], \"scatter\": [{\"marker\": {\"colorbar\": {\"outlinewidth\": 0, \"ticks\": \"\"}}, \"type\": \"scatter\"}], \"scatter3d\": [{\"line\": {\"colorbar\": {\"outlinewidth\": 0, \"ticks\": \"\"}}, \"marker\": {\"colorbar\": {\"outlinewidth\": 0, \"ticks\": \"\"}}, \"type\": \"scatter3d\"}], \"scattercarpet\": [{\"marker\": {\"colorbar\": {\"outlinewidth\": 0, \"ticks\": \"\"}}, \"type\": \"scattercarpet\"}], \"scattergeo\": [{\"marker\": {\"colorbar\": {\"outlinewidth\": 0, \"ticks\": \"\"}}, \"type\": \"scattergeo\"}], \"scattergl\": [{\"marker\": {\"colorbar\": {\"outlinewidth\": 0, \"ticks\": \"\"}}, \"type\": \"scattergl\"}], \"scattermapbox\": [{\"marker\": {\"colorbar\": {\"outlinewidth\": 0, \"ticks\": \"\"}}, \"type\": \"scattermapbox\"}], \"scatterpolar\": [{\"marker\": {\"colorbar\": {\"outlinewidth\": 0, \"ticks\": \"\"}}, \"type\": \"scatterpolar\"}], \"scatterpolargl\": [{\"marker\": {\"colorbar\": {\"outlinewidth\": 0, \"ticks\": \"\"}}, \"type\": \"scatterpolargl\"}], \"scatterternary\": [{\"marker\": {\"colorbar\": {\"outlinewidth\": 0, \"ticks\": \"\"}}, \"type\": \"scatterternary\"}], \"surface\": [{\"colorbar\": {\"outlinewidth\": 0, \"ticks\": \"\"}, \"colorscale\": [[0.0, \"#0d0887\"], [0.1111111111111111, \"#46039f\"], [0.2222222222222222, \"#7201a8\"], [0.3333333333333333, \"#9c179e\"], [0.4444444444444444, \"#bd3786\"], [0.5555555555555556, \"#d8576b\"], [0.6666666666666666, \"#ed7953\"], [0.7777777777777778, \"#fb9f3a\"], [0.8888888888888888, \"#fdca26\"], [1.0, \"#f0f921\"]], \"type\": \"surface\"}], \"table\": [{\"cells\": {\"fill\": {\"color\": \"#EBF0F8\"}, \"line\": {\"color\": \"white\"}}, \"header\": {\"fill\": {\"color\": \"#C8D4E3\"}, \"line\": {\"color\": \"white\"}}, \"type\": \"table\"}]}, \"layout\": {\"annotationdefaults\": {\"arrowcolor\": \"#2a3f5f\", \"arrowhead\": 0, \"arrowwidth\": 1}, \"autotypenumbers\": \"strict\", \"coloraxis\": {\"colorbar\": {\"outlinewidth\": 0, \"ticks\": \"\"}}, \"colorscale\": {\"diverging\": [[0, \"#8e0152\"], [0.1, \"#c51b7d\"], [0.2, \"#de77ae\"], [0.3, \"#f1b6da\"], [0.4, \"#fde0ef\"], [0.5, \"#f7f7f7\"], [0.6, \"#e6f5d0\"], [0.7, \"#b8e186\"], [0.8, \"#7fbc41\"], [0.9, \"#4d9221\"], [1, \"#276419\"]], \"sequential\": [[0.0, \"#0d0887\"], [0.1111111111111111, \"#46039f\"], [0.2222222222222222, \"#7201a8\"], [0.3333333333333333, \"#9c179e\"], [0.4444444444444444, \"#bd3786\"], [0.5555555555555556, \"#d8576b\"], [0.6666666666666666, \"#ed7953\"], [0.7777777777777778, \"#fb9f3a\"], [0.8888888888888888, \"#fdca26\"], [1.0, \"#f0f921\"]], \"sequentialminus\": [[0.0, \"#0d0887\"], [0.1111111111111111, \"#46039f\"], [0.2222222222222222, \"#7201a8\"], [0.3333333333333333, \"#9c179e\"], [0.4444444444444444, \"#bd3786\"], [0.5555555555555556, \"#d8576b\"], [0.6666666666666666, \"#ed7953\"], [0.7777777777777778, \"#fb9f3a\"], [0.8888888888888888, \"#fdca26\"], [1.0, \"#f0f921\"]]}, \"colorway\": [\"#636efa\", \"#EF553B\", \"#00cc96\", \"#ab63fa\", \"#FFA15A\", \"#19d3f3\", \"#FF6692\", \"#B6E880\", \"#FF97FF\", \"#FECB52\"], \"font\": {\"color\": \"#2a3f5f\"}, \"geo\": {\"bgcolor\": \"white\", \"lakecolor\": \"white\", \"landcolor\": \"#E5ECF6\", \"showlakes\": true, \"showland\": true, \"subunitcolor\": \"white\"}, \"hoverlabel\": {\"align\": \"left\"}, \"hovermode\": \"closest\", \"mapbox\": {\"style\": \"light\"}, \"paper_bgcolor\": \"white\", \"plot_bgcolor\": \"#E5ECF6\", \"polar\": {\"angularaxis\": {\"gridcolor\": \"white\", \"linecolor\": \"white\", \"ticks\": \"\"}, \"bgcolor\": \"#E5ECF6\", \"radialaxis\": {\"gridcolor\": \"white\", \"linecolor\": \"white\", \"ticks\": \"\"}}, \"scene\": {\"xaxis\": {\"backgroundcolor\": \"#E5ECF6\", \"gridcolor\": \"white\", \"gridwidth\": 2, \"linecolor\": \"white\", \"showbackground\": true, \"ticks\": \"\", \"zerolinecolor\": \"white\"}, \"yaxis\": {\"backgroundcolor\": \"#E5ECF6\", \"gridcolor\": \"white\", \"gridwidth\": 2, \"linecolor\": \"white\", \"showbackground\": true, \"ticks\": \"\", \"zerolinecolor\": \"white\"}, \"zaxis\": {\"backgroundcolor\": \"#E5ECF6\", \"gridcolor\": \"white\", \"gridwidth\": 2, \"linecolor\": \"white\", \"showbackground\": true, \"ticks\": \"\", \"zerolinecolor\": \"white\"}}, \"shapedefaults\": {\"line\": {\"color\": \"#2a3f5f\"}}, \"ternary\": {\"aaxis\": {\"gridcolor\": \"white\", \"linecolor\": \"white\", \"ticks\": \"\"}, \"baxis\": {\"gridcolor\": \"white\", \"linecolor\": \"white\", \"ticks\": \"\"}, \"bgcolor\": \"#E5ECF6\", \"caxis\": {\"gridcolor\": \"white\", \"linecolor\": \"white\", \"ticks\": \"\"}}, \"title\": {\"x\": 0.05}, \"xaxis\": {\"automargin\": true, \"gridcolor\": \"white\", \"linecolor\": \"white\", \"ticks\": \"\", \"title\": {\"standoff\": 15}, \"zerolinecolor\": \"white\", \"zerolinewidth\": 2}, \"yaxis\": {\"automargin\": true, \"gridcolor\": \"white\", \"linecolor\": \"white\", \"ticks\": \"\", \"title\": {\"standoff\": 15}, \"zerolinecolor\": \"white\", \"zerolinewidth\": 2}}}, \"title\": {\"font\": {\"color\": \"#4D5663\"}}, \"xaxis\": {\"gridcolor\": \"#E1E5ED\", \"showgrid\": true, \"tickfont\": {\"color\": \"#4D5663\"}, \"title\": {\"font\": {\"color\": \"#4D5663\"}, \"text\": \"\"}, \"zerolinecolor\": \"#E1E5ED\"}, \"yaxis\": {\"gridcolor\": \"#E1E5ED\", \"showgrid\": true, \"tickfont\": {\"color\": \"#4D5663\"}, \"title\": {\"font\": {\"color\": \"#4D5663\"}, \"text\": \"\"}, \"zerolinecolor\": \"#E1E5ED\"}},                        {\"showLink\": true, \"linkText\": \"Export to plot.ly\", \"plotlyServerURL\": \"https://plot.ly\", \"responsive\": true}                    ).then(function(){\n                            \nvar gd = document.getElementById('5ac1bf50-d5cb-4d87-a88e-4923ec2282f3');\nvar x = new MutationObserver(function (mutations, observer) {{\n        var display = window.getComputedStyle(gd).display;\n        if (!display || display === 'none') {{\n            console.log([gd, 'removed!']);\n            Plotly.purge(gd);\n            observer.disconnect();\n        }}\n}});\n\n// Listen for the removal of the full notebook cells\nvar notebookContainer = gd.closest('#notebook-container');\nif (notebookContainer) {{\n    x.observe(notebookContainer, {childList: true});\n}}\n\n// Listen for the clearing of the current output cell\nvar outputEl = gd.closest('.output');\nif (outputEl) {{\n    x.observe(outputEl, {childList: true});\n}}\n\n                        })                };                });            </script>        </div>"
     },
     "metadata": {}
    },
    {
     "output_type": "execute_result",
     "data": {
      "text/plain": [
       "'\\n오류 : 순수 questions에 대한 것만 찍어야 하는데, 밑의 그래프는 questions+lectures이다. 즉 -1이 섞인것.\\n이 유저는 lectures는 안 보고 questions만 이용한다는 것을 아래 코드를 통해 밝혔다.\\n'"
      ]
     },
     "metadata": {},
     "execution_count": 37
    }
   ],
   "source": [
    "train_53440229_answerCorrect_cumsum.iplot(kind='line')\n",
    "'''\n",
    "오류 : 순수 questions에 대한 것만 찍어야 하는데, 밑의 그래프는 questions+lectures이다. 즉 -1이 섞인것.\n",
    "이 유저는 lectures는 안 보고 questions만 이용한다는 것을 아래 코드를 통해 밝혔다.\n",
    "'''"
   ]
  },
  {
   "cell_type": "code",
   "execution_count": 33,
   "metadata": {},
   "outputs": [
    {
     "output_type": "display_data",
     "data": {
      "text/plain": "       Unnamed: 0   row_id   timestamp   user_id  content_id  content_type_id  \\\n61744     2480764  2480764           0  53440229         128            False   \n61745     2480765  2480765       15190  53440229        7860            False   \n61746     2480766  2480766     1545488  53440229        7922            False   \n61747     2480767  2480767     1565388  53440229         156            False   \n61748     2480768  2480768     1584806  53440229          51            False   \n...           ...      ...         ...       ...         ...              ...   \n62127     2481147  2481147  1854341896  53440229        5563            False   \n62128     2481148  2481148  1854393562  53440229        3990            False   \n62129     2481149  2481149  1854490521  53440229        5006            False   \n62130     2481150  2481150  1854576819  53440229        5030            False   \n62131     2481151  2481151  1854647923  53440229        6263            False   \n\n       task_container_id  user_answer  answered_correctly  \\\n61744                  0            0                   1   \n61745                  1            0                   1   \n61746                  2            1                   1   \n61747                  3            2                   1   \n61748                  4            0                   1   \n...                  ...          ...                 ...   \n62127                374            2                   1   \n62128                375            1                   1   \n62129                376            1                   0   \n62130                377            3                   0   \n62131                378            0                   0   \n\n       prior_question_elapsed_time prior_question_had_explanation  \n61744                          NaN                            NaN  \n61745                      15000.0                          False  \n61746                      13000.0                          False  \n61747                      18000.0                          False  \n61748                      18000.0                          False  \n...                            ...                            ...  \n62127                      22000.0                           True  \n62128                      31000.0                           True  \n62129                      39000.0                           True  \n62130                      66000.0                           True  \n62131                      54000.0                           True  \n\n[388 rows x 11 columns]",
      "text/html": "<div>\n<style scoped>\n    .dataframe tbody tr th:only-of-type {\n        vertical-align: middle;\n    }\n\n    .dataframe tbody tr th {\n        vertical-align: top;\n    }\n\n    .dataframe thead th {\n        text-align: right;\n    }\n</style>\n<table border=\"1\" class=\"dataframe\">\n  <thead>\n    <tr style=\"text-align: right;\">\n      <th></th>\n      <th>Unnamed: 0</th>\n      <th>row_id</th>\n      <th>timestamp</th>\n      <th>user_id</th>\n      <th>content_id</th>\n      <th>content_type_id</th>\n      <th>task_container_id</th>\n      <th>user_answer</th>\n      <th>answered_correctly</th>\n      <th>prior_question_elapsed_time</th>\n      <th>prior_question_had_explanation</th>\n    </tr>\n  </thead>\n  <tbody>\n    <tr>\n      <th>61744</th>\n      <td>2480764</td>\n      <td>2480764</td>\n      <td>0</td>\n      <td>53440229</td>\n      <td>128</td>\n      <td>False</td>\n      <td>0</td>\n      <td>0</td>\n      <td>1</td>\n      <td>NaN</td>\n      <td>NaN</td>\n    </tr>\n    <tr>\n      <th>61745</th>\n      <td>2480765</td>\n      <td>2480765</td>\n      <td>15190</td>\n      <td>53440229</td>\n      <td>7860</td>\n      <td>False</td>\n      <td>1</td>\n      <td>0</td>\n      <td>1</td>\n      <td>15000.0</td>\n      <td>False</td>\n    </tr>\n    <tr>\n      <th>61746</th>\n      <td>2480766</td>\n      <td>2480766</td>\n      <td>1545488</td>\n      <td>53440229</td>\n      <td>7922</td>\n      <td>False</td>\n      <td>2</td>\n      <td>1</td>\n      <td>1</td>\n      <td>13000.0</td>\n      <td>False</td>\n    </tr>\n    <tr>\n      <th>61747</th>\n      <td>2480767</td>\n      <td>2480767</td>\n      <td>1565388</td>\n      <td>53440229</td>\n      <td>156</td>\n      <td>False</td>\n      <td>3</td>\n      <td>2</td>\n      <td>1</td>\n      <td>18000.0</td>\n      <td>False</td>\n    </tr>\n    <tr>\n      <th>61748</th>\n      <td>2480768</td>\n      <td>2480768</td>\n      <td>1584806</td>\n      <td>53440229</td>\n      <td>51</td>\n      <td>False</td>\n      <td>4</td>\n      <td>0</td>\n      <td>1</td>\n      <td>18000.0</td>\n      <td>False</td>\n    </tr>\n    <tr>\n      <th>...</th>\n      <td>...</td>\n      <td>...</td>\n      <td>...</td>\n      <td>...</td>\n      <td>...</td>\n      <td>...</td>\n      <td>...</td>\n      <td>...</td>\n      <td>...</td>\n      <td>...</td>\n      <td>...</td>\n    </tr>\n    <tr>\n      <th>62127</th>\n      <td>2481147</td>\n      <td>2481147</td>\n      <td>1854341896</td>\n      <td>53440229</td>\n      <td>5563</td>\n      <td>False</td>\n      <td>374</td>\n      <td>2</td>\n      <td>1</td>\n      <td>22000.0</td>\n      <td>True</td>\n    </tr>\n    <tr>\n      <th>62128</th>\n      <td>2481148</td>\n      <td>2481148</td>\n      <td>1854393562</td>\n      <td>53440229</td>\n      <td>3990</td>\n      <td>False</td>\n      <td>375</td>\n      <td>1</td>\n      <td>1</td>\n      <td>31000.0</td>\n      <td>True</td>\n    </tr>\n    <tr>\n      <th>62129</th>\n      <td>2481149</td>\n      <td>2481149</td>\n      <td>1854490521</td>\n      <td>53440229</td>\n      <td>5006</td>\n      <td>False</td>\n      <td>376</td>\n      <td>1</td>\n      <td>0</td>\n      <td>39000.0</td>\n      <td>True</td>\n    </tr>\n    <tr>\n      <th>62130</th>\n      <td>2481150</td>\n      <td>2481150</td>\n      <td>1854576819</td>\n      <td>53440229</td>\n      <td>5030</td>\n      <td>False</td>\n      <td>377</td>\n      <td>3</td>\n      <td>0</td>\n      <td>66000.0</td>\n      <td>True</td>\n    </tr>\n    <tr>\n      <th>62131</th>\n      <td>2481151</td>\n      <td>2481151</td>\n      <td>1854647923</td>\n      <td>53440229</td>\n      <td>6263</td>\n      <td>False</td>\n      <td>378</td>\n      <td>0</td>\n      <td>0</td>\n      <td>54000.0</td>\n      <td>True</td>\n    </tr>\n  </tbody>\n</table>\n<p>388 rows × 11 columns</p>\n</div>"
     },
     "metadata": {}
    }
   ],
   "source": [
    "train_53440229 = train[train[\"user_id\"]==53440229]\n",
    "display(train_53440229)"
   ]
  },
  {
   "cell_type": "code",
   "execution_count": 35,
   "metadata": {},
   "outputs": [
    {
     "output_type": "execute_result",
     "data": {
      "text/plain": [
       "Empty DataFrame\n",
       "Columns: [Unnamed: 0, row_id, timestamp, user_id, content_id, content_type_id, task_container_id, user_answer, answered_correctly, prior_question_elapsed_time, prior_question_had_explanation]\n",
       "Index: []"
      ],
      "text/html": "<div>\n<style scoped>\n    .dataframe tbody tr th:only-of-type {\n        vertical-align: middle;\n    }\n\n    .dataframe tbody tr th {\n        vertical-align: top;\n    }\n\n    .dataframe thead th {\n        text-align: right;\n    }\n</style>\n<table border=\"1\" class=\"dataframe\">\n  <thead>\n    <tr style=\"text-align: right;\">\n      <th></th>\n      <th>Unnamed: 0</th>\n      <th>row_id</th>\n      <th>timestamp</th>\n      <th>user_id</th>\n      <th>content_id</th>\n      <th>content_type_id</th>\n      <th>task_container_id</th>\n      <th>user_answer</th>\n      <th>answered_correctly</th>\n      <th>prior_question_elapsed_time</th>\n      <th>prior_question_had_explanation</th>\n    </tr>\n  </thead>\n  <tbody>\n  </tbody>\n</table>\n</div>"
     },
     "metadata": {},
     "execution_count": 35
    }
   ],
   "source": [
    "train_53440229[train_53440229[\"content_type_id\"] == True]\n",
    "'''\n",
    "use_id가 53440229인 유저는 문제만 푼다.\n",
    "'''"
   ]
  },
  {
   "cell_type": "code",
   "execution_count": 41,
   "metadata": {},
   "outputs": [
    {
     "output_type": "display_data",
     "data": {
      "text/plain": "Index(['question_id', 'bundle_id', 'correct_answer', 'part', 'tags'], dtype='object')"
     },
     "metadata": {}
    },
    {
     "output_type": "display_data",
     "data": {
      "text/plain": "Index(['lecture_id', 'tag', 'part', 'type_of'], dtype='object')"
     },
     "metadata": {}
    }
   ],
   "source": [
    "display(questions.columns)\n",
    "display(lectures.columns)"
   ]
  },
  {
   "cell_type": "code",
   "execution_count": null,
   "metadata": {},
   "outputs": [],
   "source": []
  }
 ]
}