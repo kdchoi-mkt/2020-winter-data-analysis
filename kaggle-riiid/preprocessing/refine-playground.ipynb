{
 "cells": [
  {
   "cell_type": "code",
   "execution_count": 9,
   "metadata": {},
   "outputs": [],
   "source": [
    "import pandas as pd\n",
    "import random"
   ]
  },
  {
   "cell_type": "code",
   "execution_count": 89,
   "metadata": {},
   "outputs": [],
   "source": [
    "def refine_log_data(data_frame: pd.DataFrame,\n",
    "                    random_seed: int,\n",
    "                    upper_bound: int) -> tuple:\n",
    "    \"\"\"Refine the log data to construct cross-sectional data.\n",
    "\n",
    "    Parameter\n",
    "    ========\n",
    "    `data_frame`: The content spend history log data.\n",
    "    `random_seed`: Control the random seed to cut the log data.\n",
    "    `upper_bound`: The function will cut at least `upper_bound`th log data for each user.\n",
    "    \"\"\"\n",
    "    random.seed(random_seed)\n",
    "\n",
    "    # 다음을 함수화해야함\n",
    "    log_count_data = derive_random_cutoff_data(data_frame, upper_bound)\n",
    "    \n",
    "    log_data = pd.merge(data_frame, log_count_data, on = 'user_id')\n",
    "    log_data['row_id_by_user'] = log_data.groupby(['user_id'])['row_id'].rank()\n",
    "\n",
    "    train_log_data  = log_data[log_data['row_id_by_user'] < log_data['cutoff_position']]\n",
    "    test_log_data = log_data[log_data['row_id_by_user'] == log_data['cutoff_position']]\n",
    "\n",
    "    return train_log_data, test_log_data\n",
    "\n",
    "def derive_random_cutoff_data(log_data: pd.DataFrame,\n",
    "                              upper_bound: int) -> pd.DataFrame:\n",
    "    \"\"\"Return the user data with cut off information.\n",
    "\n",
    "    If the total log count for the user is less than the upper bound, return the cut off value as the log count.\n",
    "\n",
    "    For Example\n",
    "    ===========\n",
    "    For the `upper_bound = 10`, \n",
    "\n",
    "    | user_id | total_log_count | cutoff_position |\n",
    "    |---------|-----------------|-----------------|\n",
    "    |    1    |      400        |       314       |\n",
    "    |    2    |       2         |        2        |\n",
    "    \"\"\"\n",
    "    def _get_cutoff_position(row_count):\n",
    "        if upper_bound <= row_count:\n",
    "            return random.randrange(upper_bound, row_count + 1)\n",
    "        return row_count\n",
    "\n",
    "    log_count_data = log_data.groupby(['user_id'])\\\n",
    "                             .agg({'row_id': 'count'})\\\n",
    "                             .rename(columns = {'row_id': 'total_log_count'})\n",
    "\n",
    "    log_count_data['cutoff_position'] = log_count_data['total_log_count'].apply(lambda x: _get_cutoff_position(x))\n",
    "    log_count_data = log_count_data.drop(columns = ['total_log_count'])\n",
    "\n",
    "    return log_count_data\n",
    "\n"
   ]
  },
  {
   "cell_type": "code",
   "execution_count": 4,
   "metadata": {},
   "outputs": [],
   "source": [
    "INPUT_DIR = '../resources/input'"
   ]
  },
  {
   "cell_type": "code",
   "execution_count": 87,
   "metadata": {},
   "outputs": [],
   "source": [
    "log_data = pd.read_csv(f\"{INPUT_DIR}/sample_train.csv\")"
   ]
  },
  {
   "cell_type": "code",
   "execution_count": 90,
   "metadata": {},
   "outputs": [],
   "source": [
    "refine = refine_log_data(log_data, 1000, 10)"
   ]
  },
  {
   "cell_type": "code",
   "execution_count": 92,
   "metadata": {},
   "outputs": [
    {
     "output_type": "execute_result",
     "data": {
      "text/plain": [
       "          Unnamed: 0     row_id    timestamp     user_id  content_id  \\\n",
       "0                624        624            0       13134        3926   \n",
       "1                625        625        23840       13134         564   \n",
       "2                626        626        46834       13134        3865   \n",
       "3                627        627        64749       13134        4231   \n",
       "4                628        628       113000       13134        3684   \n",
       "...              ...        ...          ...         ...         ...   \n",
       "12904702   101223416  101223416  26776674687  2147331033        1113   \n",
       "12904703   101223417  101223417  26776698199  2147331033        1315   \n",
       "12904704   101223418  101223418  26776926698  2147331033        6282   \n",
       "12904705   101223419  101223419  26776992718  2147331033       13480   \n",
       "12904706   101223420  101223420  26777041420  2147331033        6078   \n",
       "\n",
       "          content_type_id  task_container_id  user_answer  answered_correctly  \\\n",
       "0                   False                  0            3                   1   \n",
       "1                   False                  1            1                   0   \n",
       "2                   False                  2            1                   0   \n",
       "3                   False                  3            1                   1   \n",
       "4                   False                  4            1                   1   \n",
       "...                   ...                ...          ...                 ...   \n",
       "12904702            False                 72            3                   1   \n",
       "12904703            False                 70            1                   0   \n",
       "12904704            False                 73            1                   0   \n",
       "12904705            False                 74            2                   1   \n",
       "12904706            False                 75            0                   1   \n",
       "\n",
       "          prior_question_elapsed_time prior_question_had_explanation  \\\n",
       "0                                 NaN                            NaN   \n",
       "1                             22000.0                          False   \n",
       "2                             18000.0                          False   \n",
       "3                             19000.0                          False   \n",
       "4                             13000.0                          False   \n",
       "...                               ...                            ...   \n",
       "12904702                      16000.0                           True   \n",
       "12904703                      15000.0                           True   \n",
       "12904704                      18000.0                          False   \n",
       "12904705                      10000.0                           True   \n",
       "12904706                      16000.0                           True   \n",
       "\n",
       "          cutoff_position  row_id_by_user  \n",
       "0                     888             1.0  \n",
       "1                     888             2.0  \n",
       "2                     888             3.0  \n",
       "3                     888             4.0  \n",
       "4                     888             5.0  \n",
       "...                   ...             ...  \n",
       "12904702               77            72.0  \n",
       "12904703               77            73.0  \n",
       "12904704               77            74.0  \n",
       "12904705               77            75.0  \n",
       "12904706               77            76.0  \n",
       "\n",
       "[6692822 rows x 13 columns]"
      ],
      "text/html": "<div>\n<style scoped>\n    .dataframe tbody tr th:only-of-type {\n        vertical-align: middle;\n    }\n\n    .dataframe tbody tr th {\n        vertical-align: top;\n    }\n\n    .dataframe thead th {\n        text-align: right;\n    }\n</style>\n<table border=\"1\" class=\"dataframe\">\n  <thead>\n    <tr style=\"text-align: right;\">\n      <th></th>\n      <th>Unnamed: 0</th>\n      <th>row_id</th>\n      <th>timestamp</th>\n      <th>user_id</th>\n      <th>content_id</th>\n      <th>content_type_id</th>\n      <th>task_container_id</th>\n      <th>user_answer</th>\n      <th>answered_correctly</th>\n      <th>prior_question_elapsed_time</th>\n      <th>prior_question_had_explanation</th>\n      <th>cutoff_position</th>\n      <th>row_id_by_user</th>\n    </tr>\n  </thead>\n  <tbody>\n    <tr>\n      <th>0</th>\n      <td>624</td>\n      <td>624</td>\n      <td>0</td>\n      <td>13134</td>\n      <td>3926</td>\n      <td>False</td>\n      <td>0</td>\n      <td>3</td>\n      <td>1</td>\n      <td>NaN</td>\n      <td>NaN</td>\n      <td>888</td>\n      <td>1.0</td>\n    </tr>\n    <tr>\n      <th>1</th>\n      <td>625</td>\n      <td>625</td>\n      <td>23840</td>\n      <td>13134</td>\n      <td>564</td>\n      <td>False</td>\n      <td>1</td>\n      <td>1</td>\n      <td>0</td>\n      <td>22000.0</td>\n      <td>False</td>\n      <td>888</td>\n      <td>2.0</td>\n    </tr>\n    <tr>\n      <th>2</th>\n      <td>626</td>\n      <td>626</td>\n      <td>46834</td>\n      <td>13134</td>\n      <td>3865</td>\n      <td>False</td>\n      <td>2</td>\n      <td>1</td>\n      <td>0</td>\n      <td>18000.0</td>\n      <td>False</td>\n      <td>888</td>\n      <td>3.0</td>\n    </tr>\n    <tr>\n      <th>3</th>\n      <td>627</td>\n      <td>627</td>\n      <td>64749</td>\n      <td>13134</td>\n      <td>4231</td>\n      <td>False</td>\n      <td>3</td>\n      <td>1</td>\n      <td>1</td>\n      <td>19000.0</td>\n      <td>False</td>\n      <td>888</td>\n      <td>4.0</td>\n    </tr>\n    <tr>\n      <th>4</th>\n      <td>628</td>\n      <td>628</td>\n      <td>113000</td>\n      <td>13134</td>\n      <td>3684</td>\n      <td>False</td>\n      <td>4</td>\n      <td>1</td>\n      <td>1</td>\n      <td>13000.0</td>\n      <td>False</td>\n      <td>888</td>\n      <td>5.0</td>\n    </tr>\n    <tr>\n      <th>...</th>\n      <td>...</td>\n      <td>...</td>\n      <td>...</td>\n      <td>...</td>\n      <td>...</td>\n      <td>...</td>\n      <td>...</td>\n      <td>...</td>\n      <td>...</td>\n      <td>...</td>\n      <td>...</td>\n      <td>...</td>\n      <td>...</td>\n    </tr>\n    <tr>\n      <th>12904702</th>\n      <td>101223416</td>\n      <td>101223416</td>\n      <td>26776674687</td>\n      <td>2147331033</td>\n      <td>1113</td>\n      <td>False</td>\n      <td>72</td>\n      <td>3</td>\n      <td>1</td>\n      <td>16000.0</td>\n      <td>True</td>\n      <td>77</td>\n      <td>72.0</td>\n    </tr>\n    <tr>\n      <th>12904703</th>\n      <td>101223417</td>\n      <td>101223417</td>\n      <td>26776698199</td>\n      <td>2147331033</td>\n      <td>1315</td>\n      <td>False</td>\n      <td>70</td>\n      <td>1</td>\n      <td>0</td>\n      <td>15000.0</td>\n      <td>True</td>\n      <td>77</td>\n      <td>73.0</td>\n    </tr>\n    <tr>\n      <th>12904704</th>\n      <td>101223418</td>\n      <td>101223418</td>\n      <td>26776926698</td>\n      <td>2147331033</td>\n      <td>6282</td>\n      <td>False</td>\n      <td>73</td>\n      <td>1</td>\n      <td>0</td>\n      <td>18000.0</td>\n      <td>False</td>\n      <td>77</td>\n      <td>74.0</td>\n    </tr>\n    <tr>\n      <th>12904705</th>\n      <td>101223419</td>\n      <td>101223419</td>\n      <td>26776992718</td>\n      <td>2147331033</td>\n      <td>13480</td>\n      <td>False</td>\n      <td>74</td>\n      <td>2</td>\n      <td>1</td>\n      <td>10000.0</td>\n      <td>True</td>\n      <td>77</td>\n      <td>75.0</td>\n    </tr>\n    <tr>\n      <th>12904706</th>\n      <td>101223420</td>\n      <td>101223420</td>\n      <td>26777041420</td>\n      <td>2147331033</td>\n      <td>6078</td>\n      <td>False</td>\n      <td>75</td>\n      <td>0</td>\n      <td>1</td>\n      <td>16000.0</td>\n      <td>True</td>\n      <td>77</td>\n      <td>76.0</td>\n    </tr>\n  </tbody>\n</table>\n<p>6692822 rows × 13 columns</p>\n</div>"
     },
     "metadata": {},
     "execution_count": 92
    }
   ],
   "source": [
    "refine[0]"
   ]
  },
  {
   "cell_type": "code",
   "execution_count": 93,
   "metadata": {},
   "outputs": [
    {
     "output_type": "execute_result",
     "data": {
      "text/plain": [
       "          Unnamed: 0     row_id    timestamp     user_id  content_id  \\\n",
       "887             1511       1511  16582811868       13134        6502   \n",
       "1309            8570       8570   3778888369       44331        6916   \n",
       "1578           13041      13041      1042673      137455         894   \n",
       "3048           15656      15656   3694573675      141455       10287   \n",
       "3916           16524      16524      1125743      142896        4568   \n",
       "...              ...        ...          ...         ...         ...   \n",
       "12904518   101216958  101216958       727081  2147128056        6370   \n",
       "12904545   101219045  101219045       615312  2147175651        3854   \n",
       "12904560   101223175  101223175     13117599  2147307933        4221   \n",
       "12904595   101223210  101223210       714348  2147308237        4420   \n",
       "12904707   101223421  101223421  26777112430  2147331033        4141   \n",
       "\n",
       "          content_type_id  task_container_id  user_answer  answered_correctly  \\\n",
       "887                 False                733            0                   1   \n",
       "1309                False                 44            3                   0   \n",
       "1578                False                 20            3                   1   \n",
       "3048                False                836            0                   1   \n",
       "3916                False                  9            0                   0   \n",
       "...                   ...                ...          ...                 ...   \n",
       "12904518            False                 13            0                   0   \n",
       "12904545            False                 26            2                   1   \n",
       "12904560            False                 13            1                   0   \n",
       "12904595            False                 20            1                   1   \n",
       "12904707            False                 76            3                   0   \n",
       "\n",
       "          prior_question_elapsed_time prior_question_had_explanation  \\\n",
       "887                           31000.0                           True   \n",
       "1309                          54750.0                           True   \n",
       "1578                          18000.0                           True   \n",
       "3048                          23750.0                           True   \n",
       "3916                          17000.0                           True   \n",
       "...                               ...                            ...   \n",
       "12904518                      20000.0                          False   \n",
       "12904545                      25000.0                           True   \n",
       "12904560                       1000.0                           True   \n",
       "12904595                      10000.0                           True   \n",
       "12904707                      14000.0                           True   \n",
       "\n",
       "          cutoff_position  row_id_by_user  \n",
       "887                   888           888.0  \n",
       "1309                   60            60.0  \n",
       "1578                   35            35.0  \n",
       "3048                 1455          1455.0  \n",
       "3916                   10            10.0  \n",
       "...                   ...             ...  \n",
       "12904518               22            22.0  \n",
       "12904545               27            27.0  \n",
       "12904560               14            14.0  \n",
       "12904595               35            35.0  \n",
       "12904707               77            77.0  \n",
       "\n",
       "[50033 rows x 13 columns]"
      ],
      "text/html": "<div>\n<style scoped>\n    .dataframe tbody tr th:only-of-type {\n        vertical-align: middle;\n    }\n\n    .dataframe tbody tr th {\n        vertical-align: top;\n    }\n\n    .dataframe thead th {\n        text-align: right;\n    }\n</style>\n<table border=\"1\" class=\"dataframe\">\n  <thead>\n    <tr style=\"text-align: right;\">\n      <th></th>\n      <th>Unnamed: 0</th>\n      <th>row_id</th>\n      <th>timestamp</th>\n      <th>user_id</th>\n      <th>content_id</th>\n      <th>content_type_id</th>\n      <th>task_container_id</th>\n      <th>user_answer</th>\n      <th>answered_correctly</th>\n      <th>prior_question_elapsed_time</th>\n      <th>prior_question_had_explanation</th>\n      <th>cutoff_position</th>\n      <th>row_id_by_user</th>\n    </tr>\n  </thead>\n  <tbody>\n    <tr>\n      <th>887</th>\n      <td>1511</td>\n      <td>1511</td>\n      <td>16582811868</td>\n      <td>13134</td>\n      <td>6502</td>\n      <td>False</td>\n      <td>733</td>\n      <td>0</td>\n      <td>1</td>\n      <td>31000.0</td>\n      <td>True</td>\n      <td>888</td>\n      <td>888.0</td>\n    </tr>\n    <tr>\n      <th>1309</th>\n      <td>8570</td>\n      <td>8570</td>\n      <td>3778888369</td>\n      <td>44331</td>\n      <td>6916</td>\n      <td>False</td>\n      <td>44</td>\n      <td>3</td>\n      <td>0</td>\n      <td>54750.0</td>\n      <td>True</td>\n      <td>60</td>\n      <td>60.0</td>\n    </tr>\n    <tr>\n      <th>1578</th>\n      <td>13041</td>\n      <td>13041</td>\n      <td>1042673</td>\n      <td>137455</td>\n      <td>894</td>\n      <td>False</td>\n      <td>20</td>\n      <td>3</td>\n      <td>1</td>\n      <td>18000.0</td>\n      <td>True</td>\n      <td>35</td>\n      <td>35.0</td>\n    </tr>\n    <tr>\n      <th>3048</th>\n      <td>15656</td>\n      <td>15656</td>\n      <td>3694573675</td>\n      <td>141455</td>\n      <td>10287</td>\n      <td>False</td>\n      <td>836</td>\n      <td>0</td>\n      <td>1</td>\n      <td>23750.0</td>\n      <td>True</td>\n      <td>1455</td>\n      <td>1455.0</td>\n    </tr>\n    <tr>\n      <th>3916</th>\n      <td>16524</td>\n      <td>16524</td>\n      <td>1125743</td>\n      <td>142896</td>\n      <td>4568</td>\n      <td>False</td>\n      <td>9</td>\n      <td>0</td>\n      <td>0</td>\n      <td>17000.0</td>\n      <td>True</td>\n      <td>10</td>\n      <td>10.0</td>\n    </tr>\n    <tr>\n      <th>...</th>\n      <td>...</td>\n      <td>...</td>\n      <td>...</td>\n      <td>...</td>\n      <td>...</td>\n      <td>...</td>\n      <td>...</td>\n      <td>...</td>\n      <td>...</td>\n      <td>...</td>\n      <td>...</td>\n      <td>...</td>\n      <td>...</td>\n    </tr>\n    <tr>\n      <th>12904518</th>\n      <td>101216958</td>\n      <td>101216958</td>\n      <td>727081</td>\n      <td>2147128056</td>\n      <td>6370</td>\n      <td>False</td>\n      <td>13</td>\n      <td>0</td>\n      <td>0</td>\n      <td>20000.0</td>\n      <td>False</td>\n      <td>22</td>\n      <td>22.0</td>\n    </tr>\n    <tr>\n      <th>12904545</th>\n      <td>101219045</td>\n      <td>101219045</td>\n      <td>615312</td>\n      <td>2147175651</td>\n      <td>3854</td>\n      <td>False</td>\n      <td>26</td>\n      <td>2</td>\n      <td>1</td>\n      <td>25000.0</td>\n      <td>True</td>\n      <td>27</td>\n      <td>27.0</td>\n    </tr>\n    <tr>\n      <th>12904560</th>\n      <td>101223175</td>\n      <td>101223175</td>\n      <td>13117599</td>\n      <td>2147307933</td>\n      <td>4221</td>\n      <td>False</td>\n      <td>13</td>\n      <td>1</td>\n      <td>0</td>\n      <td>1000.0</td>\n      <td>True</td>\n      <td>14</td>\n      <td>14.0</td>\n    </tr>\n    <tr>\n      <th>12904595</th>\n      <td>101223210</td>\n      <td>101223210</td>\n      <td>714348</td>\n      <td>2147308237</td>\n      <td>4420</td>\n      <td>False</td>\n      <td>20</td>\n      <td>1</td>\n      <td>1</td>\n      <td>10000.0</td>\n      <td>True</td>\n      <td>35</td>\n      <td>35.0</td>\n    </tr>\n    <tr>\n      <th>12904707</th>\n      <td>101223421</td>\n      <td>101223421</td>\n      <td>26777112430</td>\n      <td>2147331033</td>\n      <td>4141</td>\n      <td>False</td>\n      <td>76</td>\n      <td>3</td>\n      <td>0</td>\n      <td>14000.0</td>\n      <td>True</td>\n      <td>77</td>\n      <td>77.0</td>\n    </tr>\n  </tbody>\n</table>\n<p>50033 rows × 13 columns</p>\n</div>"
     },
     "metadata": {},
     "execution_count": 93
    }
   ],
   "source": [
    "refine[1]"
   ]
  },
  {
   "cell_type": "code",
   "execution_count": null,
   "metadata": {},
   "outputs": [],
   "source": []
  }
 ],
 "metadata": {
  "kernelspec": {
   "name": "python3",
   "display_name": "Python 3.8.3 64-bit",
   "metadata": {
    "interpreter": {
     "hash": "1ee38ef4a5a9feb55287fd749643f13d043cb0a7addaab2a9c224cbe137c0062"
    }
   }
  },
  "language_info": {
   "codemirror_mode": {
    "name": "ipython",
    "version": 3
   },
   "file_extension": ".py",
   "mimetype": "text/x-python",
   "name": "python",
   "nbconvert_exporter": "python",
   "pygments_lexer": "ipython3",
   "version": "3.8.3-final"
  }
 },
 "nbformat": 4,
 "nbformat_minor": 4
}