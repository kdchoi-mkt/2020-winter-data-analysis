{
 "cells": [
  {
   "cell_type": "code",
   "execution_count": 1,
   "metadata": {},
   "outputs": [],
   "source": [
    "import pandas as pd\n",
    "import refinement\n",
    "import preprocessing\n",
    "import pickle as pkl"
   ]
  },
  {
   "cell_type": "code",
   "execution_count": 2,
   "metadata": {},
   "outputs": [],
   "source": [
    "# log_data = pd.read_csv('../resources/input/sample_train.csv')\n",
    "# train_data, test_data = refinement.refine_log_data(log_data)\n",
    "\n",
    "with open('./refined_data.pkl', 'rb') as f:\n",
    "    train_data = pkl.load(f)"
   ]
  },
  {
   "cell_type": "code",
   "execution_count": 4,
   "metadata": {},
   "outputs": [],
   "source": [
    "question_data = pd.read_csv('../resources/input/questions.csv')\n",
    "answered_data = pd.read_csv('../resources/input/answered_info.csv')\n",
    "\n",
    "answered_data = answered_data.rename(columns = {'content_id': 'question_id', \n",
    "                                                'answered_count': 'question_answer_count', \n",
    "                                                'corrected_count': 'question_correct_count', \n",
    "                                                'corrected_ratio': 'question_correct_ratio'})\n",
    "question_data = pd.merge(question_data, answered_data)"
   ]
  },
  {
   "cell_type": "code",
   "execution_count": 5,
   "metadata": {},
   "outputs": [],
   "source": [
    "feature_data = preprocessing.derive_question_info(train_data, question_data)"
   ]
  },
  {
   "cell_type": "code",
   "execution_count": 6,
   "metadata": {},
   "outputs": [
    {
     "data": {
      "text/html": [
       "<div>\n",
       "<style scoped>\n",
       "    .dataframe tbody tr th:only-of-type {\n",
       "        vertical-align: middle;\n",
       "    }\n",
       "\n",
       "    .dataframe tbody tr th {\n",
       "        vertical-align: top;\n",
       "    }\n",
       "\n",
       "    .dataframe thead th {\n",
       "        text-align: right;\n",
       "    }\n",
       "</style>\n",
       "<table border=\"1\" class=\"dataframe\">\n",
       "  <thead>\n",
       "    <tr style=\"text-align: right;\">\n",
       "      <th></th>\n",
       "      <th>user_id</th>\n",
       "      <th>part</th>\n",
       "      <th>answered_count</th>\n",
       "      <th>correct_count</th>\n",
       "      <th>seen_explanation_count</th>\n",
       "      <th>answer_elapsed_time_mean</th>\n",
       "      <th>answer_elapsed_time_sum</th>\n",
       "      <th>recently_solve_question</th>\n",
       "      <th>recently_correct_answer</th>\n",
       "      <th>solved_question_tag_list</th>\n",
       "      <th>...</th>\n",
       "      <th>total_answered_count</th>\n",
       "      <th>total_correct_count</th>\n",
       "      <th>total_seen_explanation_count</th>\n",
       "      <th>total_answer_elapsed_time_mean</th>\n",
       "      <th>total_answer_elapsed_time_sum</th>\n",
       "      <th>total_recently_solve_question</th>\n",
       "      <th>total_recently_correct_answer</th>\n",
       "      <th>total_solved_question_tag_list</th>\n",
       "      <th>total_correct_rate</th>\n",
       "      <th>total_seen_explanation_rate</th>\n",
       "    </tr>\n",
       "  </thead>\n",
       "  <tbody>\n",
       "    <tr>\n",
       "      <th>0</th>\n",
       "      <td>13134</td>\n",
       "      <td>1</td>\n",
       "      <td>29.0</td>\n",
       "      <td>18.0</td>\n",
       "      <td>29.0</td>\n",
       "      <td>23103.448276</td>\n",
       "      <td>670000.0</td>\n",
       "      <td>1.509097e+10</td>\n",
       "      <td>1.0</td>\n",
       "      <td>[131, 5, 102, 51, 131, 92, 131, 130, 92, 131, ...</td>\n",
       "      <td>...</td>\n",
       "      <td>345.0</td>\n",
       "      <td>236.0</td>\n",
       "      <td>338.0</td>\n",
       "      <td>21901.373913</td>\n",
       "      <td>7555974.0</td>\n",
       "      <td>1.509124e+10</td>\n",
       "      <td>0.0</td>\n",
       "      <td>[75, 148, 32, 81, 29, 55, 89, 55, 166, 1, 156,...</td>\n",
       "      <td>68.405797</td>\n",
       "      <td>97.971014</td>\n",
       "    </tr>\n",
       "    <tr>\n",
       "      <th>1</th>\n",
       "      <td>13134</td>\n",
       "      <td>2</td>\n",
       "      <td>147.0</td>\n",
       "      <td>106.0</td>\n",
       "      <td>146.0</td>\n",
       "      <td>18680.272109</td>\n",
       "      <td>2746000.0</td>\n",
       "      <td>1.509124e+10</td>\n",
       "      <td>0.0</td>\n",
       "      <td>[148, 32, 81, 29, 62, 155, 119, 92, 29, 148, 3...</td>\n",
       "      <td>...</td>\n",
       "      <td>345.0</td>\n",
       "      <td>236.0</td>\n",
       "      <td>338.0</td>\n",
       "      <td>21901.373913</td>\n",
       "      <td>7555974.0</td>\n",
       "      <td>1.509124e+10</td>\n",
       "      <td>0.0</td>\n",
       "      <td>[75, 148, 32, 81, 29, 55, 89, 55, 166, 1, 156,...</td>\n",
       "      <td>68.405797</td>\n",
       "      <td>97.971014</td>\n",
       "    </tr>\n",
       "    <tr>\n",
       "      <th>2</th>\n",
       "      <td>13134</td>\n",
       "      <td>3</td>\n",
       "      <td>63.0</td>\n",
       "      <td>43.0</td>\n",
       "      <td>63.0</td>\n",
       "      <td>28349.000000</td>\n",
       "      <td>1785987.0</td>\n",
       "      <td>1.508949e+10</td>\n",
       "      <td>0.0</td>\n",
       "      <td>[82, 92, 29, 136, 162, 92, 29, 74, 92, 29, 136...</td>\n",
       "      <td>...</td>\n",
       "      <td>345.0</td>\n",
       "      <td>236.0</td>\n",
       "      <td>338.0</td>\n",
       "      <td>21901.373913</td>\n",
       "      <td>7555974.0</td>\n",
       "      <td>1.509124e+10</td>\n",
       "      <td>0.0</td>\n",
       "      <td>[75, 148, 32, 81, 29, 55, 89, 55, 166, 1, 156,...</td>\n",
       "      <td>68.405797</td>\n",
       "      <td>97.971014</td>\n",
       "    </tr>\n",
       "    <tr>\n",
       "      <th>3</th>\n",
       "      <td>13134</td>\n",
       "      <td>4</td>\n",
       "      <td>33.0</td>\n",
       "      <td>21.0</td>\n",
       "      <td>33.0</td>\n",
       "      <td>28575.363636</td>\n",
       "      <td>942987.0</td>\n",
       "      <td>1.508560e+10</td>\n",
       "      <td>1.0</td>\n",
       "      <td>[74, 144, 162, 92, 136, 144, 162, 92, 157, 144...</td>\n",
       "      <td>...</td>\n",
       "      <td>345.0</td>\n",
       "      <td>236.0</td>\n",
       "      <td>338.0</td>\n",
       "      <td>21901.373913</td>\n",
       "      <td>7555974.0</td>\n",
       "      <td>1.509124e+10</td>\n",
       "      <td>0.0</td>\n",
       "      <td>[75, 148, 32, 81, 29, 55, 89, 55, 166, 1, 156,...</td>\n",
       "      <td>68.405797</td>\n",
       "      <td>97.971014</td>\n",
       "    </tr>\n",
       "    <tr>\n",
       "      <th>4</th>\n",
       "      <td>13134</td>\n",
       "      <td>5</td>\n",
       "      <td>69.0</td>\n",
       "      <td>45.0</td>\n",
       "      <td>63.0</td>\n",
       "      <td>19014.492754</td>\n",
       "      <td>1312000.0</td>\n",
       "      <td>1.508975e+10</td>\n",
       "      <td>0.0</td>\n",
       "      <td>[75, 55, 89, 55, 166, 1, 156, 47, 167, 53, 179...</td>\n",
       "      <td>...</td>\n",
       "      <td>345.0</td>\n",
       "      <td>236.0</td>\n",
       "      <td>338.0</td>\n",
       "      <td>21901.373913</td>\n",
       "      <td>7555974.0</td>\n",
       "      <td>1.509124e+10</td>\n",
       "      <td>0.0</td>\n",
       "      <td>[75, 148, 32, 81, 29, 55, 89, 55, 166, 1, 156,...</td>\n",
       "      <td>68.405797</td>\n",
       "      <td>97.971014</td>\n",
       "    </tr>\n",
       "    <tr>\n",
       "      <th>...</th>\n",
       "      <td>...</td>\n",
       "      <td>...</td>\n",
       "      <td>...</td>\n",
       "      <td>...</td>\n",
       "      <td>...</td>\n",
       "      <td>...</td>\n",
       "      <td>...</td>\n",
       "      <td>...</td>\n",
       "      <td>...</td>\n",
       "      <td>...</td>\n",
       "      <td>...</td>\n",
       "      <td>...</td>\n",
       "      <td>...</td>\n",
       "      <td>...</td>\n",
       "      <td>...</td>\n",
       "      <td>...</td>\n",
       "      <td>...</td>\n",
       "      <td>...</td>\n",
       "      <td>...</td>\n",
       "      <td>...</td>\n",
       "      <td>...</td>\n",
       "    </tr>\n",
       "    <tr>\n",
       "      <th>194511</th>\n",
       "      <td>2147308237</td>\n",
       "      <td>5</td>\n",
       "      <td>7.0</td>\n",
       "      <td>4.0</td>\n",
       "      <td>1.0</td>\n",
       "      <td>10571.428571</td>\n",
       "      <td>74000.0</td>\n",
       "      <td>6.154810e+05</td>\n",
       "      <td>1.0</td>\n",
       "      <td>[80, 123, 133, 23, 151, 79, 57]</td>\n",
       "      <td>...</td>\n",
       "      <td>31.0</td>\n",
       "      <td>19.0</td>\n",
       "      <td>1.0</td>\n",
       "      <td>17612.806452</td>\n",
       "      <td>545997.0</td>\n",
       "      <td>6.154810e+05</td>\n",
       "      <td>1.0</td>\n",
       "      <td>[131, 93, 81, 10, 94, 92, 9, 10, 92, 143, 140,...</td>\n",
       "      <td>61.290323</td>\n",
       "      <td>3.225806</td>\n",
       "    </tr>\n",
       "    <tr>\n",
       "      <th>194512</th>\n",
       "      <td>2147308237</td>\n",
       "      <td>6</td>\n",
       "      <td>4.0</td>\n",
       "      <td>2.0</td>\n",
       "      <td>0.0</td>\n",
       "      <td>18000.000000</td>\n",
       "      <td>72000.0</td>\n",
       "      <td>4.212340e+05</td>\n",
       "      <td>1.0</td>\n",
       "      <td>[65, 96, 27, 73]</td>\n",
       "      <td>...</td>\n",
       "      <td>31.0</td>\n",
       "      <td>19.0</td>\n",
       "      <td>1.0</td>\n",
       "      <td>17612.806452</td>\n",
       "      <td>545997.0</td>\n",
       "      <td>6.154810e+05</td>\n",
       "      <td>1.0</td>\n",
       "      <td>[131, 93, 81, 10, 94, 92, 9, 10, 92, 143, 140,...</td>\n",
       "      <td>61.290323</td>\n",
       "      <td>3.225806</td>\n",
       "    </tr>\n",
       "    <tr>\n",
       "      <th>194513</th>\n",
       "      <td>2147308237</td>\n",
       "      <td>7</td>\n",
       "      <td>4.0</td>\n",
       "      <td>2.0</td>\n",
       "      <td>0.0</td>\n",
       "      <td>37000.000000</td>\n",
       "      <td>148000.0</td>\n",
       "      <td>5.719720e+05</td>\n",
       "      <td>0.0</td>\n",
       "      <td>[50, 19, 21, 50, 118, 21, 50, 18, 21, 97, 50, 21]</td>\n",
       "      <td>...</td>\n",
       "      <td>31.0</td>\n",
       "      <td>19.0</td>\n",
       "      <td>1.0</td>\n",
       "      <td>17612.806452</td>\n",
       "      <td>545997.0</td>\n",
       "      <td>6.154810e+05</td>\n",
       "      <td>1.0</td>\n",
       "      <td>[131, 93, 81, 10, 94, 92, 9, 10, 92, 143, 140,...</td>\n",
       "      <td>61.290323</td>\n",
       "      <td>3.225806</td>\n",
       "    </tr>\n",
       "    <tr>\n",
       "      <th>194514</th>\n",
       "      <td>2147331033</td>\n",
       "      <td>2</td>\n",
       "      <td>10.0</td>\n",
       "      <td>8.0</td>\n",
       "      <td>10.0</td>\n",
       "      <td>25400.000000</td>\n",
       "      <td>254000.0</td>\n",
       "      <td>2.643062e+10</td>\n",
       "      <td>1.0</td>\n",
       "      <td>[155, 163, 92, 102, 17, 56, 81, 92, 17, 56, 92...</td>\n",
       "      <td>...</td>\n",
       "      <td>38.0</td>\n",
       "      <td>18.0</td>\n",
       "      <td>27.0</td>\n",
       "      <td>20263.157895</td>\n",
       "      <td>770000.0</td>\n",
       "      <td>2.643102e+10</td>\n",
       "      <td>1.0</td>\n",
       "      <td>[14, 125, 1, 1, 152, 96, 26, 8, 55, 96, 73, 72...</td>\n",
       "      <td>47.368421</td>\n",
       "      <td>71.052632</td>\n",
       "    </tr>\n",
       "    <tr>\n",
       "      <th>194515</th>\n",
       "      <td>2147331033</td>\n",
       "      <td>5</td>\n",
       "      <td>28.0</td>\n",
       "      <td>10.0</td>\n",
       "      <td>17.0</td>\n",
       "      <td>18428.571429</td>\n",
       "      <td>516000.0</td>\n",
       "      <td>2.643102e+10</td>\n",
       "      <td>1.0</td>\n",
       "      <td>[14, 125, 1, 1, 152, 96, 26, 8, 55, 96, 73, 72...</td>\n",
       "      <td>...</td>\n",
       "      <td>38.0</td>\n",
       "      <td>18.0</td>\n",
       "      <td>27.0</td>\n",
       "      <td>20263.157895</td>\n",
       "      <td>770000.0</td>\n",
       "      <td>2.643102e+10</td>\n",
       "      <td>1.0</td>\n",
       "      <td>[14, 125, 1, 1, 152, 96, 26, 8, 55, 96, 73, 72...</td>\n",
       "      <td>47.368421</td>\n",
       "      <td>71.052632</td>\n",
       "    </tr>\n",
       "  </tbody>\n",
       "</table>\n",
       "<p>194516 rows × 22 columns</p>\n",
       "</div>"
      ],
      "text/plain": [
       "           user_id  part  answered_count  correct_count  \\\n",
       "0            13134     1            29.0           18.0   \n",
       "1            13134     2           147.0          106.0   \n",
       "2            13134     3            63.0           43.0   \n",
       "3            13134     4            33.0           21.0   \n",
       "4            13134     5            69.0           45.0   \n",
       "...            ...   ...             ...            ...   \n",
       "194511  2147308237     5             7.0            4.0   \n",
       "194512  2147308237     6             4.0            2.0   \n",
       "194513  2147308237     7             4.0            2.0   \n",
       "194514  2147331033     2            10.0            8.0   \n",
       "194515  2147331033     5            28.0           10.0   \n",
       "\n",
       "        seen_explanation_count  answer_elapsed_time_mean  \\\n",
       "0                         29.0              23103.448276   \n",
       "1                        146.0              18680.272109   \n",
       "2                         63.0              28349.000000   \n",
       "3                         33.0              28575.363636   \n",
       "4                         63.0              19014.492754   \n",
       "...                        ...                       ...   \n",
       "194511                     1.0              10571.428571   \n",
       "194512                     0.0              18000.000000   \n",
       "194513                     0.0              37000.000000   \n",
       "194514                    10.0              25400.000000   \n",
       "194515                    17.0              18428.571429   \n",
       "\n",
       "        answer_elapsed_time_sum  recently_solve_question  \\\n",
       "0                      670000.0             1.509097e+10   \n",
       "1                     2746000.0             1.509124e+10   \n",
       "2                     1785987.0             1.508949e+10   \n",
       "3                      942987.0             1.508560e+10   \n",
       "4                     1312000.0             1.508975e+10   \n",
       "...                         ...                      ...   \n",
       "194511                  74000.0             6.154810e+05   \n",
       "194512                  72000.0             4.212340e+05   \n",
       "194513                 148000.0             5.719720e+05   \n",
       "194514                 254000.0             2.643062e+10   \n",
       "194515                 516000.0             2.643102e+10   \n",
       "\n",
       "        recently_correct_answer  \\\n",
       "0                           1.0   \n",
       "1                           0.0   \n",
       "2                           0.0   \n",
       "3                           1.0   \n",
       "4                           0.0   \n",
       "...                         ...   \n",
       "194511                      1.0   \n",
       "194512                      1.0   \n",
       "194513                      0.0   \n",
       "194514                      1.0   \n",
       "194515                      1.0   \n",
       "\n",
       "                                 solved_question_tag_list  ...  \\\n",
       "0       [131, 5, 102, 51, 131, 92, 131, 130, 92, 131, ...  ...   \n",
       "1       [148, 32, 81, 29, 62, 155, 119, 92, 29, 148, 3...  ...   \n",
       "2       [82, 92, 29, 136, 162, 92, 29, 74, 92, 29, 136...  ...   \n",
       "3       [74, 144, 162, 92, 136, 144, 162, 92, 157, 144...  ...   \n",
       "4       [75, 55, 89, 55, 166, 1, 156, 47, 167, 53, 179...  ...   \n",
       "...                                                   ...  ...   \n",
       "194511                    [80, 123, 133, 23, 151, 79, 57]  ...   \n",
       "194512                                   [65, 96, 27, 73]  ...   \n",
       "194513  [50, 19, 21, 50, 118, 21, 50, 18, 21, 97, 50, 21]  ...   \n",
       "194514  [155, 163, 92, 102, 17, 56, 81, 92, 17, 56, 92...  ...   \n",
       "194515  [14, 125, 1, 1, 152, 96, 26, 8, 55, 96, 73, 72...  ...   \n",
       "\n",
       "        total_answered_count  total_correct_count  \\\n",
       "0                      345.0                236.0   \n",
       "1                      345.0                236.0   \n",
       "2                      345.0                236.0   \n",
       "3                      345.0                236.0   \n",
       "4                      345.0                236.0   \n",
       "...                      ...                  ...   \n",
       "194511                  31.0                 19.0   \n",
       "194512                  31.0                 19.0   \n",
       "194513                  31.0                 19.0   \n",
       "194514                  38.0                 18.0   \n",
       "194515                  38.0                 18.0   \n",
       "\n",
       "        total_seen_explanation_count  total_answer_elapsed_time_mean  \\\n",
       "0                              338.0                    21901.373913   \n",
       "1                              338.0                    21901.373913   \n",
       "2                              338.0                    21901.373913   \n",
       "3                              338.0                    21901.373913   \n",
       "4                              338.0                    21901.373913   \n",
       "...                              ...                             ...   \n",
       "194511                           1.0                    17612.806452   \n",
       "194512                           1.0                    17612.806452   \n",
       "194513                           1.0                    17612.806452   \n",
       "194514                          27.0                    20263.157895   \n",
       "194515                          27.0                    20263.157895   \n",
       "\n",
       "        total_answer_elapsed_time_sum  total_recently_solve_question  \\\n",
       "0                           7555974.0                   1.509124e+10   \n",
       "1                           7555974.0                   1.509124e+10   \n",
       "2                           7555974.0                   1.509124e+10   \n",
       "3                           7555974.0                   1.509124e+10   \n",
       "4                           7555974.0                   1.509124e+10   \n",
       "...                               ...                            ...   \n",
       "194511                       545997.0                   6.154810e+05   \n",
       "194512                       545997.0                   6.154810e+05   \n",
       "194513                       545997.0                   6.154810e+05   \n",
       "194514                       770000.0                   2.643102e+10   \n",
       "194515                       770000.0                   2.643102e+10   \n",
       "\n",
       "        total_recently_correct_answer  \\\n",
       "0                                 0.0   \n",
       "1                                 0.0   \n",
       "2                                 0.0   \n",
       "3                                 0.0   \n",
       "4                                 0.0   \n",
       "...                               ...   \n",
       "194511                            1.0   \n",
       "194512                            1.0   \n",
       "194513                            1.0   \n",
       "194514                            1.0   \n",
       "194515                            1.0   \n",
       "\n",
       "                           total_solved_question_tag_list  total_correct_rate  \\\n",
       "0       [75, 148, 32, 81, 29, 55, 89, 55, 166, 1, 156,...           68.405797   \n",
       "1       [75, 148, 32, 81, 29, 55, 89, 55, 166, 1, 156,...           68.405797   \n",
       "2       [75, 148, 32, 81, 29, 55, 89, 55, 166, 1, 156,...           68.405797   \n",
       "3       [75, 148, 32, 81, 29, 55, 89, 55, 166, 1, 156,...           68.405797   \n",
       "4       [75, 148, 32, 81, 29, 55, 89, 55, 166, 1, 156,...           68.405797   \n",
       "...                                                   ...                 ...   \n",
       "194511  [131, 93, 81, 10, 94, 92, 9, 10, 92, 143, 140,...           61.290323   \n",
       "194512  [131, 93, 81, 10, 94, 92, 9, 10, 92, 143, 140,...           61.290323   \n",
       "194513  [131, 93, 81, 10, 94, 92, 9, 10, 92, 143, 140,...           61.290323   \n",
       "194514  [14, 125, 1, 1, 152, 96, 26, 8, 55, 96, 73, 72...           47.368421   \n",
       "194515  [14, 125, 1, 1, 152, 96, 26, 8, 55, 96, 73, 72...           47.368421   \n",
       "\n",
       "       total_seen_explanation_rate  \n",
       "0                        97.971014  \n",
       "1                        97.971014  \n",
       "2                        97.971014  \n",
       "3                        97.971014  \n",
       "4                        97.971014  \n",
       "...                            ...  \n",
       "194511                    3.225806  \n",
       "194512                    3.225806  \n",
       "194513                    3.225806  \n",
       "194514                   71.052632  \n",
       "194515                   71.052632  \n",
       "\n",
       "[194516 rows x 22 columns]"
      ]
     },
     "execution_count": 6,
     "metadata": {},
     "output_type": "execute_result"
    }
   ],
   "source": [
    "feature_data"
   ]
  },
  {
   "cell_type": "code",
   "execution_count": 11,
   "metadata": {},
   "outputs": [],
   "source": [
    "test_data = pd.merge(test_data, question_data, left_on = ['content_id'], right_on = ['question_id'])"
   ]
  },
  {
   "cell_type": "code",
   "execution_count": 12,
   "metadata": {},
   "outputs": [],
   "source": [
    "analysis = pd.merge(test_data, feature_data, on = ['user_id', 'part'])"
   ]
  },
  {
   "cell_type": "code",
   "execution_count": 13,
   "metadata": {},
   "outputs": [],
   "source": [
    "analysis['time_gap'] = analysis['timestamp'] - analysis['recently_solve_question']\n",
    "analysis['total_time_gap'] = analysis['timestamp'] - analysis['total_recently_solve_question']"
   ]
  },
  {
   "cell_type": "code",
   "execution_count": 23,
   "metadata": {},
   "outputs": [
    {
     "data": {
      "text/html": [
       "<div>\n",
       "<style scoped>\n",
       "    .dataframe tbody tr th:only-of-type {\n",
       "        vertical-align: middle;\n",
       "    }\n",
       "\n",
       "    .dataframe tbody tr th {\n",
       "        vertical-align: top;\n",
       "    }\n",
       "\n",
       "    .dataframe thead th {\n",
       "        text-align: right;\n",
       "    }\n",
       "</style>\n",
       "<table border=\"1\" class=\"dataframe\">\n",
       "  <thead>\n",
       "    <tr style=\"text-align: right;\">\n",
       "      <th></th>\n",
       "      <th>user_id</th>\n",
       "      <th>part</th>\n",
       "      <th>answered_count</th>\n",
       "      <th>correct_count</th>\n",
       "      <th>seen_explanation_count</th>\n",
       "      <th>answer_elapsed_time_mean</th>\n",
       "      <th>answer_elapsed_time_sum</th>\n",
       "      <th>recently_solve_question</th>\n",
       "      <th>recently_correct_answer</th>\n",
       "      <th>correct_rate</th>\n",
       "      <th>seen_explanation_rate</th>\n",
       "      <th>total_answered_count</th>\n",
       "      <th>total_correct_count</th>\n",
       "      <th>total_seen_explanation_count</th>\n",
       "      <th>total_answer_elapsed_time_mean</th>\n",
       "      <th>total_answer_elapsed_time_sum</th>\n",
       "      <th>total_recently_solve_question</th>\n",
       "      <th>total_recently_correct_answer</th>\n",
       "      <th>total_correct_rate</th>\n",
       "      <th>total_seen_explanation_rate</th>\n",
       "    </tr>\n",
       "  </thead>\n",
       "  <tbody>\n",
       "    <tr>\n",
       "      <th>0</th>\n",
       "      <td>13134</td>\n",
       "      <td>1</td>\n",
       "      <td>29.0</td>\n",
       "      <td>18.0</td>\n",
       "      <td>29.0</td>\n",
       "      <td>23103.448276</td>\n",
       "      <td>670000.0</td>\n",
       "      <td>1.509097e+10</td>\n",
       "      <td>1.0</td>\n",
       "      <td>62.068966</td>\n",
       "      <td>100.000000</td>\n",
       "      <td>345.0</td>\n",
       "      <td>236.0</td>\n",
       "      <td>338.0</td>\n",
       "      <td>21901.373913</td>\n",
       "      <td>7555974.0</td>\n",
       "      <td>1.509124e+10</td>\n",
       "      <td>0.0</td>\n",
       "      <td>68.405797</td>\n",
       "      <td>97.971014</td>\n",
       "    </tr>\n",
       "    <tr>\n",
       "      <th>1</th>\n",
       "      <td>13134</td>\n",
       "      <td>2</td>\n",
       "      <td>147.0</td>\n",
       "      <td>106.0</td>\n",
       "      <td>146.0</td>\n",
       "      <td>18680.272109</td>\n",
       "      <td>2746000.0</td>\n",
       "      <td>1.509124e+10</td>\n",
       "      <td>0.0</td>\n",
       "      <td>72.108844</td>\n",
       "      <td>99.319728</td>\n",
       "      <td>345.0</td>\n",
       "      <td>236.0</td>\n",
       "      <td>338.0</td>\n",
       "      <td>21901.373913</td>\n",
       "      <td>7555974.0</td>\n",
       "      <td>1.509124e+10</td>\n",
       "      <td>0.0</td>\n",
       "      <td>68.405797</td>\n",
       "      <td>97.971014</td>\n",
       "    </tr>\n",
       "    <tr>\n",
       "      <th>2</th>\n",
       "      <td>13134</td>\n",
       "      <td>3</td>\n",
       "      <td>63.0</td>\n",
       "      <td>43.0</td>\n",
       "      <td>63.0</td>\n",
       "      <td>28349.000000</td>\n",
       "      <td>1785987.0</td>\n",
       "      <td>1.508949e+10</td>\n",
       "      <td>0.0</td>\n",
       "      <td>68.253968</td>\n",
       "      <td>100.000000</td>\n",
       "      <td>345.0</td>\n",
       "      <td>236.0</td>\n",
       "      <td>338.0</td>\n",
       "      <td>21901.373913</td>\n",
       "      <td>7555974.0</td>\n",
       "      <td>1.509124e+10</td>\n",
       "      <td>0.0</td>\n",
       "      <td>68.405797</td>\n",
       "      <td>97.971014</td>\n",
       "    </tr>\n",
       "    <tr>\n",
       "      <th>3</th>\n",
       "      <td>13134</td>\n",
       "      <td>4</td>\n",
       "      <td>33.0</td>\n",
       "      <td>21.0</td>\n",
       "      <td>33.0</td>\n",
       "      <td>28575.363636</td>\n",
       "      <td>942987.0</td>\n",
       "      <td>1.508560e+10</td>\n",
       "      <td>1.0</td>\n",
       "      <td>63.636364</td>\n",
       "      <td>100.000000</td>\n",
       "      <td>345.0</td>\n",
       "      <td>236.0</td>\n",
       "      <td>338.0</td>\n",
       "      <td>21901.373913</td>\n",
       "      <td>7555974.0</td>\n",
       "      <td>1.509124e+10</td>\n",
       "      <td>0.0</td>\n",
       "      <td>68.405797</td>\n",
       "      <td>97.971014</td>\n",
       "    </tr>\n",
       "    <tr>\n",
       "      <th>4</th>\n",
       "      <td>13134</td>\n",
       "      <td>5</td>\n",
       "      <td>69.0</td>\n",
       "      <td>45.0</td>\n",
       "      <td>63.0</td>\n",
       "      <td>19014.492754</td>\n",
       "      <td>1312000.0</td>\n",
       "      <td>1.508975e+10</td>\n",
       "      <td>0.0</td>\n",
       "      <td>65.217391</td>\n",
       "      <td>91.304348</td>\n",
       "      <td>345.0</td>\n",
       "      <td>236.0</td>\n",
       "      <td>338.0</td>\n",
       "      <td>21901.373913</td>\n",
       "      <td>7555974.0</td>\n",
       "      <td>1.509124e+10</td>\n",
       "      <td>0.0</td>\n",
       "      <td>68.405797</td>\n",
       "      <td>97.971014</td>\n",
       "    </tr>\n",
       "    <tr>\n",
       "      <th>...</th>\n",
       "      <td>...</td>\n",
       "      <td>...</td>\n",
       "      <td>...</td>\n",
       "      <td>...</td>\n",
       "      <td>...</td>\n",
       "      <td>...</td>\n",
       "      <td>...</td>\n",
       "      <td>...</td>\n",
       "      <td>...</td>\n",
       "      <td>...</td>\n",
       "      <td>...</td>\n",
       "      <td>...</td>\n",
       "      <td>...</td>\n",
       "      <td>...</td>\n",
       "      <td>...</td>\n",
       "      <td>...</td>\n",
       "      <td>...</td>\n",
       "      <td>...</td>\n",
       "      <td>...</td>\n",
       "      <td>...</td>\n",
       "    </tr>\n",
       "    <tr>\n",
       "      <th>194511</th>\n",
       "      <td>2147308237</td>\n",
       "      <td>5</td>\n",
       "      <td>7.0</td>\n",
       "      <td>4.0</td>\n",
       "      <td>1.0</td>\n",
       "      <td>10571.428571</td>\n",
       "      <td>74000.0</td>\n",
       "      <td>6.154810e+05</td>\n",
       "      <td>1.0</td>\n",
       "      <td>57.142857</td>\n",
       "      <td>14.285714</td>\n",
       "      <td>31.0</td>\n",
       "      <td>19.0</td>\n",
       "      <td>1.0</td>\n",
       "      <td>17612.806452</td>\n",
       "      <td>545997.0</td>\n",
       "      <td>6.154810e+05</td>\n",
       "      <td>1.0</td>\n",
       "      <td>61.290323</td>\n",
       "      <td>3.225806</td>\n",
       "    </tr>\n",
       "    <tr>\n",
       "      <th>194512</th>\n",
       "      <td>2147308237</td>\n",
       "      <td>6</td>\n",
       "      <td>4.0</td>\n",
       "      <td>2.0</td>\n",
       "      <td>0.0</td>\n",
       "      <td>18000.000000</td>\n",
       "      <td>72000.0</td>\n",
       "      <td>4.212340e+05</td>\n",
       "      <td>1.0</td>\n",
       "      <td>50.000000</td>\n",
       "      <td>0.000000</td>\n",
       "      <td>31.0</td>\n",
       "      <td>19.0</td>\n",
       "      <td>1.0</td>\n",
       "      <td>17612.806452</td>\n",
       "      <td>545997.0</td>\n",
       "      <td>6.154810e+05</td>\n",
       "      <td>1.0</td>\n",
       "      <td>61.290323</td>\n",
       "      <td>3.225806</td>\n",
       "    </tr>\n",
       "    <tr>\n",
       "      <th>194513</th>\n",
       "      <td>2147308237</td>\n",
       "      <td>7</td>\n",
       "      <td>4.0</td>\n",
       "      <td>2.0</td>\n",
       "      <td>0.0</td>\n",
       "      <td>37000.000000</td>\n",
       "      <td>148000.0</td>\n",
       "      <td>5.719720e+05</td>\n",
       "      <td>0.0</td>\n",
       "      <td>50.000000</td>\n",
       "      <td>0.000000</td>\n",
       "      <td>31.0</td>\n",
       "      <td>19.0</td>\n",
       "      <td>1.0</td>\n",
       "      <td>17612.806452</td>\n",
       "      <td>545997.0</td>\n",
       "      <td>6.154810e+05</td>\n",
       "      <td>1.0</td>\n",
       "      <td>61.290323</td>\n",
       "      <td>3.225806</td>\n",
       "    </tr>\n",
       "    <tr>\n",
       "      <th>194514</th>\n",
       "      <td>2147331033</td>\n",
       "      <td>2</td>\n",
       "      <td>10.0</td>\n",
       "      <td>8.0</td>\n",
       "      <td>10.0</td>\n",
       "      <td>25400.000000</td>\n",
       "      <td>254000.0</td>\n",
       "      <td>2.643062e+10</td>\n",
       "      <td>1.0</td>\n",
       "      <td>80.000000</td>\n",
       "      <td>100.000000</td>\n",
       "      <td>38.0</td>\n",
       "      <td>18.0</td>\n",
       "      <td>27.0</td>\n",
       "      <td>20263.157895</td>\n",
       "      <td>770000.0</td>\n",
       "      <td>2.643102e+10</td>\n",
       "      <td>1.0</td>\n",
       "      <td>47.368421</td>\n",
       "      <td>71.052632</td>\n",
       "    </tr>\n",
       "    <tr>\n",
       "      <th>194515</th>\n",
       "      <td>2147331033</td>\n",
       "      <td>5</td>\n",
       "      <td>28.0</td>\n",
       "      <td>10.0</td>\n",
       "      <td>17.0</td>\n",
       "      <td>18428.571429</td>\n",
       "      <td>516000.0</td>\n",
       "      <td>2.643102e+10</td>\n",
       "      <td>1.0</td>\n",
       "      <td>35.714286</td>\n",
       "      <td>60.714286</td>\n",
       "      <td>38.0</td>\n",
       "      <td>18.0</td>\n",
       "      <td>27.0</td>\n",
       "      <td>20263.157895</td>\n",
       "      <td>770000.0</td>\n",
       "      <td>2.643102e+10</td>\n",
       "      <td>1.0</td>\n",
       "      <td>47.368421</td>\n",
       "      <td>71.052632</td>\n",
       "    </tr>\n",
       "  </tbody>\n",
       "</table>\n",
       "<p>194516 rows × 20 columns</p>\n",
       "</div>"
      ],
      "text/plain": [
       "           user_id  part  answered_count  correct_count  \\\n",
       "0            13134     1            29.0           18.0   \n",
       "1            13134     2           147.0          106.0   \n",
       "2            13134     3            63.0           43.0   \n",
       "3            13134     4            33.0           21.0   \n",
       "4            13134     5            69.0           45.0   \n",
       "...            ...   ...             ...            ...   \n",
       "194511  2147308237     5             7.0            4.0   \n",
       "194512  2147308237     6             4.0            2.0   \n",
       "194513  2147308237     7             4.0            2.0   \n",
       "194514  2147331033     2            10.0            8.0   \n",
       "194515  2147331033     5            28.0           10.0   \n",
       "\n",
       "        seen_explanation_count  answer_elapsed_time_mean  \\\n",
       "0                         29.0              23103.448276   \n",
       "1                        146.0              18680.272109   \n",
       "2                         63.0              28349.000000   \n",
       "3                         33.0              28575.363636   \n",
       "4                         63.0              19014.492754   \n",
       "...                        ...                       ...   \n",
       "194511                     1.0              10571.428571   \n",
       "194512                     0.0              18000.000000   \n",
       "194513                     0.0              37000.000000   \n",
       "194514                    10.0              25400.000000   \n",
       "194515                    17.0              18428.571429   \n",
       "\n",
       "        answer_elapsed_time_sum  recently_solve_question  \\\n",
       "0                      670000.0             1.509097e+10   \n",
       "1                     2746000.0             1.509124e+10   \n",
       "2                     1785987.0             1.508949e+10   \n",
       "3                      942987.0             1.508560e+10   \n",
       "4                     1312000.0             1.508975e+10   \n",
       "...                         ...                      ...   \n",
       "194511                  74000.0             6.154810e+05   \n",
       "194512                  72000.0             4.212340e+05   \n",
       "194513                 148000.0             5.719720e+05   \n",
       "194514                 254000.0             2.643062e+10   \n",
       "194515                 516000.0             2.643102e+10   \n",
       "\n",
       "        recently_correct_answer  correct_rate  seen_explanation_rate  \\\n",
       "0                           1.0     62.068966             100.000000   \n",
       "1                           0.0     72.108844              99.319728   \n",
       "2                           0.0     68.253968             100.000000   \n",
       "3                           1.0     63.636364             100.000000   \n",
       "4                           0.0     65.217391              91.304348   \n",
       "...                         ...           ...                    ...   \n",
       "194511                      1.0     57.142857              14.285714   \n",
       "194512                      1.0     50.000000               0.000000   \n",
       "194513                      0.0     50.000000               0.000000   \n",
       "194514                      1.0     80.000000             100.000000   \n",
       "194515                      1.0     35.714286              60.714286   \n",
       "\n",
       "        total_answered_count  total_correct_count  \\\n",
       "0                      345.0                236.0   \n",
       "1                      345.0                236.0   \n",
       "2                      345.0                236.0   \n",
       "3                      345.0                236.0   \n",
       "4                      345.0                236.0   \n",
       "...                      ...                  ...   \n",
       "194511                  31.0                 19.0   \n",
       "194512                  31.0                 19.0   \n",
       "194513                  31.0                 19.0   \n",
       "194514                  38.0                 18.0   \n",
       "194515                  38.0                 18.0   \n",
       "\n",
       "        total_seen_explanation_count  total_answer_elapsed_time_mean  \\\n",
       "0                              338.0                    21901.373913   \n",
       "1                              338.0                    21901.373913   \n",
       "2                              338.0                    21901.373913   \n",
       "3                              338.0                    21901.373913   \n",
       "4                              338.0                    21901.373913   \n",
       "...                              ...                             ...   \n",
       "194511                           1.0                    17612.806452   \n",
       "194512                           1.0                    17612.806452   \n",
       "194513                           1.0                    17612.806452   \n",
       "194514                          27.0                    20263.157895   \n",
       "194515                          27.0                    20263.157895   \n",
       "\n",
       "        total_answer_elapsed_time_sum  total_recently_solve_question  \\\n",
       "0                           7555974.0                   1.509124e+10   \n",
       "1                           7555974.0                   1.509124e+10   \n",
       "2                           7555974.0                   1.509124e+10   \n",
       "3                           7555974.0                   1.509124e+10   \n",
       "4                           7555974.0                   1.509124e+10   \n",
       "...                               ...                            ...   \n",
       "194511                       545997.0                   6.154810e+05   \n",
       "194512                       545997.0                   6.154810e+05   \n",
       "194513                       545997.0                   6.154810e+05   \n",
       "194514                       770000.0                   2.643102e+10   \n",
       "194515                       770000.0                   2.643102e+10   \n",
       "\n",
       "        total_recently_correct_answer  total_correct_rate  \\\n",
       "0                                 0.0           68.405797   \n",
       "1                                 0.0           68.405797   \n",
       "2                                 0.0           68.405797   \n",
       "3                                 0.0           68.405797   \n",
       "4                                 0.0           68.405797   \n",
       "...                               ...                 ...   \n",
       "194511                            1.0           61.290323   \n",
       "194512                            1.0           61.290323   \n",
       "194513                            1.0           61.290323   \n",
       "194514                            1.0           47.368421   \n",
       "194515                            1.0           47.368421   \n",
       "\n",
       "        total_seen_explanation_rate  \n",
       "0                         97.971014  \n",
       "1                         97.971014  \n",
       "2                         97.971014  \n",
       "3                         97.971014  \n",
       "4                         97.971014  \n",
       "...                             ...  \n",
       "194511                     3.225806  \n",
       "194512                     3.225806  \n",
       "194513                     3.225806  \n",
       "194514                    71.052632  \n",
       "194515                    71.052632  \n",
       "\n",
       "[194516 rows x 20 columns]"
      ]
     },
     "execution_count": 23,
     "metadata": {},
     "output_type": "execute_result"
    }
   ],
   "source": [
    "feature_data"
   ]
  },
  {
   "cell_type": "code",
   "execution_count": 10,
   "metadata": {},
   "outputs": [],
   "source": [
    "from statsmodels.api import add_constant, OLS, Logit"
   ]
  },
  {
   "cell_type": "code",
   "execution_count": 29,
   "metadata": {},
   "outputs": [],
   "source": [
    "exog_col = ['question_answer_count', 'question_correct_count',\n",
    "       'question_correct_ratio', 'answered_count', 'correct_count',\n",
    "       'seen_explanation_count', 'answer_elapsed_time_mean',\n",
    "       'answer_elapsed_time_sum', 'recently_solve_question',\n",
    "       'recently_correct_answer', 'correct_rate', 'seen_explanation_rate',\n",
    "       'total_answered_count', 'total_correct_count',\n",
    "       'total_seen_explanation_count', 'total_answer_elapsed_time_mean',\n",
    "       'total_answer_elapsed_time_sum', 'total_recently_solve_question',\n",
    "       'total_recently_correct_answer', 'total_correct_rate',\n",
    "       'total_seen_explanation_rate', 'timestamp']\n",
    "endog_col = ['answered_correctly']"
   ]
  },
  {
   "cell_type": "code",
   "execution_count": 40,
   "metadata": {},
   "outputs": [],
   "source": [
    "from util import *"
   ]
  },
  {
   "cell_type": "code",
   "execution_count": 65,
   "metadata": {},
   "outputs": [],
   "source": [
    "import matplotlib.pyplot as plt"
   ]
  },
  {
   "cell_type": "code",
   "execution_count": 3,
   "metadata": {},
   "outputs": [],
   "source": [
    "test_set = pd.read_csv('../resources/input/example_test.csv')"
   ]
  },
  {
   "cell_type": "code",
   "execution_count": 4,
   "metadata": {},
   "outputs": [
    {
     "data": {
      "text/html": [
       "<div>\n",
       "<style scoped>\n",
       "    .dataframe tbody tr th:only-of-type {\n",
       "        vertical-align: middle;\n",
       "    }\n",
       "\n",
       "    .dataframe tbody tr th {\n",
       "        vertical-align: top;\n",
       "    }\n",
       "\n",
       "    .dataframe thead th {\n",
       "        text-align: right;\n",
       "    }\n",
       "</style>\n",
       "<table border=\"1\" class=\"dataframe\">\n",
       "  <thead>\n",
       "    <tr style=\"text-align: right;\">\n",
       "      <th></th>\n",
       "      <th>row_id</th>\n",
       "      <th>group_num</th>\n",
       "      <th>timestamp</th>\n",
       "      <th>user_id</th>\n",
       "      <th>content_id</th>\n",
       "      <th>content_type_id</th>\n",
       "      <th>task_container_id</th>\n",
       "      <th>prior_question_elapsed_time</th>\n",
       "      <th>prior_question_had_explanation</th>\n",
       "      <th>prior_group_answers_correct</th>\n",
       "      <th>prior_group_responses</th>\n",
       "    </tr>\n",
       "  </thead>\n",
       "  <tbody>\n",
       "    <tr>\n",
       "      <th>0</th>\n",
       "      <td>0</td>\n",
       "      <td>0</td>\n",
       "      <td>0</td>\n",
       "      <td>275030867</td>\n",
       "      <td>5729</td>\n",
       "      <td>0</td>\n",
       "      <td>0</td>\n",
       "      <td>NaN</td>\n",
       "      <td>NaN</td>\n",
       "      <td>[]</td>\n",
       "      <td>[]</td>\n",
       "    </tr>\n",
       "    <tr>\n",
       "      <th>1</th>\n",
       "      <td>1</td>\n",
       "      <td>0</td>\n",
       "      <td>13309898705</td>\n",
       "      <td>554169193</td>\n",
       "      <td>12010</td>\n",
       "      <td>0</td>\n",
       "      <td>4427</td>\n",
       "      <td>19000.0</td>\n",
       "      <td>True</td>\n",
       "      <td>NaN</td>\n",
       "      <td>NaN</td>\n",
       "    </tr>\n",
       "    <tr>\n",
       "      <th>2</th>\n",
       "      <td>2</td>\n",
       "      <td>0</td>\n",
       "      <td>4213672059</td>\n",
       "      <td>1720860329</td>\n",
       "      <td>457</td>\n",
       "      <td>0</td>\n",
       "      <td>240</td>\n",
       "      <td>17000.0</td>\n",
       "      <td>True</td>\n",
       "      <td>NaN</td>\n",
       "      <td>NaN</td>\n",
       "    </tr>\n",
       "    <tr>\n",
       "      <th>3</th>\n",
       "      <td>3</td>\n",
       "      <td>0</td>\n",
       "      <td>62798072960</td>\n",
       "      <td>288641214</td>\n",
       "      <td>13262</td>\n",
       "      <td>0</td>\n",
       "      <td>266</td>\n",
       "      <td>23000.0</td>\n",
       "      <td>True</td>\n",
       "      <td>NaN</td>\n",
       "      <td>NaN</td>\n",
       "    </tr>\n",
       "    <tr>\n",
       "      <th>4</th>\n",
       "      <td>4</td>\n",
       "      <td>0</td>\n",
       "      <td>10585422061</td>\n",
       "      <td>1728340777</td>\n",
       "      <td>6119</td>\n",
       "      <td>0</td>\n",
       "      <td>162</td>\n",
       "      <td>72400.0</td>\n",
       "      <td>True</td>\n",
       "      <td>NaN</td>\n",
       "      <td>NaN</td>\n",
       "    </tr>\n",
       "    <tr>\n",
       "      <th>...</th>\n",
       "      <td>...</td>\n",
       "      <td>...</td>\n",
       "      <td>...</td>\n",
       "      <td>...</td>\n",
       "      <td>...</td>\n",
       "      <td>...</td>\n",
       "      <td>...</td>\n",
       "      <td>...</td>\n",
       "      <td>...</td>\n",
       "      <td>...</td>\n",
       "      <td>...</td>\n",
       "    </tr>\n",
       "    <tr>\n",
       "      <th>99</th>\n",
       "      <td>104</td>\n",
       "      <td>3</td>\n",
       "      <td>13167339284</td>\n",
       "      <td>1900527744</td>\n",
       "      <td>3004</td>\n",
       "      <td>0</td>\n",
       "      <td>1179</td>\n",
       "      <td>24667.0</td>\n",
       "      <td>True</td>\n",
       "      <td>NaN</td>\n",
       "      <td>NaN</td>\n",
       "    </tr>\n",
       "    <tr>\n",
       "      <th>100</th>\n",
       "      <td>105</td>\n",
       "      <td>3</td>\n",
       "      <td>13167339284</td>\n",
       "      <td>1900527744</td>\n",
       "      <td>3003</td>\n",
       "      <td>0</td>\n",
       "      <td>1179</td>\n",
       "      <td>24667.0</td>\n",
       "      <td>True</td>\n",
       "      <td>NaN</td>\n",
       "      <td>NaN</td>\n",
       "    </tr>\n",
       "    <tr>\n",
       "      <th>101</th>\n",
       "      <td>106</td>\n",
       "      <td>3</td>\n",
       "      <td>64497673060</td>\n",
       "      <td>7792299</td>\n",
       "      <td>7908</td>\n",
       "      <td>0</td>\n",
       "      <td>676</td>\n",
       "      <td>19000.0</td>\n",
       "      <td>True</td>\n",
       "      <td>NaN</td>\n",
       "      <td>NaN</td>\n",
       "    </tr>\n",
       "    <tr>\n",
       "      <th>102</th>\n",
       "      <td>107</td>\n",
       "      <td>3</td>\n",
       "      <td>62798166743</td>\n",
       "      <td>288641214</td>\n",
       "      <td>9077</td>\n",
       "      <td>0</td>\n",
       "      <td>269</td>\n",
       "      <td>25000.0</td>\n",
       "      <td>True</td>\n",
       "      <td>NaN</td>\n",
       "      <td>NaN</td>\n",
       "    </tr>\n",
       "    <tr>\n",
       "      <th>103</th>\n",
       "      <td>108</td>\n",
       "      <td>3</td>\n",
       "      <td>2059176357</td>\n",
       "      <td>2018567473</td>\n",
       "      <td>12119</td>\n",
       "      <td>0</td>\n",
       "      <td>591</td>\n",
       "      <td>20000.0</td>\n",
       "      <td>True</td>\n",
       "      <td>NaN</td>\n",
       "      <td>NaN</td>\n",
       "    </tr>\n",
       "  </tbody>\n",
       "</table>\n",
       "<p>104 rows × 11 columns</p>\n",
       "</div>"
      ],
      "text/plain": [
       "     row_id  group_num    timestamp     user_id  content_id  content_type_id  \\\n",
       "0         0          0            0   275030867        5729                0   \n",
       "1         1          0  13309898705   554169193       12010                0   \n",
       "2         2          0   4213672059  1720860329         457                0   \n",
       "3         3          0  62798072960   288641214       13262                0   \n",
       "4         4          0  10585422061  1728340777        6119                0   \n",
       "..      ...        ...          ...         ...         ...              ...   \n",
       "99      104          3  13167339284  1900527744        3004                0   \n",
       "100     105          3  13167339284  1900527744        3003                0   \n",
       "101     106          3  64497673060     7792299        7908                0   \n",
       "102     107          3  62798166743   288641214        9077                0   \n",
       "103     108          3   2059176357  2018567473       12119                0   \n",
       "\n",
       "     task_container_id  prior_question_elapsed_time  \\\n",
       "0                    0                          NaN   \n",
       "1                 4427                      19000.0   \n",
       "2                  240                      17000.0   \n",
       "3                  266                      23000.0   \n",
       "4                  162                      72400.0   \n",
       "..                 ...                          ...   \n",
       "99                1179                      24667.0   \n",
       "100               1179                      24667.0   \n",
       "101                676                      19000.0   \n",
       "102                269                      25000.0   \n",
       "103                591                      20000.0   \n",
       "\n",
       "    prior_question_had_explanation prior_group_answers_correct  \\\n",
       "0                              NaN                          []   \n",
       "1                             True                         NaN   \n",
       "2                             True                         NaN   \n",
       "3                             True                         NaN   \n",
       "4                             True                         NaN   \n",
       "..                             ...                         ...   \n",
       "99                            True                         NaN   \n",
       "100                           True                         NaN   \n",
       "101                           True                         NaN   \n",
       "102                           True                         NaN   \n",
       "103                           True                         NaN   \n",
       "\n",
       "    prior_group_responses  \n",
       "0                      []  \n",
       "1                     NaN  \n",
       "2                     NaN  \n",
       "3                     NaN  \n",
       "4                     NaN  \n",
       "..                    ...  \n",
       "99                    NaN  \n",
       "100                   NaN  \n",
       "101                   NaN  \n",
       "102                   NaN  \n",
       "103                   NaN  \n",
       "\n",
       "[104 rows x 11 columns]"
      ]
     },
     "execution_count": 4,
     "metadata": {},
     "output_type": "execute_result"
    }
   ],
   "source": [
    "test_set"
   ]
  },
  {
   "cell_type": "code",
   "execution_count": 84,
   "metadata": {},
   "outputs": [],
   "source": [
    "indicator = ['answered_count', 'correct_count', 'correct_rate',\n",
    "             'seen_explanation_count', 'seen_explanation_rate', \n",
    "             'answer_elapsed_time_mean', 'answer_elapsed_time_sum', \n",
    "             'recently_solve_question', 'recently_correct_answer']"
   ]
  },
  {
   "cell_type": "code",
   "execution_count": 87,
   "metadata": {},
   "outputs": [
    {
     "data": {
      "image/png": "[encoded data removed]",
      "text/plain": [
       "<Figure size 1080x1080 with 9 Axes>"
      ]
     },
     "metadata": {
      "needs_background": "light"
     },
     "output_type": "display_data"
    }
   ],
   "source": [
    "fig, axes = plt.subplots(3, 3, figsize=(15, 15))\n",
    "\n",
    "for e in range(9):\n",
    "    x = e % 3\n",
    "    y = e // 3\n",
    "    col = indicator[e]\n",
    "    \n",
    "    sns.barplot(ax=axes[x][y], x = 'answered_correctly', y = col, data = analysis)\n",
    "    axes[x][y].set_title(col)"
   ]
  },
  {
   "cell_type": "code",
   "execution_count": null,
   "metadata": {},
   "outputs": [],
   "source": []
  },
  {
   "cell_type": "code",
   "execution_count": null,
   "metadata": {},
   "outputs": [],
   "source": []
  },
  {
   "cell_type": "code",
   "execution_count": null,
   "metadata": {},
   "outputs": [],
   "source": []
  },
  {
   "cell_type": "code",
   "execution_count": 88,
   "metadata": {},
   "outputs": [],
   "source": [
    "X = add_constant(analysis[exog_col]).join(pd.get_dummies(analysis['part']).drop(columns = [1]))\n",
    "y = analysis[endog_col]"
   ]
  },
  {
   "cell_type": "code",
   "execution_count": 91,
   "metadata": {},
   "outputs": [
    {
     "name": "stdout",
     "output_type": "stream",
     "text": [
      "Optimization terminated successfully.\n",
      "         Current function value: 0.576083\n",
      "         Iterations 6\n"
     ]
    },
    {
     "data": {
      "text/html": [
       "<table class=\"simpletable\">\n",
       "<caption>Logit Regression Results</caption>\n",
       "<tr>\n",
       "  <th>Dep. Variable:</th>   <td>answered_correctly</td> <th>  No. Observations:  </th>  <td> 61534</td> \n",
       "</tr>\n",
       "<tr>\n",
       "  <th>Model:</th>                  <td>Logit</td>       <th>  Df Residuals:      </th>  <td> 61505</td> \n",
       "</tr>\n",
       "<tr>\n",
       "  <th>Method:</th>                  <td>MLE</td>        <th>  Df Model:          </th>  <td>    28</td> \n",
       "</tr>\n",
       "<tr>\n",
       "  <th>Date:</th>             <td>Tue, 05 Jan 2021</td>  <th>  Pseudo R-squ.:     </th>  <td>0.1629</td> \n",
       "</tr>\n",
       "<tr>\n",
       "  <th>Time:</th>                 <td>03:06:34</td>      <th>  Log-Likelihood:    </th> <td> -35449.</td>\n",
       "</tr>\n",
       "<tr>\n",
       "  <th>converged:</th>              <td>True</td>        <th>  LL-Null:           </th> <td> -42345.</td>\n",
       "</tr>\n",
       "<tr>\n",
       "  <th>Covariance Type:</th>      <td>nonrobust</td>     <th>  LLR p-value:       </th>  <td> 0.000</td> \n",
       "</tr>\n",
       "</table>\n",
       "<table class=\"simpletable\">\n",
       "<tr>\n",
       "                 <td></td>                   <th>coef</th>     <th>std err</th>      <th>z</th>      <th>P>|z|</th>  <th>[0.025</th>    <th>0.975]</th>  \n",
       "</tr>\n",
       "<tr>\n",
       "  <th>const</th>                          <td>   -4.8394</td> <td>    0.094</td> <td>  -51.566</td> <td> 0.000</td> <td>   -5.023</td> <td>   -4.655</td>\n",
       "</tr>\n",
       "<tr>\n",
       "  <th>question_answer_count</th>          <td> 3.766e-06</td> <td>  4.8e-07</td> <td>    7.851</td> <td> 0.000</td> <td> 2.83e-06</td> <td> 4.71e-06</td>\n",
       "</tr>\n",
       "<tr>\n",
       "  <th>question_correct_count</th>         <td>-1.648e-06</td> <td>  8.7e-07</td> <td>   -1.895</td> <td> 0.058</td> <td>-3.35e-06</td> <td> 5.65e-08</td>\n",
       "</tr>\n",
       "<tr>\n",
       "  <th>question_correct_ratio</th>         <td>    5.0517</td> <td>    0.080</td> <td>   63.327</td> <td> 0.000</td> <td>    4.895</td> <td>    5.208</td>\n",
       "</tr>\n",
       "<tr>\n",
       "  <th>answered_count</th>                 <td>   -0.0054</td> <td>    0.002</td> <td>   -2.950</td> <td> 0.003</td> <td>   -0.009</td> <td>   -0.002</td>\n",
       "</tr>\n",
       "<tr>\n",
       "  <th>correct_count</th>                  <td>    0.0044</td> <td>    0.001</td> <td>    4.736</td> <td> 0.000</td> <td>    0.003</td> <td>    0.006</td>\n",
       "</tr>\n",
       "<tr>\n",
       "  <th>seen_explanation_count</th>         <td>    0.0029</td> <td>    0.002</td> <td>    1.664</td> <td> 0.096</td> <td>   -0.001</td> <td>    0.006</td>\n",
       "</tr>\n",
       "<tr>\n",
       "  <th>answer_elapsed_time_mean</th>       <td>-4.959e-08</td> <td> 1.24e-06</td> <td>   -0.040</td> <td> 0.968</td> <td>-2.48e-06</td> <td> 2.38e-06</td>\n",
       "</tr>\n",
       "<tr>\n",
       "  <th>answer_elapsed_time_sum</th>        <td>-2.136e-09</td> <td> 7.86e-09</td> <td>   -0.272</td> <td> 0.786</td> <td>-1.75e-08</td> <td> 1.33e-08</td>\n",
       "</tr>\n",
       "<tr>\n",
       "  <th>recently_solve_question</th>        <td>-3.196e-12</td> <td> 5.86e-12</td> <td>   -0.545</td> <td> 0.585</td> <td>-1.47e-11</td> <td> 8.29e-12</td>\n",
       "</tr>\n",
       "<tr>\n",
       "  <th>recently_correct_answer</th>        <td>    0.0329</td> <td>    0.038</td> <td>    0.869</td> <td> 0.385</td> <td>   -0.041</td> <td>    0.107</td>\n",
       "</tr>\n",
       "<tr>\n",
       "  <th>correct_rate</th>                   <td>    0.0033</td> <td>    0.001</td> <td>    5.121</td> <td> 0.000</td> <td>    0.002</td> <td>    0.005</td>\n",
       "</tr>\n",
       "<tr>\n",
       "  <th>seen_explanation_rate</th>          <td>    0.0015</td> <td>    0.001</td> <td>    2.753</td> <td> 0.006</td> <td>    0.000</td> <td>    0.003</td>\n",
       "</tr>\n",
       "<tr>\n",
       "  <th>total_answered_count</th>           <td>    0.0002</td> <td>    0.001</td> <td>    0.329</td> <td> 0.742</td> <td>   -0.001</td> <td>    0.001</td>\n",
       "</tr>\n",
       "<tr>\n",
       "  <th>total_correct_count</th>            <td>    0.0007</td> <td>    0.000</td> <td>    2.369</td> <td> 0.018</td> <td>    0.000</td> <td>    0.001</td>\n",
       "</tr>\n",
       "<tr>\n",
       "  <th>total_seen_explanation_count</th>   <td>   -0.0008</td> <td>    0.000</td> <td>   -1.558</td> <td> 0.119</td> <td>   -0.002</td> <td>    0.000</td>\n",
       "</tr>\n",
       "<tr>\n",
       "  <th>total_answer_elapsed_time_mean</th> <td> 2.054e-06</td> <td> 1.69e-06</td> <td>    1.216</td> <td> 0.224</td> <td>-1.26e-06</td> <td> 5.36e-06</td>\n",
       "</tr>\n",
       "<tr>\n",
       "  <th>total_answer_elapsed_time_sum</th>  <td>  3.63e-09</td> <td> 3.36e-09</td> <td>    1.081</td> <td> 0.280</td> <td>-2.95e-09</td> <td> 1.02e-08</td>\n",
       "</tr>\n",
       "<tr>\n",
       "  <th>total_recently_solve_question</th>  <td>-9.994e-12</td> <td> 4.97e-12</td> <td>   -2.012</td> <td> 0.044</td> <td>-1.97e-11</td> <td>-2.56e-13</td>\n",
       "</tr>\n",
       "<tr>\n",
       "  <th>total_recently_correct_answer</th>  <td>   -0.0172</td> <td>    0.037</td> <td>   -0.464</td> <td> 0.643</td> <td>   -0.090</td> <td>    0.055</td>\n",
       "</tr>\n",
       "<tr>\n",
       "  <th>total_correct_rate</th>             <td>    0.0241</td> <td>    0.001</td> <td>   27.626</td> <td> 0.000</td> <td>    0.022</td> <td>    0.026</td>\n",
       "</tr>\n",
       "<tr>\n",
       "  <th>total_seen_explanation_rate</th>    <td>   -0.0014</td> <td>    0.001</td> <td>   -2.354</td> <td> 0.019</td> <td>   -0.002</td> <td>   -0.000</td>\n",
       "</tr>\n",
       "<tr>\n",
       "  <th>timestamp</th>                      <td> 1.174e-11</td> <td> 5.11e-12</td> <td>    2.300</td> <td> 0.021</td> <td> 1.74e-12</td> <td> 2.18e-11</td>\n",
       "</tr>\n",
       "<tr>\n",
       "  <th>2</th>                              <td>    0.1980</td> <td>    0.050</td> <td>    3.940</td> <td> 0.000</td> <td>    0.099</td> <td>    0.296</td>\n",
       "</tr>\n",
       "<tr>\n",
       "  <th>3</th>                              <td>    0.2533</td> <td>    0.062</td> <td>    4.105</td> <td> 0.000</td> <td>    0.132</td> <td>    0.374</td>\n",
       "</tr>\n",
       "<tr>\n",
       "  <th>4</th>                              <td>    0.5498</td> <td>    0.054</td> <td>   10.118</td> <td> 0.000</td> <td>    0.443</td> <td>    0.656</td>\n",
       "</tr>\n",
       "<tr>\n",
       "  <th>5</th>                              <td>    0.3597</td> <td>    0.048</td> <td>    7.502</td> <td> 0.000</td> <td>    0.266</td> <td>    0.454</td>\n",
       "</tr>\n",
       "<tr>\n",
       "  <th>6</th>                              <td>    0.2688</td> <td>    0.056</td> <td>    4.836</td> <td> 0.000</td> <td>    0.160</td> <td>    0.378</td>\n",
       "</tr>\n",
       "<tr>\n",
       "  <th>7</th>                              <td>    0.3611</td> <td>    0.077</td> <td>    4.659</td> <td> 0.000</td> <td>    0.209</td> <td>    0.513</td>\n",
       "</tr>\n",
       "</table>"
      ],
      "text/plain": [
       "<class 'statsmodels.iolib.summary.Summary'>\n",
       "\"\"\"\n",
       "                           Logit Regression Results                           \n",
       "==============================================================================\n",
       "Dep. Variable:     answered_correctly   No. Observations:                61534\n",
       "Model:                          Logit   Df Residuals:                    61505\n",
       "Method:                           MLE   Df Model:                           28\n",
       "Date:                Tue, 05 Jan 2021   Pseudo R-squ.:                  0.1629\n",
       "Time:                        03:06:34   Log-Likelihood:                -35449.\n",
       "converged:                       True   LL-Null:                       -42345.\n",
       "Covariance Type:            nonrobust   LLR p-value:                     0.000\n",
       "==================================================================================================\n",
       "                                     coef    std err          z      P>|z|      [0.025      0.975]\n",
       "--------------------------------------------------------------------------------------------------\n",
       "const                             -4.8394      0.094    -51.566      0.000      -5.023      -4.655\n",
       "question_answer_count           3.766e-06    4.8e-07      7.851      0.000    2.83e-06    4.71e-06\n",
       "question_correct_count         -1.648e-06    8.7e-07     -1.895      0.058   -3.35e-06    5.65e-08\n",
       "question_correct_ratio             5.0517      0.080     63.327      0.000       4.895       5.208\n",
       "answered_count                    -0.0054      0.002     -2.950      0.003      -0.009      -0.002\n",
       "correct_count                      0.0044      0.001      4.736      0.000       0.003       0.006\n",
       "seen_explanation_count             0.0029      0.002      1.664      0.096      -0.001       0.006\n",
       "answer_elapsed_time_mean       -4.959e-08   1.24e-06     -0.040      0.968   -2.48e-06    2.38e-06\n",
       "answer_elapsed_time_sum        -2.136e-09   7.86e-09     -0.272      0.786   -1.75e-08    1.33e-08\n",
       "recently_solve_question        -3.196e-12   5.86e-12     -0.545      0.585   -1.47e-11    8.29e-12\n",
       "recently_correct_answer            0.0329      0.038      0.869      0.385      -0.041       0.107\n",
       "correct_rate                       0.0033      0.001      5.121      0.000       0.002       0.005\n",
       "seen_explanation_rate              0.0015      0.001      2.753      0.006       0.000       0.003\n",
       "total_answered_count               0.0002      0.001      0.329      0.742      -0.001       0.001\n",
       "total_correct_count                0.0007      0.000      2.369      0.018       0.000       0.001\n",
       "total_seen_explanation_count      -0.0008      0.000     -1.558      0.119      -0.002       0.000\n",
       "total_answer_elapsed_time_mean  2.054e-06   1.69e-06      1.216      0.224   -1.26e-06    5.36e-06\n",
       "total_answer_elapsed_time_sum    3.63e-09   3.36e-09      1.081      0.280   -2.95e-09    1.02e-08\n",
       "total_recently_solve_question  -9.994e-12   4.97e-12     -2.012      0.044   -1.97e-11   -2.56e-13\n",
       "total_recently_correct_answer     -0.0172      0.037     -0.464      0.643      -0.090       0.055\n",
       "total_correct_rate                 0.0241      0.001     27.626      0.000       0.022       0.026\n",
       "total_seen_explanation_rate       -0.0014      0.001     -2.354      0.019      -0.002      -0.000\n",
       "timestamp                       1.174e-11   5.11e-12      2.300      0.021    1.74e-12    2.18e-11\n",
       "2                                  0.1980      0.050      3.940      0.000       0.099       0.296\n",
       "3                                  0.2533      0.062      4.105      0.000       0.132       0.374\n",
       "4                                  0.5498      0.054     10.118      0.000       0.443       0.656\n",
       "5                                  0.3597      0.048      7.502      0.000       0.266       0.454\n",
       "6                                  0.2688      0.056      4.836      0.000       0.160       0.378\n",
       "7                                  0.3611      0.077      4.659      0.000       0.209       0.513\n",
       "==================================================================================================\n",
       "\"\"\""
      ]
     },
     "execution_count": 91,
     "metadata": {},
     "output_type": "execute_result"
    }
   ],
   "source": [
    "model = Logit(exog = X, endog = y).fit()\n",
    "model.summary()"
   ]
  },
  {
   "cell_type": "code",
   "execution_count": 33,
   "metadata": {},
   "outputs": [
    {
     "data": {
      "application/vnd.plotly.v1+json": {
       "config": {
        "plotlyServerURL": "https://plot.ly"
       },
       "data": [
        {
         "coloraxis": "coloraxis",
         "hovertemplate": "x: %{x}<br>y: %{y}<br>color: %{z}<extra></extra>",
         "type": "heatmap",
         "x": [
          "const",
          "question_answer_count",
          "question_correct_count",
          "question_correct_ratio",
          "answered_count",
          "correct_count",
          "seen_explanation_count",
          "answer_elapsed_time_mean",
          "answer_elapsed_time_sum",
          "recently_solve_question",
          "recently_correct_answer",
          "correct_rate",
          "seen_explanation_rate",
          "total_answered_count",
          "total_correct_count",
          "total_seen_explanation_count",
          "total_answer_elapsed_time_mean",
          "total_answer_elapsed_time_sum",
          "total_recently_solve_question",
          "total_recently_correct_answer",
          "total_correct_rate",
          "total_seen_explanation_rate",
          "timestamp",
          2,
          3,
          4,
          5,
          6,
          7
         ],
         "y": [
          "const",
          "question_answer_count",
          "question_correct_count",
          "question_correct_ratio",
          "answered_count",
          "correct_count",
          "seen_explanation_count",
          "answer_elapsed_time_mean",
          "answer_elapsed_time_sum",
          "recently_solve_question",
          "recently_correct_answer",
          "correct_rate",
          "seen_explanation_rate",
          "total_answered_count",
          "total_correct_count",
          "total_seen_explanation_count",
          "total_answer_elapsed_time_mean",
          "total_answer_elapsed_time_sum",
          "total_recently_solve_question",
          "total_recently_correct_answer",
          "total_correct_rate",
          "total_seen_explanation_rate",
          "timestamp",
          2,
          3,
          4,
          5,
          6,
          7
         ],
         "z": [
          [
           null,
           null,
           null,
           null,
           null,
           null,
           null,
           null,
           null,
           null,
           null,
           null,
           null,
           null,
           null,
           null,
           null,
           null,
           null,
           null,
           null,
           null,
           null,
           null,
           null,
           null,
           null,
           null,
           null
          ],
          [
           null,
           1,
           0.8375436410970417,
           -0.6539337769132397,
           -0.19146479977143774,
           -0.19192913454647562,
           -0.19053242527006015,
           -0.1895065737253936,
           -0.18824052462144428,
           -0.19436100831256756,
           -0.23532490536027548,
           -0.3923416757525494,
           -0.6764425503243218,
           -0.19933440354845408,
           -0.19308600721949684,
           -0.19871730570978247,
           -0.1727881259929314,
           -0.19332282764268288,
           -0.19996006124632076,
           -0.229629483690431,
           -0.37191559439318833,
           -0.6716690017394256,
           -0.1857960121927461,
           -0.13210162562979497,
           -0.15984092439235367,
           0.6397098080938218,
           -0.15917056605051946,
           -0.18947400382738933,
           -0.14114024421934182
          ],
          [
           null,
           0.8375436410970417,
           1,
           -0.2975657452364529,
           -0.17588505745271032,
           -0.17649900065630808,
           -0.17542788949263285,
           -0.19310791477992165,
           -0.1757920002808072,
           -0.1693743867449537,
           -0.19069575979227346,
           -0.29824059955420446,
           -0.49423696512401805,
           -0.1851262350734692,
           -0.17987558157690353,
           -0.18489458979518947,
           -0.15859003815813058,
           -0.18048133752938703,
           -0.1729654642275287,
           -0.18700934391061896,
           -0.3094340875572343,
           -0.5297749413004827,
           -0.16304861778705315,
           0.03272767370962205,
           -0.1508969855141707,
           0.4485456553998029,
           -0.16487394064011845,
           -0.15539331999122485,
           -0.13916860391095434
          ],
          [
           null,
           -0.6539337769132397,
           -0.2975657452364529,
           1,
           0.10243802128112686,
           0.10474647380103103,
           0.1040981815251159,
           0.08679799205680024,
           0.10120319864152424,
           0.13090527297778654,
           0.18378903999879215,
           0.301218221053456,
           0.5294510797304791,
           0.12606159416141122,
           0.12064989419790831,
           0.12491950185875955,
           0.09654402684330674,
           0.12188062341101331,
           0.13841937112052133,
           0.17532397236187922,
           0.2267916852141672,
           0.46836757325316714,
           0.12574761824523045,
           0.27013254272822274,
           0.12401197587560557,
           -0.48842870239506625,
           -0.023875921033322967,
           0.13309552927331592,
           0.07612818076161124
          ],
          [
           null,
           -0.19146479977143774,
           -0.17588505745271032,
           0.10243802128112686,
           1,
           0.9811196374240778,
           0.9983245295224774,
           0.05327428981252683,
           0.8917483737053354,
           0.30372949710326896,
           0.06907773511773006,
           0.1388997104570968,
           0.27523267003277335,
           0.7407670898259662,
           0.7212502134314723,
           0.7410398646933373,
           0.06661000842273802,
           0.6976082084455677,
           0.30155481915782906,
           0.06757877315816707,
           0.18837677170810205,
           0.33676293817706926,
           0.2880511948927182,
           -0.04296729269697065,
           0.04937099697041775,
           -0.11120701571309956,
           0.05041441146712146,
           0.09477998181537865,
           0.021991824644792483
          ],
          [
           null,
           -0.19192913454647562,
           -0.17649900065630808,
           0.10474647380103103,
           0.9811196374240778,
           1,
           0.9787688727937305,
           0.0545866804917137,
           0.8867041638401459,
           0.3024697304842514,
           0.08898267265278421,
           0.17711217563150058,
           0.2766137148236957,
           0.7523738322951311,
           0.7516490887353655,
           0.7518902997409642,
           0.06713019195771361,
           0.7134156880036013,
           0.30062380943467004,
           0.08480814583359476,
           0.22423114489112347,
           0.3363503604320024,
           0.28666502430166757,
           -0.03242077664243819,
           0.05743636213653139,
           -0.11065913360007847,
           0.029436738559319043,
           0.10273210045868143,
           0.023064892011879244
          ],
          [
           null,
           -0.19053242527006015,
           -0.17542788949263285,
           0.1040981815251159,
           0.9983245295224774,
           0.9787688727937305,
           1,
           0.05288856564746303,
           0.8877145491557594,
           0.30403239307265717,
           0.07054867217646334,
           0.14027063166935502,
           0.287916390333614,
           0.7349056450273117,
           0.7145803036222796,
           0.7374572038459758,
           0.06760667591146839,
           0.6914650863044314,
           0.3017350072259589,
           0.06874360429790696,
           0.1865759628162937,
           0.3445473354203808,
           0.2883872623196767,
           -0.033285853733983024,
           0.05069084961886914,
           -0.11094313660740153,
           0.04180648637545123,
           0.09627560392059109,
           0.023160343342241162
          ],
          [
           null,
           -0.1895065737253936,
           -0.19310791477992165,
           0.08679799205680024,
           0.05327428981252683,
           0.0545866804917137,
           0.05288856564746303,
           1,
           0.20841416695495338,
           0.0824549645211154,
           0.030678849270490444,
           0.0667199272928629,
           0.16418882865187345,
           0.11702426317084097,
           0.11336705819717915,
           0.11610040877501286,
           0.6970044933416046,
           0.17656403064397366,
           0.09238534245461352,
           0.03344178123746004,
           0.09472391179901563,
           0.221006611262713,
           0.0846290093393929,
           -0.22640615256082258,
           -0.013677490640841991,
           -0.15122154937797871,
           -0.033349606245048034,
           0.24209746629925244,
           0.5298553283084279
          ],
          [
           null,
           -0.18824052462144428,
           -0.1757920002808072,
           0.10120319864152424,
           0.8917483737053354,
           0.8867041638401459,
           0.8877145491557594,
           0.20841416695495338,
           1,
           0.302755383099939,
           0.06767162852697019,
           0.13484373030299276,
           0.26353135143347856,
           0.720772873629611,
           0.7072904385707008,
           0.7197884499679149,
           0.1863428938361346,
           0.7655205401593749,
           0.3010472442920957,
           0.06538591972570798,
           0.18126031723050973,
           0.32520187987921756,
           0.28808071502556765,
           -0.07555077442377592,
           0.03183306227503288,
           -0.11382399584296335,
           0.02243954398842565,
           0.1392772198815718,
           0.11743118231869419
          ],
          [
           null,
           -0.19436100831256756,
           -0.1693743867449537,
           0.13090527297778654,
           0.30372949710326896,
           0.3024697304842514,
           0.30403239307265717,
           0.0824549645211154,
           0.302755383099939,
           1,
           0.05981181506841642,
           0.10897837334160612,
           0.26351598235613866,
           0.3488853147932958,
           0.3385825713212772,
           0.3472465871523873,
           0.07616696149584024,
           0.33890350074058023,
           0.9652433157577386,
           0.059079573522298125,
           0.12881462808722663,
           0.29600400303129915,
           0.965916197518245,
           0.002503882670838083,
           0.06795694616961793,
           -0.1082761044346014,
           -0.016975734526288238,
           0.08624725945305431,
           0.05673807536731114
          ],
          [
           null,
           -0.23532490536027548,
           -0.19069575979227346,
           0.18378903999879215,
           0.06907773511773006,
           0.08898267265278421,
           0.07054867217646334,
           0.030678849270490444,
           0.06767162852697019,
           0.05981181506841642,
           1,
           0.5066294794709564,
           0.24889891780472803,
           0.07928393708265423,
           0.08822133458712733,
           0.07868796405038367,
           0.03225964768883361,
           0.07607097193735865,
           0.061947628409320464,
           0.8656094846875897,
           0.37675190781604906,
           0.22951204232583008,
           0.05653101870696915,
           0.10310252140333499,
           0.06409256706870066,
           -0.1988344647743388,
           -0.01654061140044599,
           0.0683966855932415,
           0.023980443755226295
          ],
          [
           null,
           -0.3923416757525494,
           -0.29824059955420446,
           0.301218221053456,
           0.1388997104570968,
           0.17711217563150058,
           0.14027063166935502,
           0.0667199272928629,
           0.13484373030299276,
           0.10897837334160612,
           0.5066294794709564,
           1,
           0.43592945526771887,
           0.16146479644560593,
           0.17783340230389136,
           0.1587188508854104,
           0.05986826007077532,
           0.15546151311279685,
           0.11142831884039321,
           0.46695939004149917,
           0.7470241885375188,
           0.39804703290454035,
           0.09749618984212981,
           0.20707443796101072,
           0.11559243380613313,
           -0.3448869915563588,
           -0.09470965450125268,
           0.13203010541964114,
           0.07487167165417016
          ],
          [
           null,
           -0.6764425503243218,
           -0.49423696512401805,
           0.5294510797304791,
           0.27523267003277335,
           0.2766137148236957,
           0.287916390333614,
           0.16418882865187345,
           0.26353135143347856,
           0.26351598235613866,
           0.24889891780472803,
           0.43592945526771887,
           1,
           0.2771175897891085,
           0.2668219507386839,
           0.2834288265869719,
           0.16861615711834246,
           0.2669821475345516,
           0.2618855570774432,
           0.23692525538852272,
           0.3925219541656587,
           0.8727496382948924,
           0.24261972532173864,
           0.2916020207790785,
           0.17779182509735755,
           -0.5077017229905382,
           -0.10575190409560954,
           0.2505863522080244,
           0.14704833754436836
          ],
          [
           null,
           -0.19933440354845408,
           -0.1851262350734692,
           0.12606159416141122,
           0.7407670898259662,
           0.7523738322951311,
           0.7349056450273117,
           0.11702426317084097,
           0.720772873629611,
           0.3488853147932958,
           0.07928393708265423,
           0.16146479644560593,
           0.2771175897891085,
           1,
           0.9902104415545314,
           0.9984982860366071,
           0.08702947076708922,
           0.9593810014382816,
           0.35230175809629904,
           0.07692404621633067,
           0.21731086853409462,
           0.35716996680411534,
           0.3339094053546424,
           -0.053844748725583626,
           0.13143497853749322,
           -0.07239928053898663,
           -0.09923500320721883,
           0.16074241122597696,
           0.1234110270201699
          ],
          [
           null,
           -0.19308600721949684,
           -0.17987558157690353,
           0.12064989419790831,
           0.7212502134314723,
           0.7516490887353655,
           0.7145803036222796,
           0.11336705819717915,
           0.7072904385707008,
           0.3385825713212772,
           0.08822133458712733,
           0.17783340230389136,
           0.2668219507386839,
           0.9902104415545314,
           1,
           0.9882000935641374,
           0.08263641512021497,
           0.9513962796170358,
           0.34177577735438996,
           0.08465406312903541,
           0.23932744792277144,
           0.344402693695298,
           0.323099449283724,
           -0.05238787038664739,
           0.12824172041055418,
           -0.06806289007716165,
           -0.09875252138439596,
           0.15679558619546005,
           0.11908034194577571
          ],
          [
           null,
           -0.19871730570978247,
           -0.18489458979518947,
           0.12491950185875955,
           0.7410398646933373,
           0.7518902997409642,
           0.7374572038459758,
           0.11610040877501286,
           0.7197884499679149,
           0.3472465871523873,
           0.07868796405038367,
           0.1587188508854104,
           0.2834288265869719,
           0.9984982860366071,
           0.9882000935641374,
           1,
           0.08665717849945055,
           0.9574373310504237,
           0.35029968224648494,
           0.07590843545109359,
           0.21423318639026756,
           0.3631754451984288,
           0.33211883621170474,
           -0.05242604526084344,
           0.12867446850918482,
           -0.07117784590483031,
           -0.09799829558031832,
           0.15886795057684883,
           0.12181959931672728
          ],
          [
           null,
           -0.1727881259929314,
           -0.15859003815813058,
           0.09654402684330674,
           0.06661000842273802,
           0.06713019195771361,
           0.06760667591146839,
           0.6970044933416046,
           0.1863428938361346,
           0.07616696149584024,
           0.03225964768883361,
           0.05986826007077532,
           0.16861615711834246,
           0.08702947076708922,
           0.08263641512021497,
           0.08665717849945055,
           1,
           0.17499669049557212,
           0.08268727855881243,
           0.02855521128035806,
           0.04104757418725858,
           0.1576858800758107,
           0.07633118848994871,
           -0.07296774131748503,
           0.04304432440767309,
           -0.1032943257937225,
           -0.035079993307873314,
           0.16436989647751468,
           0.16673939176024433
          ],
          [
           null,
           -0.19332282764268288,
           -0.18048133752938703,
           0.12188062341101331,
           0.6976082084455677,
           0.7134156880036013,
           0.6914650863044314,
           0.17656403064397366,
           0.7655205401593749,
           0.33890350074058023,
           0.07607097193735865,
           0.15546151311279685,
           0.2669821475345516,
           0.9593810014382816,
           0.9513962796170358,
           0.9574373310504237,
           0.17499669049557212,
           1,
           0.34216264259721757,
           0.07382350441924625,
           0.2067404212565919,
           0.34297590931082195,
           0.3256297696992633,
           -0.0604203365910288,
           0.12875345841984498,
           -0.06911176538589153,
           -0.10312382076255883,
           0.16347767282742498,
           0.13793317273049055
          ],
          [
           null,
           -0.19996006124632076,
           -0.1729654642275287,
           0.13841937112052133,
           0.30155481915782906,
           0.30062380943467004,
           0.3017350072259589,
           0.09238534245461352,
           0.3010472442920957,
           0.9652433157577386,
           0.061947628409320464,
           0.11142831884039321,
           0.2618855570774432,
           0.35230175809629904,
           0.34177577735438996,
           0.35029968224648494,
           0.08268727855881243,
           0.34216264259721757,
           1,
           0.05966798542916277,
           0.13465719465062764,
           0.3049645720616943,
           0.9568652894729133,
           -0.000709849986864385,
           0.07312613382488445,
           -0.11260601352047392,
           -0.025094197032585436,
           0.09909962338538227,
           0.06613821319421527
          ],
          [
           null,
           -0.229629483690431,
           -0.18700934391061896,
           0.17532397236187922,
           0.06757877315816707,
           0.08480814583359476,
           0.06874360429790696,
           0.03344178123746004,
           0.06538591972570798,
           0.059079573522298125,
           0.8656094846875897,
           0.46695939004149917,
           0.23692525538852272,
           0.07692404621633067,
           0.08465406312903541,
           0.07590843545109359,
           0.02855521128035806,
           0.07382350441924625,
           0.05966798542916277,
           1,
           0.37019422076796155,
           0.22179175502626491,
           0.05605318603795113,
           0.09334401819560297,
           0.05441077236210817,
           -0.19325245596675347,
           -0.004281783326429404,
           0.0702880866061753,
           0.02073789587900816
          ],
          [
           null,
           -0.37191559439318833,
           -0.3094340875572343,
           0.2267916852141672,
           0.18837677170810205,
           0.22423114489112347,
           0.1865759628162937,
           0.09472391179901563,
           0.18126031723050973,
           0.12881462808722663,
           0.37675190781604906,
           0.7470241885375188,
           0.3925219541656587,
           0.21731086853409462,
           0.23932744792277144,
           0.21423318639026756,
           0.04104757418725858,
           0.2067404212565919,
           0.13465719465062764,
           0.37019422076796155,
           1,
           0.45671636568575824,
           0.12142134255880609,
           0.04875051379477158,
           0.13099721486628482,
           -0.26358449752285945,
           -0.04810326489091938,
           0.14585140372931452,
           0.10197303253775789
          ],
          [
           null,
           -0.6716690017394256,
           -0.5297749413004827,
           0.46836757325316714,
           0.33676293817706926,
           0.3363503604320024,
           0.3445473354203808,
           0.221006611262713,
           0.32520187987921756,
           0.29600400303129915,
           0.22951204232583008,
           0.39804703290454035,
           0.8727496382948924,
           0.35716996680411534,
           0.344402693695298,
           0.3631754451984288,
           0.1576858800758107,
           0.34297590931082195,
           0.3049645720616943,
           0.22179175502626491,
           0.45671636568575824,
           1,
           0.28369802858093024,
           0.08550162259580277,
           0.204315485113606,
           -0.46465727040783433,
           -0.004573990195454527,
           0.2657390098537248,
           0.19100475730462257
          ],
          [
           null,
           -0.1857960121927461,
           -0.16304861778705315,
           0.12574761824523045,
           0.2880511948927182,
           0.28666502430166757,
           0.2883872623196767,
           0.0846290093393929,
           0.28808071502556765,
           0.965916197518245,
           0.05653101870696915,
           0.09749618984212981,
           0.24261972532173864,
           0.3339094053546424,
           0.323099449283724,
           0.33211883621170474,
           0.07633118848994871,
           0.3256297696992633,
           0.9568652894729133,
           0.05605318603795113,
           0.12142134255880609,
           0.28369802858093024,
           1,
           -3.5924638549918125e-05,
           0.06663945450221509,
           -0.10092261948289678,
           -0.025698194231882642,
           0.09294581311254005,
           0.06042821338856652
          ],
          [
           null,
           -0.13210162562979497,
           0.03272767370962205,
           0.27013254272822274,
           -0.04296729269697065,
           -0.03242077664243819,
           -0.033285853733983024,
           -0.22640615256082258,
           -0.07555077442377592,
           0.002503882670838083,
           0.10310252140333499,
           0.20707443796101072,
           0.2916020207790785,
           -0.053844748725583626,
           -0.05238787038664739,
           -0.05242604526084344,
           -0.07296774131748503,
           -0.0604203365910288,
           -0.000709849986864385,
           0.09334401819560297,
           0.04875051379477158,
           0.08550162259580277,
           -3.5924638549918125e-05,
           1,
           -0.10573363459545114,
           -0.23725086107652352,
           -0.3420520950600852,
           -0.14856759587564447,
           -0.09109379073113946
          ],
          [
           null,
           -0.15984092439235367,
           -0.1508969855141707,
           0.12401197587560557,
           0.04937099697041775,
           0.05743636213653139,
           0.05069084961886914,
           -0.013677490640841991,
           0.03183306227503288,
           0.06795694616961793,
           0.06409256706870066,
           0.11559243380613313,
           0.17779182509735755,
           0.13143497853749322,
           0.12824172041055418,
           0.12867446850918482,
           0.04304432440767309,
           0.12875345841984498,
           0.07312613382488445,
           0.05441077236210817,
           0.13099721486628482,
           0.204315485113606,
           0.06663945450221509,
           -0.10573363459545114,
           1,
           -0.12711384969974837,
           -0.18326407079675328,
           -0.07959928561139444,
           -0.04880607122361637
          ],
          [
           null,
           0.6397098080938218,
           0.4485456553998029,
           -0.48842870239506625,
           -0.11120701571309956,
           -0.11065913360007847,
           -0.11094313660740153,
           -0.15122154937797871,
           -0.11382399584296335,
           -0.1082761044346014,
           -0.1988344647743388,
           -0.3448869915563588,
           -0.5077017229905382,
           -0.07239928053898663,
           -0.06806289007716165,
           -0.07117784590483031,
           -0.1032943257937225,
           -0.06911176538589153,
           -0.11260601352047392,
           -0.19325245596675347,
           -0.26358449752285945,
           -0.46465727040783433,
           -0.10092261948289678,
           -0.23725086107652352,
           -0.12711384969974837,
           1,
           -0.4112178567139312,
           -0.17860919209535045,
           -0.10951370836612512
          ],
          [
           null,
           -0.15917056605051946,
           -0.16487394064011845,
           -0.023875921033322967,
           0.05041441146712146,
           0.029436738559319043,
           0.04180648637545123,
           -0.033349606245048034,
           0.02243954398842565,
           -0.016975734526288238,
           -0.01654061140044599,
           -0.09470965450125268,
           -0.10575190409560954,
           -0.09923500320721883,
           -0.09875252138439596,
           -0.09799829558031832,
           -0.035079993307873314,
           -0.10312382076255883,
           -0.025094197032585436,
           -0.004281783326429404,
           -0.04810326489091938,
           -0.004573990195454527,
           -0.025698194231882642,
           -0.3420520950600852,
           -0.18326407079675328,
           -0.4112178567139312,
           1,
           -0.2575065400223516,
           -0.15788938853340512
          ],
          [
           null,
           -0.18947400382738933,
           -0.15539331999122485,
           0.13309552927331592,
           0.09477998181537865,
           0.10273210045868143,
           0.09627560392059109,
           0.24209746629925244,
           0.1392772198815718,
           0.08624725945305431,
           0.0683966855932415,
           0.13203010541964114,
           0.2505863522080244,
           0.16074241122597696,
           0.15679558619546005,
           0.15886795057684883,
           0.16436989647751468,
           0.16347767282742498,
           0.09909962338538227,
           0.0702880866061753,
           0.14585140372931452,
           0.2657390098537248,
           0.09294581311254005,
           -0.14856759587564447,
           -0.07959928561139444,
           -0.17860919209535045,
           -0.2575065400223516,
           1,
           -0.06857799501141015
          ],
          [
           null,
           -0.14114024421934182,
           -0.13916860391095434,
           0.07612818076161124,
           0.021991824644792483,
           0.023064892011879244,
           0.023160343342241162,
           0.5298553283084279,
           0.11743118231869419,
           0.05673807536731114,
           0.023980443755226295,
           0.07487167165417016,
           0.14704833754436836,
           0.1234110270201699,
           0.11908034194577571,
           0.12181959931672728,
           0.16673939176024433,
           0.13793317273049055,
           0.06613821319421527,
           0.02073789587900816,
           0.10197303253775789,
           0.19100475730462257,
           0.06042821338856652,
           -0.09109379073113946,
           -0.04880607122361637,
           -0.10951370836612512,
           -0.15788938853340512,
           -0.06857799501141015,
           1
          ]
         ]
        }
       ],
       "layout": {
        "coloraxis": {
         "colorscale": [
          [
           0,
           "#0d0887"
          ],
          [
           0.1111111111111111,
           "#46039f"
          ],
          [
           0.2222222222222222,
           "#7201a8"
          ],
          [
           0.3333333333333333,
           "#9c179e"
          ],
          [
           0.4444444444444444,
           "#bd3786"
          ],
          [
           0.5555555555555556,
           "#d8576b"
          ],
          [
           0.6666666666666666,
           "#ed7953"
          ],
          [
           0.7777777777777778,
           "#fb9f3a"
          ],
          [
           0.8888888888888888,
           "#fdca26"
          ],
          [
           1,
           "#f0f921"
          ]
         ]
        },
        "height": 1000,
        "margin": {
         "t": 60
        },
        "template": {
         "data": {
          "bar": [
           {
            "error_x": {
             "color": "#2a3f5f"
            },
            "error_y": {
             "color": "#2a3f5f"
            },
            "marker": {
             "line": {
              "color": "#E5ECF6",
              "width": 0.5
             }
            },
            "type": "bar"
           }
          ],
          "barpolar": [
           {
            "marker": {
             "line": {
              "color": "#E5ECF6",
              "width": 0.5
             }
            },
            "type": "barpolar"
           }
          ],
          "carpet": [
           {
            "aaxis": {
             "endlinecolor": "#2a3f5f",
             "gridcolor": "white",
             "linecolor": "white",
             "minorgridcolor": "white",
             "startlinecolor": "#2a3f5f"
            },
            "baxis": {
             "endlinecolor": "#2a3f5f",
             "gridcolor": "white",
             "linecolor": "white",
             "minorgridcolor": "white",
             "startlinecolor": "#2a3f5f"
            },
            "type": "carpet"
           }
          ],
          "choropleth": [
           {
            "colorbar": {
             "outlinewidth": 0,
             "ticks": ""
            },
            "type": "choropleth"
           }
          ],
          "contour": [
           {
            "colorbar": {
             "outlinewidth": 0,
             "ticks": ""
            },
            "colorscale": [
             [
              0,
              "#0d0887"
             ],
             [
              0.1111111111111111,
              "#46039f"
             ],
             [
              0.2222222222222222,
              "#7201a8"
             ],
             [
              0.3333333333333333,
              "#9c179e"
             ],
             [
              0.4444444444444444,
              "#bd3786"
             ],
             [
              0.5555555555555556,
              "#d8576b"
             ],
             [
              0.6666666666666666,
              "#ed7953"
             ],
             [
              0.7777777777777778,
              "#fb9f3a"
             ],
             [
              0.8888888888888888,
              "#fdca26"
             ],
             [
              1,
              "#f0f921"
             ]
            ],
            "type": "contour"
           }
          ],
          "contourcarpet": [
           {
            "colorbar": {
             "outlinewidth": 0,
             "ticks": ""
            },
            "type": "contourcarpet"
           }
          ],
          "heatmap": [
           {
            "colorbar": {
             "outlinewidth": 0,
             "ticks": ""
            },
            "colorscale": [
             [
              0,
              "#0d0887"
             ],
             [
              0.1111111111111111,
              "#46039f"
             ],
             [
              0.2222222222222222,
              "#7201a8"
             ],
             [
              0.3333333333333333,
              "#9c179e"
             ],
             [
              0.4444444444444444,
              "#bd3786"
             ],
             [
              0.5555555555555556,
              "#d8576b"
             ],
             [
              0.6666666666666666,
              "#ed7953"
             ],
             [
              0.7777777777777778,
              "#fb9f3a"
             ],
             [
              0.8888888888888888,
              "#fdca26"
             ],
             [
              1,
              "#f0f921"
             ]
            ],
            "type": "heatmap"
           }
          ],
          "heatmapgl": [
           {
            "colorbar": {
             "outlinewidth": 0,
             "ticks": ""
            },
            "colorscale": [
             [
              0,
              "#0d0887"
             ],
             [
              0.1111111111111111,
              "#46039f"
             ],
             [
              0.2222222222222222,
              "#7201a8"
             ],
             [
              0.3333333333333333,
              "#9c179e"
             ],
             [
              0.4444444444444444,
              "#bd3786"
             ],
             [
              0.5555555555555556,
              "#d8576b"
             ],
             [
              0.6666666666666666,
              "#ed7953"
             ],
             [
              0.7777777777777778,
              "#fb9f3a"
             ],
             [
              0.8888888888888888,
              "#fdca26"
             ],
             [
              1,
              "#f0f921"
             ]
            ],
            "type": "heatmapgl"
           }
          ],
          "histogram": [
           {
            "marker": {
             "colorbar": {
              "outlinewidth": 0,
              "ticks": ""
             }
            },
            "type": "histogram"
           }
          ],
          "histogram2d": [
           {
            "colorbar": {
             "outlinewidth": 0,
             "ticks": ""
            },
            "colorscale": [
             [
              0,
              "#0d0887"
             ],
             [
              0.1111111111111111,
              "#46039f"
             ],
             [
              0.2222222222222222,
              "#7201a8"
             ],
             [
              0.3333333333333333,
              "#9c179e"
             ],
             [
              0.4444444444444444,
              "#bd3786"
             ],
             [
              0.5555555555555556,
              "#d8576b"
             ],
             [
              0.6666666666666666,
              "#ed7953"
             ],
             [
              0.7777777777777778,
              "#fb9f3a"
             ],
             [
              0.8888888888888888,
              "#fdca26"
             ],
             [
              1,
              "#f0f921"
             ]
            ],
            "type": "histogram2d"
           }
          ],
          "histogram2dcontour": [
           {
            "colorbar": {
             "outlinewidth": 0,
             "ticks": ""
            },
            "colorscale": [
             [
              0,
              "#0d0887"
             ],
             [
              0.1111111111111111,
              "#46039f"
             ],
             [
              0.2222222222222222,
              "#7201a8"
             ],
             [
              0.3333333333333333,
              "#9c179e"
             ],
             [
              0.4444444444444444,
              "#bd3786"
             ],
             [
              0.5555555555555556,
              "#d8576b"
             ],
             [
              0.6666666666666666,
              "#ed7953"
             ],
             [
              0.7777777777777778,
              "#fb9f3a"
             ],
             [
              0.8888888888888888,
              "#fdca26"
             ],
             [
              1,
              "#f0f921"
             ]
            ],
            "type": "histogram2dcontour"
           }
          ],
          "mesh3d": [
           {
            "colorbar": {
             "outlinewidth": 0,
             "ticks": ""
            },
            "type": "mesh3d"
           }
          ],
          "parcoords": [
           {
            "line": {
             "colorbar": {
              "outlinewidth": 0,
              "ticks": ""
             }
            },
            "type": "parcoords"
           }
          ],
          "pie": [
           {
            "automargin": true,
            "type": "pie"
           }
          ],
          "scatter": [
           {
            "marker": {
             "colorbar": {
              "outlinewidth": 0,
              "ticks": ""
             }
            },
            "type": "scatter"
           }
          ],
          "scatter3d": [
           {
            "line": {
             "colorbar": {
              "outlinewidth": 0,
              "ticks": ""
             }
            },
            "marker": {
             "colorbar": {
              "outlinewidth": 0,
              "ticks": ""
             }
            },
            "type": "scatter3d"
           }
          ],
          "scattercarpet": [
           {
            "marker": {
             "colorbar": {
              "outlinewidth": 0,
              "ticks": ""
             }
            },
            "type": "scattercarpet"
           }
          ],
          "scattergeo": [
           {
            "marker": {
             "colorbar": {
              "outlinewidth": 0,
              "ticks": ""
             }
            },
            "type": "scattergeo"
           }
          ],
          "scattergl": [
           {
            "marker": {
             "colorbar": {
              "outlinewidth": 0,
              "ticks": ""
             }
            },
            "type": "scattergl"
           }
          ],
          "scattermapbox": [
           {
            "marker": {
             "colorbar": {
              "outlinewidth": 0,
              "ticks": ""
             }
            },
            "type": "scattermapbox"
           }
          ],
          "scatterpolar": [
           {
            "marker": {
             "colorbar": {
              "outlinewidth": 0,
              "ticks": ""
             }
            },
            "type": "scatterpolar"
           }
          ],
          "scatterpolargl": [
           {
            "marker": {
             "colorbar": {
              "outlinewidth": 0,
              "ticks": ""
             }
            },
            "type": "scatterpolargl"
           }
          ],
          "scatterternary": [
           {
            "marker": {
             "colorbar": {
              "outlinewidth": 0,
              "ticks": ""
             }
            },
            "type": "scatterternary"
           }
          ],
          "surface": [
           {
            "colorbar": {
             "outlinewidth": 0,
             "ticks": ""
            },
            "colorscale": [
             [
              0,
              "#0d0887"
             ],
             [
              0.1111111111111111,
              "#46039f"
             ],
             [
              0.2222222222222222,
              "#7201a8"
             ],
             [
              0.3333333333333333,
              "#9c179e"
             ],
             [
              0.4444444444444444,
              "#bd3786"
             ],
             [
              0.5555555555555556,
              "#d8576b"
             ],
             [
              0.6666666666666666,
              "#ed7953"
             ],
             [
              0.7777777777777778,
              "#fb9f3a"
             ],
             [
              0.8888888888888888,
              "#fdca26"
             ],
             [
              1,
              "#f0f921"
             ]
            ],
            "type": "surface"
           }
          ],
          "table": [
           {
            "cells": {
             "fill": {
              "color": "#EBF0F8"
             },
             "line": {
              "color": "white"
             }
            },
            "header": {
             "fill": {
              "color": "#C8D4E3"
             },
             "line": {
              "color": "white"
             }
            },
            "type": "table"
           }
          ]
         },
         "layout": {
          "annotationdefaults": {
           "arrowcolor": "#2a3f5f",
           "arrowhead": 0,
           "arrowwidth": 1
          },
          "coloraxis": {
           "colorbar": {
            "outlinewidth": 0,
            "ticks": ""
           }
          },
          "colorscale": {
           "diverging": [
            [
             0,
             "#8e0152"
            ],
            [
             0.1,
             "#c51b7d"
            ],
            [
             0.2,
             "#de77ae"
            ],
            [
             0.3,
             "#f1b6da"
            ],
            [
             0.4,
             "#fde0ef"
            ],
            [
             0.5,
             "#f7f7f7"
            ],
            [
             0.6,
             "#e6f5d0"
            ],
            [
             0.7,
             "#b8e186"
            ],
            [
             0.8,
             "#7fbc41"
            ],
            [
             0.9,
             "#4d9221"
            ],
            [
             1,
             "#276419"
            ]
           ],
           "sequential": [
            [
             0,
             "#0d0887"
            ],
            [
             0.1111111111111111,
             "#46039f"
            ],
            [
             0.2222222222222222,
             "#7201a8"
            ],
            [
             0.3333333333333333,
             "#9c179e"
            ],
            [
             0.4444444444444444,
             "#bd3786"
            ],
            [
             0.5555555555555556,
             "#d8576b"
            ],
            [
             0.6666666666666666,
             "#ed7953"
            ],
            [
             0.7777777777777778,
             "#fb9f3a"
            ],
            [
             0.8888888888888888,
             "#fdca26"
            ],
            [
             1,
             "#f0f921"
            ]
           ],
           "sequentialminus": [
            [
             0,
             "#0d0887"
            ],
            [
             0.1111111111111111,
             "#46039f"
            ],
            [
             0.2222222222222222,
             "#7201a8"
            ],
            [
             0.3333333333333333,
             "#9c179e"
            ],
            [
             0.4444444444444444,
             "#bd3786"
            ],
            [
             0.5555555555555556,
             "#d8576b"
            ],
            [
             0.6666666666666666,
             "#ed7953"
            ],
            [
             0.7777777777777778,
             "#fb9f3a"
            ],
            [
             0.8888888888888888,
             "#fdca26"
            ],
            [
             1,
             "#f0f921"
            ]
           ]
          },
          "colorway": [
           "#636efa",
           "#EF553B",
           "#00cc96",
           "#ab63fa",
           "#FFA15A",
           "#19d3f3",
           "#FF6692",
           "#B6E880",
           "#FF97FF",
           "#FECB52"
          ],
          "font": {
           "color": "#2a3f5f"
          },
          "geo": {
           "bgcolor": "white",
           "lakecolor": "white",
           "landcolor": "#E5ECF6",
           "showlakes": true,
           "showland": true,
           "subunitcolor": "white"
          },
          "hoverlabel": {
           "align": "left"
          },
          "hovermode": "closest",
          "mapbox": {
           "style": "light"
          },
          "paper_bgcolor": "white",
          "plot_bgcolor": "#E5ECF6",
          "polar": {
           "angularaxis": {
            "gridcolor": "white",
            "linecolor": "white",
            "ticks": ""
           },
           "bgcolor": "#E5ECF6",
           "radialaxis": {
            "gridcolor": "white",
            "linecolor": "white",
            "ticks": ""
           }
          },
          "scene": {
           "xaxis": {
            "backgroundcolor": "#E5ECF6",
            "gridcolor": "white",
            "gridwidth": 2,
            "linecolor": "white",
            "showbackground": true,
            "ticks": "",
            "zerolinecolor": "white"
           },
           "yaxis": {
            "backgroundcolor": "#E5ECF6",
            "gridcolor": "white",
            "gridwidth": 2,
            "linecolor": "white",
            "showbackground": true,
            "ticks": "",
            "zerolinecolor": "white"
           },
           "zaxis": {
            "backgroundcolor": "#E5ECF6",
            "gridcolor": "white",
            "gridwidth": 2,
            "linecolor": "white",
            "showbackground": true,
            "ticks": "",
            "zerolinecolor": "white"
           }
          },
          "shapedefaults": {
           "line": {
            "color": "#2a3f5f"
           }
          },
          "ternary": {
           "aaxis": {
            "gridcolor": "white",
            "linecolor": "white",
            "ticks": ""
           },
           "baxis": {
            "gridcolor": "white",
            "linecolor": "white",
            "ticks": ""
           },
           "bgcolor": "#E5ECF6",
           "caxis": {
            "gridcolor": "white",
            "linecolor": "white",
            "ticks": ""
           }
          },
          "title": {
           "x": 0.05
          },
          "xaxis": {
           "automargin": true,
           "gridcolor": "white",
           "linecolor": "white",
           "ticks": "",
           "title": {
            "standoff": 15
           },
           "zerolinecolor": "white",
           "zerolinewidth": 2
          },
          "yaxis": {
           "automargin": true,
           "gridcolor": "white",
           "linecolor": "white",
           "ticks": "",
           "title": {
            "standoff": 15
           },
           "zerolinecolor": "white",
           "zerolinewidth": 2
          }
         }
        },
        "width": 1000,
        "xaxis": {
         "autorange": true,
         "constrain": "domain",
         "domain": [
          0,
          1
         ],
         "range": [
          -0.5,
          28.5
         ],
         "scaleanchor": "y",
         "type": "category"
        },
        "yaxis": {
         "autorange": true,
         "constrain": "domain",
         "domain": [
          0.0511968085106384,
          0.9488031914893617
         ],
         "range": [
          28.5,
          -0.5
         ],
         "type": "category"
        }
       }
      },
      "image/png": "[encoded data removed]",
      "text/html": [
       "<div>                            <div id=\"8d24211b-5dfe-453f-8f61-c616f6bc4e88\" class=\"plotly-graph-div\" style=\"height:1000px; width:1000px;\"></div>            <script type=\"text/javascript\">                require([\"plotly\"], function(Plotly) {                    window.PLOTLYENV=window.PLOTLYENV || {};                                    if (document.getElementById(\"8d24211b-5dfe-453f-8f61-c616f6bc4e88\")) {                    Plotly.newPlot(                        \"8d24211b-5dfe-453f-8f61-c616f6bc4e88\",                        [{\"coloraxis\": \"coloraxis\", \"hovertemplate\": \"x: %{x}<br>y: %{y}<br>color: %{z}<extra></extra>\", \"type\": \"heatmap\", \"x\": [\"const\", \"question_answer_count\", \"question_correct_count\", \"question_correct_ratio\", \"answered_count\", \"correct_count\", \"seen_explanation_count\", \"answer_elapsed_time_mean\", \"answer_elapsed_time_sum\", \"recently_solve_question\", \"recently_correct_answer\", \"correct_rate\", \"seen_explanation_rate\", \"total_answered_count\", \"total_correct_count\", \"total_seen_explanation_count\", \"total_answer_elapsed_time_mean\", \"total_answer_elapsed_time_sum\", \"total_recently_solve_question\", \"total_recently_correct_answer\", \"total_correct_rate\", \"total_seen_explanation_rate\", \"timestamp\", 2, 3, 4, 5, 6, 7], \"y\": [\"const\", \"question_answer_count\", \"question_correct_count\", \"question_correct_ratio\", \"answered_count\", \"correct_count\", \"seen_explanation_count\", \"answer_elapsed_time_mean\", \"answer_elapsed_time_sum\", \"recently_solve_question\", \"recently_correct_answer\", \"correct_rate\", \"seen_explanation_rate\", \"total_answered_count\", \"total_correct_count\", \"total_seen_explanation_count\", \"total_answer_elapsed_time_mean\", \"total_answer_elapsed_time_sum\", \"total_recently_solve_question\", \"total_recently_correct_answer\", \"total_correct_rate\", \"total_seen_explanation_rate\", \"timestamp\", 2, 3, 4, 5, 6, 7], \"z\": [[null, null, null, null, null, null, null, null, null, null, null, null, null, null, null, null, null, null, null, null, null, null, null, null, null, null, null, null, null], [null, 1.0, 0.8375436410970417, -0.6539337769132397, -0.19146479977143774, -0.19192913454647562, -0.19053242527006015, -0.1895065737253936, -0.18824052462144428, -0.19436100831256756, -0.23532490536027548, -0.3923416757525494, -0.6764425503243218, -0.19933440354845408, -0.19308600721949684, -0.19871730570978247, -0.1727881259929314, -0.19332282764268288, -0.19996006124632076, -0.229629483690431, -0.37191559439318833, -0.6716690017394256, -0.1857960121927461, -0.13210162562979497, -0.15984092439235367, 0.6397098080938218, -0.15917056605051946, -0.18947400382738933, -0.14114024421934182], [null, 0.8375436410970417, 1.0, -0.2975657452364529, -0.17588505745271032, -0.17649900065630808, -0.17542788949263285, -0.19310791477992165, -0.1757920002808072, -0.1693743867449537, -0.19069575979227346, -0.29824059955420446, -0.49423696512401805, -0.1851262350734692, -0.17987558157690353, -0.18489458979518947, -0.15859003815813058, -0.18048133752938703, -0.1729654642275287, -0.18700934391061896, -0.3094340875572343, -0.5297749413004827, -0.16304861778705315, 0.03272767370962205, -0.1508969855141707, 0.4485456553998029, -0.16487394064011845, -0.15539331999122485, -0.13916860391095434], [null, -0.6539337769132397, -0.2975657452364529, 1.0, 0.10243802128112686, 0.10474647380103103, 0.1040981815251159, 0.08679799205680024, 0.10120319864152424, 0.13090527297778654, 0.18378903999879215, 0.301218221053456, 0.5294510797304791, 0.12606159416141122, 0.12064989419790831, 0.12491950185875955, 0.09654402684330674, 0.12188062341101331, 0.13841937112052133, 0.17532397236187922, 0.2267916852141672, 0.46836757325316714, 0.12574761824523045, 0.27013254272822274, 0.12401197587560557, -0.48842870239506625, -0.023875921033322967, 0.13309552927331592, 0.07612818076161124], [null, -0.19146479977143774, -0.17588505745271032, 0.10243802128112686, 1.0, 0.9811196374240778, 0.9983245295224774, 0.05327428981252683, 0.8917483737053354, 0.30372949710326896, 0.06907773511773006, 0.1388997104570968, 0.27523267003277335, 0.7407670898259662, 0.7212502134314723, 0.7410398646933373, 0.06661000842273802, 0.6976082084455677, 0.30155481915782906, 0.06757877315816707, 0.18837677170810205, 0.33676293817706926, 0.2880511948927182, -0.04296729269697065, 0.04937099697041775, -0.11120701571309956, 0.05041441146712146, 0.09477998181537865, 0.021991824644792483], [null, -0.19192913454647562, -0.17649900065630808, 0.10474647380103103, 0.9811196374240778, 1.0, 0.9787688727937305, 0.0545866804917137, 0.8867041638401459, 0.3024697304842514, 0.08898267265278421, 0.17711217563150058, 0.2766137148236957, 0.7523738322951311, 0.7516490887353655, 0.7518902997409642, 0.06713019195771361, 0.7134156880036013, 0.30062380943467004, 0.08480814583359476, 0.22423114489112347, 0.3363503604320024, 0.28666502430166757, -0.03242077664243819, 0.05743636213653139, -0.11065913360007847, 0.029436738559319043, 0.10273210045868143, 0.023064892011879244], [null, -0.19053242527006015, -0.17542788949263285, 0.1040981815251159, 0.9983245295224774, 0.9787688727937305, 1.0, 0.05288856564746303, 0.8877145491557594, 0.30403239307265717, 0.07054867217646334, 0.14027063166935502, 0.287916390333614, 0.7349056450273117, 0.7145803036222796, 0.7374572038459758, 0.06760667591146839, 0.6914650863044314, 0.3017350072259589, 0.06874360429790696, 0.1865759628162937, 0.3445473354203808, 0.2883872623196767, -0.033285853733983024, 0.05069084961886914, -0.11094313660740153, 0.04180648637545123, 0.09627560392059109, 0.023160343342241162], [null, -0.1895065737253936, -0.19310791477992165, 0.08679799205680024, 0.05327428981252683, 0.0545866804917137, 0.05288856564746303, 1.0, 0.20841416695495338, 0.0824549645211154, 0.030678849270490444, 0.0667199272928629, 0.16418882865187345, 0.11702426317084097, 0.11336705819717915, 0.11610040877501286, 0.6970044933416046, 0.17656403064397366, 0.09238534245461352, 0.03344178123746004, 0.09472391179901563, 0.221006611262713, 0.0846290093393929, -0.22640615256082258, -0.013677490640841991, -0.15122154937797871, -0.033349606245048034, 0.24209746629925244, 0.5298553283084279], [null, -0.18824052462144428, -0.1757920002808072, 0.10120319864152424, 0.8917483737053354, 0.8867041638401459, 0.8877145491557594, 0.20841416695495338, 1.0, 0.302755383099939, 0.06767162852697019, 0.13484373030299276, 0.26353135143347856, 0.720772873629611, 0.7072904385707008, 0.7197884499679149, 0.1863428938361346, 0.7655205401593749, 0.3010472442920957, 0.06538591972570798, 0.18126031723050973, 0.32520187987921756, 0.28808071502556765, -0.07555077442377592, 0.03183306227503288, -0.11382399584296335, 0.02243954398842565, 0.1392772198815718, 0.11743118231869419], [null, -0.19436100831256756, -0.1693743867449537, 0.13090527297778654, 0.30372949710326896, 0.3024697304842514, 0.30403239307265717, 0.0824549645211154, 0.302755383099939, 1.0, 0.05981181506841642, 0.10897837334160612, 0.26351598235613866, 0.3488853147932958, 0.3385825713212772, 0.3472465871523873, 0.07616696149584024, 0.33890350074058023, 0.9652433157577386, 0.059079573522298125, 0.12881462808722663, 0.29600400303129915, 0.965916197518245, 0.002503882670838083, 0.06795694616961793, -0.1082761044346014, -0.016975734526288238, 0.08624725945305431, 0.05673807536731114], [null, -0.23532490536027548, -0.19069575979227346, 0.18378903999879215, 0.06907773511773006, 0.08898267265278421, 0.07054867217646334, 0.030678849270490444, 0.06767162852697019, 0.05981181506841642, 1.0, 0.5066294794709564, 0.24889891780472803, 0.07928393708265423, 0.08822133458712733, 0.07868796405038367, 0.03225964768883361, 0.07607097193735865, 0.061947628409320464, 0.8656094846875897, 0.37675190781604906, 0.22951204232583008, 0.05653101870696915, 0.10310252140333499, 0.06409256706870066, -0.1988344647743388, -0.01654061140044599, 0.0683966855932415, 0.023980443755226295], [null, -0.3923416757525494, -0.29824059955420446, 0.301218221053456, 0.1388997104570968, 0.17711217563150058, 0.14027063166935502, 0.0667199272928629, 0.13484373030299276, 0.10897837334160612, 0.5066294794709564, 1.0, 0.43592945526771887, 0.16146479644560593, 0.17783340230389136, 0.1587188508854104, 0.05986826007077532, 0.15546151311279685, 0.11142831884039321, 0.46695939004149917, 0.7470241885375188, 0.39804703290454035, 0.09749618984212981, 0.20707443796101072, 0.11559243380613313, -0.3448869915563588, -0.09470965450125268, 0.13203010541964114, 0.07487167165417016], [null, -0.6764425503243218, -0.49423696512401805, 0.5294510797304791, 0.27523267003277335, 0.2766137148236957, 0.287916390333614, 0.16418882865187345, 0.26353135143347856, 0.26351598235613866, 0.24889891780472803, 0.43592945526771887, 1.0, 0.2771175897891085, 0.2668219507386839, 0.2834288265869719, 0.16861615711834246, 0.2669821475345516, 0.2618855570774432, 0.23692525538852272, 0.3925219541656587, 0.8727496382948924, 0.24261972532173864, 0.2916020207790785, 0.17779182509735755, -0.5077017229905382, -0.10575190409560954, 0.2505863522080244, 0.14704833754436836], [null, -0.19933440354845408, -0.1851262350734692, 0.12606159416141122, 0.7407670898259662, 0.7523738322951311, 0.7349056450273117, 0.11702426317084097, 0.720772873629611, 0.3488853147932958, 0.07928393708265423, 0.16146479644560593, 0.2771175897891085, 1.0, 0.9902104415545314, 0.9984982860366071, 0.08702947076708922, 0.9593810014382816, 0.35230175809629904, 0.07692404621633067, 0.21731086853409462, 0.35716996680411534, 0.3339094053546424, -0.053844748725583626, 0.13143497853749322, -0.07239928053898663, -0.09923500320721883, 0.16074241122597696, 0.1234110270201699], [null, -0.19308600721949684, -0.17987558157690353, 0.12064989419790831, 0.7212502134314723, 0.7516490887353655, 0.7145803036222796, 0.11336705819717915, 0.7072904385707008, 0.3385825713212772, 0.08822133458712733, 0.17783340230389136, 0.2668219507386839, 0.9902104415545314, 1.0, 0.9882000935641374, 0.08263641512021497, 0.9513962796170358, 0.34177577735438996, 0.08465406312903541, 0.23932744792277144, 0.344402693695298, 0.323099449283724, -0.05238787038664739, 0.12824172041055418, -0.06806289007716165, -0.09875252138439596, 0.15679558619546005, 0.11908034194577571], [null, -0.19871730570978247, -0.18489458979518947, 0.12491950185875955, 0.7410398646933373, 0.7518902997409642, 0.7374572038459758, 0.11610040877501286, 0.7197884499679149, 0.3472465871523873, 0.07868796405038367, 0.1587188508854104, 0.2834288265869719, 0.9984982860366071, 0.9882000935641374, 1.0, 0.08665717849945055, 0.9574373310504237, 0.35029968224648494, 0.07590843545109359, 0.21423318639026756, 0.3631754451984288, 0.33211883621170474, -0.05242604526084344, 0.12867446850918482, -0.07117784590483031, -0.09799829558031832, 0.15886795057684883, 0.12181959931672728], [null, -0.1727881259929314, -0.15859003815813058, 0.09654402684330674, 0.06661000842273802, 0.06713019195771361, 0.06760667591146839, 0.6970044933416046, 0.1863428938361346, 0.07616696149584024, 0.03225964768883361, 0.05986826007077532, 0.16861615711834246, 0.08702947076708922, 0.08263641512021497, 0.08665717849945055, 1.0, 0.17499669049557212, 0.08268727855881243, 0.02855521128035806, 0.04104757418725858, 0.1576858800758107, 0.07633118848994871, -0.07296774131748503, 0.04304432440767309, -0.1032943257937225, -0.035079993307873314, 0.16436989647751468, 0.16673939176024433], [null, -0.19332282764268288, -0.18048133752938703, 0.12188062341101331, 0.6976082084455677, 0.7134156880036013, 0.6914650863044314, 0.17656403064397366, 0.7655205401593749, 0.33890350074058023, 0.07607097193735865, 0.15546151311279685, 0.2669821475345516, 0.9593810014382816, 0.9513962796170358, 0.9574373310504237, 0.17499669049557212, 1.0, 0.34216264259721757, 0.07382350441924625, 0.2067404212565919, 0.34297590931082195, 0.3256297696992633, -0.0604203365910288, 0.12875345841984498, -0.06911176538589153, -0.10312382076255883, 0.16347767282742498, 0.13793317273049055], [null, -0.19996006124632076, -0.1729654642275287, 0.13841937112052133, 0.30155481915782906, 0.30062380943467004, 0.3017350072259589, 0.09238534245461352, 0.3010472442920957, 0.9652433157577386, 0.061947628409320464, 0.11142831884039321, 0.2618855570774432, 0.35230175809629904, 0.34177577735438996, 0.35029968224648494, 0.08268727855881243, 0.34216264259721757, 1.0, 0.05966798542916277, 0.13465719465062764, 0.3049645720616943, 0.9568652894729133, -0.000709849986864385, 0.07312613382488445, -0.11260601352047392, -0.025094197032585436, 0.09909962338538227, 0.06613821319421527], [null, -0.229629483690431, -0.18700934391061896, 0.17532397236187922, 0.06757877315816707, 0.08480814583359476, 0.06874360429790696, 0.03344178123746004, 0.06538591972570798, 0.059079573522298125, 0.8656094846875897, 0.46695939004149917, 0.23692525538852272, 0.07692404621633067, 0.08465406312903541, 0.07590843545109359, 0.02855521128035806, 0.07382350441924625, 0.05966798542916277, 1.0, 0.37019422076796155, 0.22179175502626491, 0.05605318603795113, 0.09334401819560297, 0.05441077236210817, -0.19325245596675347, -0.004281783326429404, 0.0702880866061753, 0.02073789587900816], [null, -0.37191559439318833, -0.3094340875572343, 0.2267916852141672, 0.18837677170810205, 0.22423114489112347, 0.1865759628162937, 0.09472391179901563, 0.18126031723050973, 0.12881462808722663, 0.37675190781604906, 0.7470241885375188, 0.3925219541656587, 0.21731086853409462, 0.23932744792277144, 0.21423318639026756, 0.04104757418725858, 0.2067404212565919, 0.13465719465062764, 0.37019422076796155, 1.0, 0.45671636568575824, 0.12142134255880609, 0.04875051379477158, 0.13099721486628482, -0.26358449752285945, -0.04810326489091938, 0.14585140372931452, 0.10197303253775789], [null, -0.6716690017394256, -0.5297749413004827, 0.46836757325316714, 0.33676293817706926, 0.3363503604320024, 0.3445473354203808, 0.221006611262713, 0.32520187987921756, 0.29600400303129915, 0.22951204232583008, 0.39804703290454035, 0.8727496382948924, 0.35716996680411534, 0.344402693695298, 0.3631754451984288, 0.1576858800758107, 0.34297590931082195, 0.3049645720616943, 0.22179175502626491, 0.45671636568575824, 1.0, 0.28369802858093024, 0.08550162259580277, 0.204315485113606, -0.46465727040783433, -0.004573990195454527, 0.2657390098537248, 0.19100475730462257], [null, -0.1857960121927461, -0.16304861778705315, 0.12574761824523045, 0.2880511948927182, 0.28666502430166757, 0.2883872623196767, 0.0846290093393929, 0.28808071502556765, 0.965916197518245, 0.05653101870696915, 0.09749618984212981, 0.24261972532173864, 0.3339094053546424, 0.323099449283724, 0.33211883621170474, 0.07633118848994871, 0.3256297696992633, 0.9568652894729133, 0.05605318603795113, 0.12142134255880609, 0.28369802858093024, 1.0, -3.5924638549918125e-05, 0.06663945450221509, -0.10092261948289678, -0.025698194231882642, 0.09294581311254005, 0.06042821338856652], [null, -0.13210162562979497, 0.03272767370962205, 0.27013254272822274, -0.04296729269697065, -0.03242077664243819, -0.033285853733983024, -0.22640615256082258, -0.07555077442377592, 0.002503882670838083, 0.10310252140333499, 0.20707443796101072, 0.2916020207790785, -0.053844748725583626, -0.05238787038664739, -0.05242604526084344, -0.07296774131748503, -0.0604203365910288, -0.000709849986864385, 0.09334401819560297, 0.04875051379477158, 0.08550162259580277, -3.5924638549918125e-05, 1.0, -0.10573363459545114, -0.23725086107652352, -0.3420520950600852, -0.14856759587564447, -0.09109379073113946], [null, -0.15984092439235367, -0.1508969855141707, 0.12401197587560557, 0.04937099697041775, 0.05743636213653139, 0.05069084961886914, -0.013677490640841991, 0.03183306227503288, 0.06795694616961793, 0.06409256706870066, 0.11559243380613313, 0.17779182509735755, 0.13143497853749322, 0.12824172041055418, 0.12867446850918482, 0.04304432440767309, 0.12875345841984498, 0.07312613382488445, 0.05441077236210817, 0.13099721486628482, 0.204315485113606, 0.06663945450221509, -0.10573363459545114, 1.0, -0.12711384969974837, -0.18326407079675328, -0.07959928561139444, -0.04880607122361637], [null, 0.6397098080938218, 0.4485456553998029, -0.48842870239506625, -0.11120701571309956, -0.11065913360007847, -0.11094313660740153, -0.15122154937797871, -0.11382399584296335, -0.1082761044346014, -0.1988344647743388, -0.3448869915563588, -0.5077017229905382, -0.07239928053898663, -0.06806289007716165, -0.07117784590483031, -0.1032943257937225, -0.06911176538589153, -0.11260601352047392, -0.19325245596675347, -0.26358449752285945, -0.46465727040783433, -0.10092261948289678, -0.23725086107652352, -0.12711384969974837, 1.0, -0.4112178567139312, -0.17860919209535045, -0.10951370836612512], [null, -0.15917056605051946, -0.16487394064011845, -0.023875921033322967, 0.05041441146712146, 0.029436738559319043, 0.04180648637545123, -0.033349606245048034, 0.02243954398842565, -0.016975734526288238, -0.01654061140044599, -0.09470965450125268, -0.10575190409560954, -0.09923500320721883, -0.09875252138439596, -0.09799829558031832, -0.035079993307873314, -0.10312382076255883, -0.025094197032585436, -0.004281783326429404, -0.04810326489091938, -0.004573990195454527, -0.025698194231882642, -0.3420520950600852, -0.18326407079675328, -0.4112178567139312, 1.0, -0.2575065400223516, -0.15788938853340512], [null, -0.18947400382738933, -0.15539331999122485, 0.13309552927331592, 0.09477998181537865, 0.10273210045868143, 0.09627560392059109, 0.24209746629925244, 0.1392772198815718, 0.08624725945305431, 0.0683966855932415, 0.13203010541964114, 0.2505863522080244, 0.16074241122597696, 0.15679558619546005, 0.15886795057684883, 0.16436989647751468, 0.16347767282742498, 0.09909962338538227, 0.0702880866061753, 0.14585140372931452, 0.2657390098537248, 0.09294581311254005, -0.14856759587564447, -0.07959928561139444, -0.17860919209535045, -0.2575065400223516, 1.0, -0.06857799501141015], [null, -0.14114024421934182, -0.13916860391095434, 0.07612818076161124, 0.021991824644792483, 0.023064892011879244, 0.023160343342241162, 0.5298553283084279, 0.11743118231869419, 0.05673807536731114, 0.023980443755226295, 0.07487167165417016, 0.14704833754436836, 0.1234110270201699, 0.11908034194577571, 0.12181959931672728, 0.16673939176024433, 0.13793317273049055, 0.06613821319421527, 0.02073789587900816, 0.10197303253775789, 0.19100475730462257, 0.06042821338856652, -0.09109379073113946, -0.04880607122361637, -0.10951370836612512, -0.15788938853340512, -0.06857799501141015, 1.0]]}],                        {\"coloraxis\": {\"colorscale\": [[0.0, \"#0d0887\"], [0.1111111111111111, \"#46039f\"], [0.2222222222222222, \"#7201a8\"], [0.3333333333333333, \"#9c179e\"], [0.4444444444444444, \"#bd3786\"], [0.5555555555555556, \"#d8576b\"], [0.6666666666666666, \"#ed7953\"], [0.7777777777777778, \"#fb9f3a\"], [0.8888888888888888, \"#fdca26\"], [1.0, \"#f0f921\"]]}, \"height\": 1000, \"margin\": {\"t\": 60}, \"template\": {\"data\": {\"bar\": [{\"error_x\": {\"color\": \"#2a3f5f\"}, \"error_y\": {\"color\": \"#2a3f5f\"}, \"marker\": {\"line\": {\"color\": \"#E5ECF6\", \"width\": 0.5}}, \"type\": \"bar\"}], \"barpolar\": [{\"marker\": {\"line\": {\"color\": \"#E5ECF6\", \"width\": 0.5}}, \"type\": \"barpolar\"}], \"carpet\": [{\"aaxis\": {\"endlinecolor\": \"#2a3f5f\", \"gridcolor\": \"white\", \"linecolor\": \"white\", \"minorgridcolor\": \"white\", \"startlinecolor\": \"#2a3f5f\"}, \"baxis\": {\"endlinecolor\": \"#2a3f5f\", \"gridcolor\": \"white\", \"linecolor\": \"white\", \"minorgridcolor\": \"white\", \"startlinecolor\": \"#2a3f5f\"}, \"type\": \"carpet\"}], \"choropleth\": [{\"colorbar\": {\"outlinewidth\": 0, \"ticks\": \"\"}, \"type\": \"choropleth\"}], \"contour\": [{\"colorbar\": {\"outlinewidth\": 0, \"ticks\": \"\"}, \"colorscale\": [[0.0, \"#0d0887\"], [0.1111111111111111, \"#46039f\"], [0.2222222222222222, \"#7201a8\"], [0.3333333333333333, \"#9c179e\"], [0.4444444444444444, \"#bd3786\"], [0.5555555555555556, \"#d8576b\"], [0.6666666666666666, \"#ed7953\"], [0.7777777777777778, \"#fb9f3a\"], [0.8888888888888888, \"#fdca26\"], [1.0, \"#f0f921\"]], \"type\": \"contour\"}], \"contourcarpet\": [{\"colorbar\": {\"outlinewidth\": 0, \"ticks\": \"\"}, \"type\": \"contourcarpet\"}], \"heatmap\": [{\"colorbar\": {\"outlinewidth\": 0, \"ticks\": \"\"}, \"colorscale\": [[0.0, \"#0d0887\"], [0.1111111111111111, \"#46039f\"], [0.2222222222222222, \"#7201a8\"], [0.3333333333333333, \"#9c179e\"], [0.4444444444444444, \"#bd3786\"], [0.5555555555555556, \"#d8576b\"], [0.6666666666666666, \"#ed7953\"], [0.7777777777777778, \"#fb9f3a\"], [0.8888888888888888, \"#fdca26\"], [1.0, \"#f0f921\"]], \"type\": \"heatmap\"}], \"heatmapgl\": [{\"colorbar\": {\"outlinewidth\": 0, \"ticks\": \"\"}, \"colorscale\": [[0.0, \"#0d0887\"], [0.1111111111111111, \"#46039f\"], [0.2222222222222222, \"#7201a8\"], [0.3333333333333333, \"#9c179e\"], [0.4444444444444444, \"#bd3786\"], [0.5555555555555556, \"#d8576b\"], [0.6666666666666666, \"#ed7953\"], [0.7777777777777778, \"#fb9f3a\"], [0.8888888888888888, \"#fdca26\"], [1.0, \"#f0f921\"]], \"type\": \"heatmapgl\"}], \"histogram\": [{\"marker\": {\"colorbar\": {\"outlinewidth\": 0, \"ticks\": \"\"}}, \"type\": \"histogram\"}], \"histogram2d\": [{\"colorbar\": {\"outlinewidth\": 0, \"ticks\": \"\"}, \"colorscale\": [[0.0, \"#0d0887\"], [0.1111111111111111, \"#46039f\"], [0.2222222222222222, \"#7201a8\"], [0.3333333333333333, \"#9c179e\"], [0.4444444444444444, \"#bd3786\"], [0.5555555555555556, \"#d8576b\"], [0.6666666666666666, \"#ed7953\"], [0.7777777777777778, \"#fb9f3a\"], [0.8888888888888888, \"#fdca26\"], [1.0, \"#f0f921\"]], \"type\": \"histogram2d\"}], \"histogram2dcontour\": [{\"colorbar\": {\"outlinewidth\": 0, \"ticks\": \"\"}, \"colorscale\": [[0.0, \"#0d0887\"], [0.1111111111111111, \"#46039f\"], [0.2222222222222222, \"#7201a8\"], [0.3333333333333333, \"#9c179e\"], [0.4444444444444444, \"#bd3786\"], [0.5555555555555556, \"#d8576b\"], [0.6666666666666666, \"#ed7953\"], [0.7777777777777778, \"#fb9f3a\"], [0.8888888888888888, \"#fdca26\"], [1.0, \"#f0f921\"]], \"type\": \"histogram2dcontour\"}], \"mesh3d\": [{\"colorbar\": {\"outlinewidth\": 0, \"ticks\": \"\"}, \"type\": \"mesh3d\"}], \"parcoords\": [{\"line\": {\"colorbar\": {\"outlinewidth\": 0, \"ticks\": \"\"}}, \"type\": \"parcoords\"}], \"pie\": [{\"automargin\": true, \"type\": \"pie\"}], \"scatter\": [{\"marker\": {\"colorbar\": {\"outlinewidth\": 0, \"ticks\": \"\"}}, \"type\": \"scatter\"}], \"scatter3d\": [{\"line\": {\"colorbar\": {\"outlinewidth\": 0, \"ticks\": \"\"}}, \"marker\": {\"colorbar\": {\"outlinewidth\": 0, \"ticks\": \"\"}}, \"type\": \"scatter3d\"}], \"scattercarpet\": [{\"marker\": {\"colorbar\": {\"outlinewidth\": 0, \"ticks\": \"\"}}, \"type\": \"scattercarpet\"}], \"scattergeo\": [{\"marker\": {\"colorbar\": {\"outlinewidth\": 0, \"ticks\": \"\"}}, \"type\": \"scattergeo\"}], \"scattergl\": [{\"marker\": {\"colorbar\": {\"outlinewidth\": 0, \"ticks\": \"\"}}, \"type\": \"scattergl\"}], \"scattermapbox\": [{\"marker\": {\"colorbar\": {\"outlinewidth\": 0, \"ticks\": \"\"}}, \"type\": \"scattermapbox\"}], \"scatterpolar\": [{\"marker\": {\"colorbar\": {\"outlinewidth\": 0, \"ticks\": \"\"}}, \"type\": \"scatterpolar\"}], \"scatterpolargl\": [{\"marker\": {\"colorbar\": {\"outlinewidth\": 0, \"ticks\": \"\"}}, \"type\": \"scatterpolargl\"}], \"scatterternary\": [{\"marker\": {\"colorbar\": {\"outlinewidth\": 0, \"ticks\": \"\"}}, \"type\": \"scatterternary\"}], \"surface\": [{\"colorbar\": {\"outlinewidth\": 0, \"ticks\": \"\"}, \"colorscale\": [[0.0, \"#0d0887\"], [0.1111111111111111, \"#46039f\"], [0.2222222222222222, \"#7201a8\"], [0.3333333333333333, \"#9c179e\"], [0.4444444444444444, \"#bd3786\"], [0.5555555555555556, \"#d8576b\"], [0.6666666666666666, \"#ed7953\"], [0.7777777777777778, \"#fb9f3a\"], [0.8888888888888888, \"#fdca26\"], [1.0, \"#f0f921\"]], \"type\": \"surface\"}], \"table\": [{\"cells\": {\"fill\": {\"color\": \"#EBF0F8\"}, \"line\": {\"color\": \"white\"}}, \"header\": {\"fill\": {\"color\": \"#C8D4E3\"}, \"line\": {\"color\": \"white\"}}, \"type\": \"table\"}]}, \"layout\": {\"annotationdefaults\": {\"arrowcolor\": \"#2a3f5f\", \"arrowhead\": 0, \"arrowwidth\": 1}, \"coloraxis\": {\"colorbar\": {\"outlinewidth\": 0, \"ticks\": \"\"}}, \"colorscale\": {\"diverging\": [[0, \"#8e0152\"], [0.1, \"#c51b7d\"], [0.2, \"#de77ae\"], [0.3, \"#f1b6da\"], [0.4, \"#fde0ef\"], [0.5, \"#f7f7f7\"], [0.6, \"#e6f5d0\"], [0.7, \"#b8e186\"], [0.8, \"#7fbc41\"], [0.9, \"#4d9221\"], [1, \"#276419\"]], \"sequential\": [[0.0, \"#0d0887\"], [0.1111111111111111, \"#46039f\"], [0.2222222222222222, \"#7201a8\"], [0.3333333333333333, \"#9c179e\"], [0.4444444444444444, \"#bd3786\"], [0.5555555555555556, \"#d8576b\"], [0.6666666666666666, \"#ed7953\"], [0.7777777777777778, \"#fb9f3a\"], [0.8888888888888888, \"#fdca26\"], [1.0, \"#f0f921\"]], \"sequentialminus\": [[0.0, \"#0d0887\"], [0.1111111111111111, \"#46039f\"], [0.2222222222222222, \"#7201a8\"], [0.3333333333333333, \"#9c179e\"], [0.4444444444444444, \"#bd3786\"], [0.5555555555555556, \"#d8576b\"], [0.6666666666666666, \"#ed7953\"], [0.7777777777777778, \"#fb9f3a\"], [0.8888888888888888, \"#fdca26\"], [1.0, \"#f0f921\"]]}, \"colorway\": [\"#636efa\", \"#EF553B\", \"#00cc96\", \"#ab63fa\", \"#FFA15A\", \"#19d3f3\", \"#FF6692\", \"#B6E880\", \"#FF97FF\", \"#FECB52\"], \"font\": {\"color\": \"#2a3f5f\"}, \"geo\": {\"bgcolor\": \"white\", \"lakecolor\": \"white\", \"landcolor\": \"#E5ECF6\", \"showlakes\": true, \"showland\": true, \"subunitcolor\": \"white\"}, \"hoverlabel\": {\"align\": \"left\"}, \"hovermode\": \"closest\", \"mapbox\": {\"style\": \"light\"}, \"paper_bgcolor\": \"white\", \"plot_bgcolor\": \"#E5ECF6\", \"polar\": {\"angularaxis\": {\"gridcolor\": \"white\", \"linecolor\": \"white\", \"ticks\": \"\"}, \"bgcolor\": \"#E5ECF6\", \"radialaxis\": {\"gridcolor\": \"white\", \"linecolor\": \"white\", \"ticks\": \"\"}}, \"scene\": {\"xaxis\": {\"backgroundcolor\": \"#E5ECF6\", \"gridcolor\": \"white\", \"gridwidth\": 2, \"linecolor\": \"white\", \"showbackground\": true, \"ticks\": \"\", \"zerolinecolor\": \"white\"}, \"yaxis\": {\"backgroundcolor\": \"#E5ECF6\", \"gridcolor\": \"white\", \"gridwidth\": 2, \"linecolor\": \"white\", \"showbackground\": true, \"ticks\": \"\", \"zerolinecolor\": \"white\"}, \"zaxis\": {\"backgroundcolor\": \"#E5ECF6\", \"gridcolor\": \"white\", \"gridwidth\": 2, \"linecolor\": \"white\", \"showbackground\": true, \"ticks\": \"\", \"zerolinecolor\": \"white\"}}, \"shapedefaults\": {\"line\": {\"color\": \"#2a3f5f\"}}, \"ternary\": {\"aaxis\": {\"gridcolor\": \"white\", \"linecolor\": \"white\", \"ticks\": \"\"}, \"baxis\": {\"gridcolor\": \"white\", \"linecolor\": \"white\", \"ticks\": \"\"}, \"bgcolor\": \"#E5ECF6\", \"caxis\": {\"gridcolor\": \"white\", \"linecolor\": \"white\", \"ticks\": \"\"}}, \"title\": {\"x\": 0.05}, \"xaxis\": {\"automargin\": true, \"gridcolor\": \"white\", \"linecolor\": \"white\", \"ticks\": \"\", \"title\": {\"standoff\": 15}, \"zerolinecolor\": \"white\", \"zerolinewidth\": 2}, \"yaxis\": {\"automargin\": true, \"gridcolor\": \"white\", \"linecolor\": \"white\", \"ticks\": \"\", \"title\": {\"standoff\": 15}, \"zerolinecolor\": \"white\", \"zerolinewidth\": 2}}}, \"width\": 1000, \"xaxis\": {\"constrain\": \"domain\", \"scaleanchor\": \"y\"}, \"yaxis\": {\"autorange\": \"reversed\", \"constrain\": \"domain\"}},                        {\"responsive\": true}                    ).then(function(){\n",
       "                            \n",
       "var gd = document.getElementById('8d24211b-5dfe-453f-8f61-c616f6bc4e88');\n",
       "var x = new MutationObserver(function (mutations, observer) {{\n",
       "        var display = window.getComputedStyle(gd).display;\n",
       "        if (!display || display === 'none') {{\n",
       "            console.log([gd, 'removed!']);\n",
       "            Plotly.purge(gd);\n",
       "            observer.disconnect();\n",
       "        }}\n",
       "}});\n",
       "\n",
       "// Listen for the removal of the full notebook cells\n",
       "var notebookContainer = gd.closest('#notebook-container');\n",
       "if (notebookContainer) {{\n",
       "    x.observe(notebookContainer, {childList: true});\n",
       "}}\n",
       "\n",
       "// Listen for the clearing of the current output cell\n",
       "var outputEl = gd.closest('.output');\n",
       "if (outputEl) {{\n",
       "    x.observe(outputEl, {childList: true});\n",
       "}}\n",
       "\n",
       "                        })                };                });            </script>        </div>"
      ]
     },
     "metadata": {},
     "output_type": "display_data"
    }
   ],
   "source": [
    "px.imshow(X.corr(), width = 1000, height = 1000)"
   ]
  },
  {
   "cell_type": "code",
   "execution_count": null,
   "metadata": {},
   "outputs": [],
   "source": []
  },
  {
   "cell_type": "code",
   "execution_count": null,
   "metadata": {},
   "outputs": [],
   "source": []
  },
  {
   "cell_type": "code",
   "execution_count": null,
   "metadata": {},
   "outputs": [],
   "source": []
  },
  {
   "cell_type": "code",
   "execution_count": null,
   "metadata": {},
   "outputs": [],
   "source": []
  },
  {
   "cell_type": "code",
   "execution_count": 27,
   "metadata": {},
   "outputs": [],
   "source": [
    "lecture_data = pd.read_csv('../resources/input/lectures.csv')"
   ]
  },
  {
   "cell_type": "code",
   "execution_count": 33,
   "metadata": {},
   "outputs": [],
   "source": [
    "lecture_viewed_data = log_data[log_data['content_type_id'] == 1]"
   ]
  },
  {
   "cell_type": "code",
   "execution_count": 35,
   "metadata": {},
   "outputs": [],
   "source": [
    "lecture_viewed_data = pd.merge(lecture_viewed_data, lecture_data, left_on = ['content_id'], right_on = ['lecture_id'])"
   ]
  },
  {
   "cell_type": "code",
   "execution_count": 40,
   "metadata": {},
   "outputs": [],
   "source": [
    "user_gp = lecture_viewed_data.groupby(['user_id', 'part', 'type_of'])"
   ]
  },
  {
   "cell_type": "code",
   "execution_count": 48,
   "metadata": {},
   "outputs": [],
   "source": [
    "type_data = user_gp[['row_id']].count()\\\n",
    "                               .rename(columns = {'row_id': 'type_count'})\\\n",
    "                               .reset_index()"
   ]
  },
  {
   "cell_type": "code",
   "execution_count": 63,
   "metadata": {},
   "outputs": [
    {
     "data": {
      "text/html": [
       "<div>\n",
       "<style scoped>\n",
       "    .dataframe tbody tr th:only-of-type {\n",
       "        vertical-align: middle;\n",
       "    }\n",
       "\n",
       "    .dataframe tbody tr th {\n",
       "        vertical-align: top;\n",
       "    }\n",
       "\n",
       "    .dataframe thead th {\n",
       "        text-align: right;\n",
       "    }\n",
       "</style>\n",
       "<table border=\"1\" class=\"dataframe\">\n",
       "  <thead>\n",
       "    <tr style=\"text-align: right;\">\n",
       "      <th>type_of</th>\n",
       "      <th>user_id</th>\n",
       "      <th>part</th>\n",
       "      <th>concept</th>\n",
       "      <th>intention</th>\n",
       "      <th>solving question</th>\n",
       "      <th>starter</th>\n",
       "    </tr>\n",
       "  </thead>\n",
       "  <tbody>\n",
       "    <tr>\n",
       "      <th>0</th>\n",
       "      <td>13134</td>\n",
       "      <td>1</td>\n",
       "      <td>1.0</td>\n",
       "      <td>0.0</td>\n",
       "      <td>0.0</td>\n",
       "      <td>0.0</td>\n",
       "    </tr>\n",
       "    <tr>\n",
       "      <th>1</th>\n",
       "      <td>13134</td>\n",
       "      <td>2</td>\n",
       "      <td>2.0</td>\n",
       "      <td>1.0</td>\n",
       "      <td>0.0</td>\n",
       "      <td>0.0</td>\n",
       "    </tr>\n",
       "    <tr>\n",
       "      <th>2</th>\n",
       "      <td>13134</td>\n",
       "      <td>5</td>\n",
       "      <td>3.0</td>\n",
       "      <td>0.0</td>\n",
       "      <td>0.0</td>\n",
       "      <td>0.0</td>\n",
       "    </tr>\n",
       "    <tr>\n",
       "      <th>3</th>\n",
       "      <td>44331</td>\n",
       "      <td>1</td>\n",
       "      <td>1.0</td>\n",
       "      <td>0.0</td>\n",
       "      <td>0.0</td>\n",
       "      <td>0.0</td>\n",
       "    </tr>\n",
       "    <tr>\n",
       "      <th>4</th>\n",
       "      <td>44331</td>\n",
       "      <td>6</td>\n",
       "      <td>2.0</td>\n",
       "      <td>0.0</td>\n",
       "      <td>0.0</td>\n",
       "      <td>0.0</td>\n",
       "    </tr>\n",
       "    <tr>\n",
       "      <th>...</th>\n",
       "      <td>...</td>\n",
       "      <td>...</td>\n",
       "      <td>...</td>\n",
       "      <td>...</td>\n",
       "      <td>...</td>\n",
       "      <td>...</td>\n",
       "    </tr>\n",
       "    <tr>\n",
       "      <th>44189</th>\n",
       "      <td>2146489607</td>\n",
       "      <td>5</td>\n",
       "      <td>5.0</td>\n",
       "      <td>0.0</td>\n",
       "      <td>0.0</td>\n",
       "      <td>0.0</td>\n",
       "    </tr>\n",
       "    <tr>\n",
       "      <th>44190</th>\n",
       "      <td>2146621766</td>\n",
       "      <td>2</td>\n",
       "      <td>1.0</td>\n",
       "      <td>1.0</td>\n",
       "      <td>0.0</td>\n",
       "      <td>0.0</td>\n",
       "    </tr>\n",
       "    <tr>\n",
       "      <th>44191</th>\n",
       "      <td>2146621766</td>\n",
       "      <td>3</td>\n",
       "      <td>1.0</td>\n",
       "      <td>0.0</td>\n",
       "      <td>0.0</td>\n",
       "      <td>0.0</td>\n",
       "    </tr>\n",
       "    <tr>\n",
       "      <th>44192</th>\n",
       "      <td>2146621766</td>\n",
       "      <td>5</td>\n",
       "      <td>17.0</td>\n",
       "      <td>0.0</td>\n",
       "      <td>2.0</td>\n",
       "      <td>0.0</td>\n",
       "    </tr>\n",
       "    <tr>\n",
       "      <th>44193</th>\n",
       "      <td>2146621766</td>\n",
       "      <td>7</td>\n",
       "      <td>5.0</td>\n",
       "      <td>0.0</td>\n",
       "      <td>0.0</td>\n",
       "      <td>0.0</td>\n",
       "    </tr>\n",
       "  </tbody>\n",
       "</table>\n",
       "<p>44194 rows × 6 columns</p>\n",
       "</div>"
      ],
      "text/plain": [
       "type_of     user_id  part  concept  intention  solving question  starter\n",
       "0             13134     1      1.0        0.0               0.0      0.0\n",
       "1             13134     2      2.0        1.0               0.0      0.0\n",
       "2             13134     5      3.0        0.0               0.0      0.0\n",
       "3             44331     1      1.0        0.0               0.0      0.0\n",
       "4             44331     6      2.0        0.0               0.0      0.0\n",
       "...             ...   ...      ...        ...               ...      ...\n",
       "44189    2146489607     5      5.0        0.0               0.0      0.0\n",
       "44190    2146621766     2      1.0        1.0               0.0      0.0\n",
       "44191    2146621766     3      1.0        0.0               0.0      0.0\n",
       "44192    2146621766     5     17.0        0.0               2.0      0.0\n",
       "44193    2146621766     7      5.0        0.0               0.0      0.0\n",
       "\n",
       "[44194 rows x 6 columns]"
      ]
     },
     "execution_count": 63,
     "metadata": {},
     "output_type": "execute_result"
    }
   ],
   "source": [
    "type_data.pivot(columns = ['type_of'], index = ['user_id', 'part'], values = ['type_count'])['type_count']\\\n",
    "         .fillna(0)\\\n",
    "         .reset_index()"
   ]
  },
  {
   "cell_type": "code",
   "execution_count": 55,
   "metadata": {},
   "outputs": [],
   "source": [
    "part_data = lecture_viewed_data[['user_id', 'part']].join(pd.get_dummies(lecture_viewed_data['type_of'], prefix = 'type_of'))"
   ]
  },
  {
   "cell_type": "code",
   "execution_count": 62,
   "metadata": {},
   "outputs": [
    {
     "data": {
      "text/html": [
       "<div>\n",
       "<style scoped>\n",
       "    .dataframe tbody tr th:only-of-type {\n",
       "        vertical-align: middle;\n",
       "    }\n",
       "\n",
       "    .dataframe tbody tr th {\n",
       "        vertical-align: top;\n",
       "    }\n",
       "\n",
       "    .dataframe thead th {\n",
       "        text-align: right;\n",
       "    }\n",
       "</style>\n",
       "<table border=\"1\" class=\"dataframe\">\n",
       "  <thead>\n",
       "    <tr style=\"text-align: right;\">\n",
       "      <th></th>\n",
       "      <th>user_id</th>\n",
       "      <th>part</th>\n",
       "      <th>type_of_concept</th>\n",
       "      <th>type_of_intention</th>\n",
       "      <th>type_of_solving question</th>\n",
       "      <th>type_of_starter</th>\n",
       "    </tr>\n",
       "  </thead>\n",
       "  <tbody>\n",
       "    <tr>\n",
       "      <th>0</th>\n",
       "      <td>13134</td>\n",
       "      <td>1</td>\n",
       "      <td>1</td>\n",
       "      <td>0</td>\n",
       "      <td>0</td>\n",
       "      <td>0</td>\n",
       "    </tr>\n",
       "    <tr>\n",
       "      <th>1</th>\n",
       "      <td>13134</td>\n",
       "      <td>2</td>\n",
       "      <td>2</td>\n",
       "      <td>1</td>\n",
       "      <td>0</td>\n",
       "      <td>0</td>\n",
       "    </tr>\n",
       "    <tr>\n",
       "      <th>2</th>\n",
       "      <td>13134</td>\n",
       "      <td>5</td>\n",
       "      <td>3</td>\n",
       "      <td>0</td>\n",
       "      <td>0</td>\n",
       "      <td>0</td>\n",
       "    </tr>\n",
       "    <tr>\n",
       "      <th>3</th>\n",
       "      <td>44331</td>\n",
       "      <td>1</td>\n",
       "      <td>1</td>\n",
       "      <td>0</td>\n",
       "      <td>0</td>\n",
       "      <td>0</td>\n",
       "    </tr>\n",
       "    <tr>\n",
       "      <th>4</th>\n",
       "      <td>44331</td>\n",
       "      <td>6</td>\n",
       "      <td>2</td>\n",
       "      <td>0</td>\n",
       "      <td>0</td>\n",
       "      <td>0</td>\n",
       "    </tr>\n",
       "    <tr>\n",
       "      <th>...</th>\n",
       "      <td>...</td>\n",
       "      <td>...</td>\n",
       "      <td>...</td>\n",
       "      <td>...</td>\n",
       "      <td>...</td>\n",
       "      <td>...</td>\n",
       "    </tr>\n",
       "    <tr>\n",
       "      <th>44189</th>\n",
       "      <td>2146489607</td>\n",
       "      <td>5</td>\n",
       "      <td>5</td>\n",
       "      <td>0</td>\n",
       "      <td>0</td>\n",
       "      <td>0</td>\n",
       "    </tr>\n",
       "    <tr>\n",
       "      <th>44190</th>\n",
       "      <td>2146621766</td>\n",
       "      <td>2</td>\n",
       "      <td>1</td>\n",
       "      <td>1</td>\n",
       "      <td>0</td>\n",
       "      <td>0</td>\n",
       "    </tr>\n",
       "    <tr>\n",
       "      <th>44191</th>\n",
       "      <td>2146621766</td>\n",
       "      <td>3</td>\n",
       "      <td>1</td>\n",
       "      <td>0</td>\n",
       "      <td>0</td>\n",
       "      <td>0</td>\n",
       "    </tr>\n",
       "    <tr>\n",
       "      <th>44192</th>\n",
       "      <td>2146621766</td>\n",
       "      <td>5</td>\n",
       "      <td>17</td>\n",
       "      <td>0</td>\n",
       "      <td>2</td>\n",
       "      <td>0</td>\n",
       "    </tr>\n",
       "    <tr>\n",
       "      <th>44193</th>\n",
       "      <td>2146621766</td>\n",
       "      <td>7</td>\n",
       "      <td>5</td>\n",
       "      <td>0</td>\n",
       "      <td>0</td>\n",
       "      <td>0</td>\n",
       "    </tr>\n",
       "  </tbody>\n",
       "</table>\n",
       "<p>44194 rows × 6 columns</p>\n",
       "</div>"
      ],
      "text/plain": [
       "          user_id  part  type_of_concept  type_of_intention  \\\n",
       "0           13134     1                1                  0   \n",
       "1           13134     2                2                  1   \n",
       "2           13134     5                3                  0   \n",
       "3           44331     1                1                  0   \n",
       "4           44331     6                2                  0   \n",
       "...           ...   ...              ...                ...   \n",
       "44189  2146489607     5                5                  0   \n",
       "44190  2146621766     2                1                  1   \n",
       "44191  2146621766     3                1                  0   \n",
       "44192  2146621766     5               17                  0   \n",
       "44193  2146621766     7                5                  0   \n",
       "\n",
       "       type_of_solving question  type_of_starter  \n",
       "0                             0                0  \n",
       "1                             0                0  \n",
       "2                             0                0  \n",
       "3                             0                0  \n",
       "4                             0                0  \n",
       "...                         ...              ...  \n",
       "44189                         0                0  \n",
       "44190                         0                0  \n",
       "44191                         0                0  \n",
       "44192                         2                0  \n",
       "44193                         0                0  \n",
       "\n",
       "[44194 rows x 6 columns]"
      ]
     },
     "execution_count": 62,
     "metadata": {},
     "output_type": "execute_result"
    }
   ],
   "source": [
    "part_data.groupby(['user_id', 'part'])[[\"type_of_concept\", \"type_of_intention\", \"type_of_solving question\", \"type_of_starter\"]].sum().reset_index()"
   ]
  },
  {
   "cell_type": "code",
   "execution_count": null,
   "metadata": {},
   "outputs": [],
   "source": []
  },
  {
   "cell_type": "code",
   "execution_count": null,
   "metadata": {},
   "outputs": [],
   "source": []
  },
  {
   "cell_type": "code",
   "execution_count": null,
   "metadata": {},
   "outputs": [],
   "source": []
  },
  {
   "cell_type": "code",
   "execution_count": null,
   "metadata": {},
   "outputs": [],
   "source": []
  },
  {
   "cell_type": "code",
   "execution_count": null,
   "metadata": {},
   "outputs": [],
   "source": []
  }
 ],
 "metadata": {
  "kernelspec": {
   "display_name": "Python 3",
   "language": "python",
   "name": "python3"
  },
  "language_info": {
   "codemirror_mode": {
    "name": "ipython",
    "version": 3
   },
   "file_extension": ".py",
   "mimetype": "text/x-python",
   "name": "python",
   "nbconvert_exporter": "python",
   "pygments_lexer": "ipython3",
   "version": "3.8.2"
  }
 },
 "nbformat": 4,
 "nbformat_minor": 4
}
